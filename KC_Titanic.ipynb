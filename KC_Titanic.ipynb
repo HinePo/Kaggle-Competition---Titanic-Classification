{
  "nbformat": 4,
  "nbformat_minor": 0,
  "metadata": {
    "colab": {
      "name": "KC - Titanic.ipynb",
      "provenance": [],
      "collapsed_sections": [],
      "toc_visible": true,
      "authorship_tag": "ABX9TyNPkYNhzxv2j2JUC0MvEAKN",
      "include_colab_link": true
    },
    "kernelspec": {
      "name": "python3",
      "display_name": "Python 3"
    },
    "accelerator": "GPU"
  },
  "cells": [
    {
      "cell_type": "markdown",
      "metadata": {
        "id": "view-in-github",
        "colab_type": "text"
      },
      "source": [
        "<a href=\"https://colab.research.google.com/github/HinePo/Kaggle-Competition---Titanic-Classification/blob/main/KC_Titanic.ipynb\" target=\"_parent\"><img src=\"https://colab.research.google.com/assets/colab-badge.svg\" alt=\"Open In Colab\"/></a>"
      ]
    },
    {
      "cell_type": "markdown",
      "metadata": {
        "id": "f4YnR8Rv2q2N"
      },
      "source": [
        "# Titanic Survival Prediction"
      ]
    },
    {
      "cell_type": "code",
      "metadata": {
        "id": "JQsF1Uqx2qFY",
        "colab": {
          "base_uri": "https://localhost:8080/",
          "height": 71
        },
        "outputId": "9ba2df89-5900-4013-cbc2-86ff0632f627"
      },
      "source": [
        "# Essentials\n",
        "import numpy as np\n",
        "import pandas as pd\n",
        "import matplotlib.pyplot as plt\n",
        "plt.style.use('bmh')\n",
        "import seaborn as sns\n",
        "\n",
        "# utils\n",
        "from sklearn.model_selection import train_test_split, cross_val_score, KFold\n",
        "\n",
        "# models\n",
        "from sklearn.ensemble import RandomForestClassifier, ExtraTreesClassifier, GradientBoostingClassifier, StackingClassifier, VotingClassifier\n",
        "from sklearn.svm import LinearSVC\n",
        "from xgboost import XGBClassifier\n",
        "from sklearn.neural_network import MLPClassifier\n",
        "from sklearn import tree\n",
        "from sklearn.preprocessing import StandardScaler\n",
        "from sklearn.pipeline import Pipeline\n",
        "from sklearn.linear_model import LogisticRegression\n",
        "\n",
        "# evaluation\n",
        "from sklearn import metrics\n",
        "from sklearn.metrics import classification_report, confusion_matrix\n"
      ],
      "execution_count": null,
      "outputs": [
        {
          "output_type": "stream",
          "text": [
            "/usr/local/lib/python3.6/dist-packages/statsmodels/tools/_testing.py:19: FutureWarning: pandas.util.testing is deprecated. Use the functions in the public API at pandas.testing instead.\n",
            "  import pandas.util.testing as tm\n"
          ],
          "name": "stderr"
        }
      ]
    },
    {
      "cell_type": "code",
      "metadata": {
        "id": "MWAYt5w82p06",
        "colab": {
          "base_uri": "https://localhost:8080/",
          "height": 255
        },
        "outputId": "cad8cf62-8e8e-4d71-a29c-4bc7747e576b"
      },
      "source": [
        "df_original = pd.read_csv('/content/train.csv')\n",
        "df_original.head()"
      ],
      "execution_count": null,
      "outputs": [
        {
          "output_type": "execute_result",
          "data": {
            "text/html": [
              "<div>\n",
              "<style scoped>\n",
              "    .dataframe tbody tr th:only-of-type {\n",
              "        vertical-align: middle;\n",
              "    }\n",
              "\n",
              "    .dataframe tbody tr th {\n",
              "        vertical-align: top;\n",
              "    }\n",
              "\n",
              "    .dataframe thead th {\n",
              "        text-align: right;\n",
              "    }\n",
              "</style>\n",
              "<table border=\"1\" class=\"dataframe\">\n",
              "  <thead>\n",
              "    <tr style=\"text-align: right;\">\n",
              "      <th></th>\n",
              "      <th>PassengerId</th>\n",
              "      <th>Survived</th>\n",
              "      <th>Pclass</th>\n",
              "      <th>Name</th>\n",
              "      <th>Sex</th>\n",
              "      <th>Age</th>\n",
              "      <th>SibSp</th>\n",
              "      <th>Parch</th>\n",
              "      <th>Ticket</th>\n",
              "      <th>Fare</th>\n",
              "      <th>Cabin</th>\n",
              "      <th>Embarked</th>\n",
              "    </tr>\n",
              "  </thead>\n",
              "  <tbody>\n",
              "    <tr>\n",
              "      <th>0</th>\n",
              "      <td>1</td>\n",
              "      <td>0</td>\n",
              "      <td>3</td>\n",
              "      <td>Braund, Mr. Owen Harris</td>\n",
              "      <td>male</td>\n",
              "      <td>22.0</td>\n",
              "      <td>1</td>\n",
              "      <td>0</td>\n",
              "      <td>A/5 21171</td>\n",
              "      <td>7.2500</td>\n",
              "      <td>NaN</td>\n",
              "      <td>S</td>\n",
              "    </tr>\n",
              "    <tr>\n",
              "      <th>1</th>\n",
              "      <td>2</td>\n",
              "      <td>1</td>\n",
              "      <td>1</td>\n",
              "      <td>Cumings, Mrs. John Bradley (Florence Briggs Th...</td>\n",
              "      <td>female</td>\n",
              "      <td>38.0</td>\n",
              "      <td>1</td>\n",
              "      <td>0</td>\n",
              "      <td>PC 17599</td>\n",
              "      <td>71.2833</td>\n",
              "      <td>C85</td>\n",
              "      <td>C</td>\n",
              "    </tr>\n",
              "    <tr>\n",
              "      <th>2</th>\n",
              "      <td>3</td>\n",
              "      <td>1</td>\n",
              "      <td>3</td>\n",
              "      <td>Heikkinen, Miss. Laina</td>\n",
              "      <td>female</td>\n",
              "      <td>26.0</td>\n",
              "      <td>0</td>\n",
              "      <td>0</td>\n",
              "      <td>STON/O2. 3101282</td>\n",
              "      <td>7.9250</td>\n",
              "      <td>NaN</td>\n",
              "      <td>S</td>\n",
              "    </tr>\n",
              "    <tr>\n",
              "      <th>3</th>\n",
              "      <td>4</td>\n",
              "      <td>1</td>\n",
              "      <td>1</td>\n",
              "      <td>Futrelle, Mrs. Jacques Heath (Lily May Peel)</td>\n",
              "      <td>female</td>\n",
              "      <td>35.0</td>\n",
              "      <td>1</td>\n",
              "      <td>0</td>\n",
              "      <td>113803</td>\n",
              "      <td>53.1000</td>\n",
              "      <td>C123</td>\n",
              "      <td>S</td>\n",
              "    </tr>\n",
              "    <tr>\n",
              "      <th>4</th>\n",
              "      <td>5</td>\n",
              "      <td>0</td>\n",
              "      <td>3</td>\n",
              "      <td>Allen, Mr. William Henry</td>\n",
              "      <td>male</td>\n",
              "      <td>35.0</td>\n",
              "      <td>0</td>\n",
              "      <td>0</td>\n",
              "      <td>373450</td>\n",
              "      <td>8.0500</td>\n",
              "      <td>NaN</td>\n",
              "      <td>S</td>\n",
              "    </tr>\n",
              "  </tbody>\n",
              "</table>\n",
              "</div>"
            ],
            "text/plain": [
              "   PassengerId  Survived  Pclass  ...     Fare Cabin  Embarked\n",
              "0            1         0       3  ...   7.2500   NaN         S\n",
              "1            2         1       1  ...  71.2833   C85         C\n",
              "2            3         1       3  ...   7.9250   NaN         S\n",
              "3            4         1       1  ...  53.1000  C123         S\n",
              "4            5         0       3  ...   8.0500   NaN         S\n",
              "\n",
              "[5 rows x 12 columns]"
            ]
          },
          "metadata": {
            "tags": []
          },
          "execution_count": 2
        }
      ]
    },
    {
      "cell_type": "code",
      "metadata": {
        "id": "U7Hz2TcgKRTI",
        "colab": {
          "base_uri": "https://localhost:8080/",
          "height": 34
        },
        "outputId": "77577dad-00c9-4ffc-b93f-cd6a0d139c33"
      },
      "source": [
        "df_original.shape"
      ],
      "execution_count": null,
      "outputs": [
        {
          "output_type": "execute_result",
          "data": {
            "text/plain": [
              "(891, 12)"
            ]
          },
          "metadata": {
            "tags": []
          },
          "execution_count": 3
        }
      ]
    },
    {
      "cell_type": "code",
      "metadata": {
        "id": "tnGlREBHEGuf",
        "colab": {
          "base_uri": "https://localhost:8080/",
          "height": 68
        },
        "outputId": "11ecfdde-f7a1-43d6-b638-a0459cbb33ee"
      },
      "source": [
        "df_original.columns"
      ],
      "execution_count": null,
      "outputs": [
        {
          "output_type": "execute_result",
          "data": {
            "text/plain": [
              "Index(['PassengerId', 'Survived', 'Pclass', 'Name', 'Sex', 'Age', 'SibSp',\n",
              "       'Parch', 'Ticket', 'Fare', 'Cabin', 'Embarked'],\n",
              "      dtype='object')"
            ]
          },
          "metadata": {
            "tags": []
          },
          "execution_count": 4
        }
      ]
    },
    {
      "cell_type": "markdown",
      "metadata": {
        "id": "j21FWWKYGSnt"
      },
      "source": [
        "# Exploring some columns"
      ]
    },
    {
      "cell_type": "code",
      "metadata": {
        "id": "yJFU5PhFTiRJ",
        "colab": {
          "base_uri": "https://localhost:8080/",
          "height": 609
        },
        "outputId": "30473387-dfe0-4786-cb2d-0e1a206e5fa1"
      },
      "source": [
        "corr = df_original.corr()\n",
        "plt.figure(figsize=(10,10))\n",
        "sns.heatmap(corr, annot = True, vmin=-1, vmax=1, center= 0, cmap= 'coolwarm')"
      ],
      "execution_count": null,
      "outputs": [
        {
          "output_type": "execute_result",
          "data": {
            "text/plain": [
              "<matplotlib.axes._subplots.AxesSubplot at 0x7ff515cfdfd0>"
            ]
          },
          "metadata": {
            "tags": []
          },
          "execution_count": 5
        },
        {
          "output_type": "display_data",
          "data": {
            "image/png": "[encoded data removed]",
            "text/plain": [
              "<Figure size 720x720 with 2 Axes>"
            ]
          },
          "metadata": {
            "tags": [],
            "needs_background": "light"
          }
        }
      ]
    },
    {
      "cell_type": "code",
      "metadata": {
        "id": "ojve_2j7DYkP",
        "colab": {
          "base_uri": "https://localhost:8080/",
          "height": 452
        },
        "outputId": "52e2111a-3407-4dc6-e8ea-85d1805c8c3c"
      },
      "source": [
        "# # SibSp and Survived: no apparent relation\n",
        "# SibSp: Number of siblings / spouses aboard the Titanic\n",
        "df_original.groupby(['SibSp', 'Survived']).count()"
      ],
      "execution_count": null,
      "outputs": [
        {
          "output_type": "execute_result",
          "data": {
            "text/html": [
              "<div>\n",
              "<style scoped>\n",
              "    .dataframe tbody tr th:only-of-type {\n",
              "        vertical-align: middle;\n",
              "    }\n",
              "\n",
              "    .dataframe tbody tr th {\n",
              "        vertical-align: top;\n",
              "    }\n",
              "\n",
              "    .dataframe thead th {\n",
              "        text-align: right;\n",
              "    }\n",
              "</style>\n",
              "<table border=\"1\" class=\"dataframe\">\n",
              "  <thead>\n",
              "    <tr style=\"text-align: right;\">\n",
              "      <th></th>\n",
              "      <th></th>\n",
              "      <th>PassengerId</th>\n",
              "      <th>Pclass</th>\n",
              "      <th>Name</th>\n",
              "      <th>Sex</th>\n",
              "      <th>Age</th>\n",
              "      <th>Parch</th>\n",
              "      <th>Ticket</th>\n",
              "      <th>Fare</th>\n",
              "      <th>Cabin</th>\n",
              "      <th>Embarked</th>\n",
              "    </tr>\n",
              "    <tr>\n",
              "      <th>SibSp</th>\n",
              "      <th>Survived</th>\n",
              "      <th></th>\n",
              "      <th></th>\n",
              "      <th></th>\n",
              "      <th></th>\n",
              "      <th></th>\n",
              "      <th></th>\n",
              "      <th></th>\n",
              "      <th></th>\n",
              "      <th></th>\n",
              "      <th></th>\n",
              "    </tr>\n",
              "  </thead>\n",
              "  <tbody>\n",
              "    <tr>\n",
              "      <th rowspan=\"2\" valign=\"top\">0</th>\n",
              "      <th>0</th>\n",
              "      <td>398</td>\n",
              "      <td>398</td>\n",
              "      <td>398</td>\n",
              "      <td>398</td>\n",
              "      <td>296</td>\n",
              "      <td>398</td>\n",
              "      <td>398</td>\n",
              "      <td>398</td>\n",
              "      <td>49</td>\n",
              "      <td>398</td>\n",
              "    </tr>\n",
              "    <tr>\n",
              "      <th>1</th>\n",
              "      <td>210</td>\n",
              "      <td>210</td>\n",
              "      <td>210</td>\n",
              "      <td>210</td>\n",
              "      <td>175</td>\n",
              "      <td>210</td>\n",
              "      <td>210</td>\n",
              "      <td>210</td>\n",
              "      <td>77</td>\n",
              "      <td>208</td>\n",
              "    </tr>\n",
              "    <tr>\n",
              "      <th rowspan=\"2\" valign=\"top\">1</th>\n",
              "      <th>0</th>\n",
              "      <td>97</td>\n",
              "      <td>97</td>\n",
              "      <td>97</td>\n",
              "      <td>97</td>\n",
              "      <td>86</td>\n",
              "      <td>97</td>\n",
              "      <td>97</td>\n",
              "      <td>97</td>\n",
              "      <td>17</td>\n",
              "      <td>97</td>\n",
              "    </tr>\n",
              "    <tr>\n",
              "      <th>1</th>\n",
              "      <td>112</td>\n",
              "      <td>112</td>\n",
              "      <td>112</td>\n",
              "      <td>112</td>\n",
              "      <td>97</td>\n",
              "      <td>112</td>\n",
              "      <td>112</td>\n",
              "      <td>112</td>\n",
              "      <td>52</td>\n",
              "      <td>112</td>\n",
              "    </tr>\n",
              "    <tr>\n",
              "      <th rowspan=\"2\" valign=\"top\">2</th>\n",
              "      <th>0</th>\n",
              "      <td>15</td>\n",
              "      <td>15</td>\n",
              "      <td>15</td>\n",
              "      <td>15</td>\n",
              "      <td>14</td>\n",
              "      <td>15</td>\n",
              "      <td>15</td>\n",
              "      <td>15</td>\n",
              "      <td>1</td>\n",
              "      <td>15</td>\n",
              "    </tr>\n",
              "    <tr>\n",
              "      <th>1</th>\n",
              "      <td>13</td>\n",
              "      <td>13</td>\n",
              "      <td>13</td>\n",
              "      <td>13</td>\n",
              "      <td>11</td>\n",
              "      <td>13</td>\n",
              "      <td>13</td>\n",
              "      <td>13</td>\n",
              "      <td>5</td>\n",
              "      <td>13</td>\n",
              "    </tr>\n",
              "    <tr>\n",
              "      <th rowspan=\"2\" valign=\"top\">3</th>\n",
              "      <th>0</th>\n",
              "      <td>12</td>\n",
              "      <td>12</td>\n",
              "      <td>12</td>\n",
              "      <td>12</td>\n",
              "      <td>8</td>\n",
              "      <td>12</td>\n",
              "      <td>12</td>\n",
              "      <td>12</td>\n",
              "      <td>1</td>\n",
              "      <td>12</td>\n",
              "    </tr>\n",
              "    <tr>\n",
              "      <th>1</th>\n",
              "      <td>4</td>\n",
              "      <td>4</td>\n",
              "      <td>4</td>\n",
              "      <td>4</td>\n",
              "      <td>4</td>\n",
              "      <td>4</td>\n",
              "      <td>4</td>\n",
              "      <td>4</td>\n",
              "      <td>2</td>\n",
              "      <td>4</td>\n",
              "    </tr>\n",
              "    <tr>\n",
              "      <th rowspan=\"2\" valign=\"top\">4</th>\n",
              "      <th>0</th>\n",
              "      <td>15</td>\n",
              "      <td>15</td>\n",
              "      <td>15</td>\n",
              "      <td>15</td>\n",
              "      <td>15</td>\n",
              "      <td>15</td>\n",
              "      <td>15</td>\n",
              "      <td>15</td>\n",
              "      <td>0</td>\n",
              "      <td>15</td>\n",
              "    </tr>\n",
              "    <tr>\n",
              "      <th>1</th>\n",
              "      <td>3</td>\n",
              "      <td>3</td>\n",
              "      <td>3</td>\n",
              "      <td>3</td>\n",
              "      <td>3</td>\n",
              "      <td>3</td>\n",
              "      <td>3</td>\n",
              "      <td>3</td>\n",
              "      <td>0</td>\n",
              "      <td>3</td>\n",
              "    </tr>\n",
              "    <tr>\n",
              "      <th>5</th>\n",
              "      <th>0</th>\n",
              "      <td>5</td>\n",
              "      <td>5</td>\n",
              "      <td>5</td>\n",
              "      <td>5</td>\n",
              "      <td>5</td>\n",
              "      <td>5</td>\n",
              "      <td>5</td>\n",
              "      <td>5</td>\n",
              "      <td>0</td>\n",
              "      <td>5</td>\n",
              "    </tr>\n",
              "    <tr>\n",
              "      <th>8</th>\n",
              "      <th>0</th>\n",
              "      <td>7</td>\n",
              "      <td>7</td>\n",
              "      <td>7</td>\n",
              "      <td>7</td>\n",
              "      <td>0</td>\n",
              "      <td>7</td>\n",
              "      <td>7</td>\n",
              "      <td>7</td>\n",
              "      <td>0</td>\n",
              "      <td>7</td>\n",
              "    </tr>\n",
              "  </tbody>\n",
              "</table>\n",
              "</div>"
            ],
            "text/plain": [
              "                PassengerId  Pclass  Name  Sex  ...  Ticket  Fare  Cabin  Embarked\n",
              "SibSp Survived                                  ...                               \n",
              "0     0                 398     398   398  398  ...     398   398     49       398\n",
              "      1                 210     210   210  210  ...     210   210     77       208\n",
              "1     0                  97      97    97   97  ...      97    97     17        97\n",
              "      1                 112     112   112  112  ...     112   112     52       112\n",
              "2     0                  15      15    15   15  ...      15    15      1        15\n",
              "      1                  13      13    13   13  ...      13    13      5        13\n",
              "3     0                  12      12    12   12  ...      12    12      1        12\n",
              "      1                   4       4     4    4  ...       4     4      2         4\n",
              "4     0                  15      15    15   15  ...      15    15      0        15\n",
              "      1                   3       3     3    3  ...       3     3      0         3\n",
              "5     0                   5       5     5    5  ...       5     5      0         5\n",
              "8     0                   7       7     7    7  ...       7     7      0         7\n",
              "\n",
              "[12 rows x 10 columns]"
            ]
          },
          "metadata": {
            "tags": []
          },
          "execution_count": 6
        }
      ]
    },
    {
      "cell_type": "code",
      "metadata": {
        "id": "h6RqnTuTF106",
        "colab": {
          "base_uri": "https://localhost:8080/",
          "height": 452
        },
        "outputId": "8e049d7e-60c8-4e6f-9d25-cfa39dba7c78"
      },
      "source": [
        "# Parch and Survived: no apparent relation\n",
        "# Parch: Number of parents / children aboard the Titanic\n",
        "df_original.groupby(['Parch', 'Survived']).count()"
      ],
      "execution_count": null,
      "outputs": [
        {
          "output_type": "execute_result",
          "data": {
            "text/html": [
              "<div>\n",
              "<style scoped>\n",
              "    .dataframe tbody tr th:only-of-type {\n",
              "        vertical-align: middle;\n",
              "    }\n",
              "\n",
              "    .dataframe tbody tr th {\n",
              "        vertical-align: top;\n",
              "    }\n",
              "\n",
              "    .dataframe thead th {\n",
              "        text-align: right;\n",
              "    }\n",
              "</style>\n",
              "<table border=\"1\" class=\"dataframe\">\n",
              "  <thead>\n",
              "    <tr style=\"text-align: right;\">\n",
              "      <th></th>\n",
              "      <th></th>\n",
              "      <th>PassengerId</th>\n",
              "      <th>Pclass</th>\n",
              "      <th>Name</th>\n",
              "      <th>Sex</th>\n",
              "      <th>Age</th>\n",
              "      <th>SibSp</th>\n",
              "      <th>Ticket</th>\n",
              "      <th>Fare</th>\n",
              "      <th>Cabin</th>\n",
              "      <th>Embarked</th>\n",
              "    </tr>\n",
              "    <tr>\n",
              "      <th>Parch</th>\n",
              "      <th>Survived</th>\n",
              "      <th></th>\n",
              "      <th></th>\n",
              "      <th></th>\n",
              "      <th></th>\n",
              "      <th></th>\n",
              "      <th></th>\n",
              "      <th></th>\n",
              "      <th></th>\n",
              "      <th></th>\n",
              "      <th></th>\n",
              "    </tr>\n",
              "  </thead>\n",
              "  <tbody>\n",
              "    <tr>\n",
              "      <th rowspan=\"2\" valign=\"top\">0</th>\n",
              "      <th>0</th>\n",
              "      <td>445</td>\n",
              "      <td>445</td>\n",
              "      <td>445</td>\n",
              "      <td>445</td>\n",
              "      <td>335</td>\n",
              "      <td>445</td>\n",
              "      <td>445</td>\n",
              "      <td>445</td>\n",
              "      <td>50</td>\n",
              "      <td>445</td>\n",
              "    </tr>\n",
              "    <tr>\n",
              "      <th>1</th>\n",
              "      <td>233</td>\n",
              "      <td>233</td>\n",
              "      <td>233</td>\n",
              "      <td>233</td>\n",
              "      <td>186</td>\n",
              "      <td>233</td>\n",
              "      <td>233</td>\n",
              "      <td>233</td>\n",
              "      <td>91</td>\n",
              "      <td>231</td>\n",
              "    </tr>\n",
              "    <tr>\n",
              "      <th rowspan=\"2\" valign=\"top\">1</th>\n",
              "      <th>0</th>\n",
              "      <td>53</td>\n",
              "      <td>53</td>\n",
              "      <td>53</td>\n",
              "      <td>53</td>\n",
              "      <td>49</td>\n",
              "      <td>53</td>\n",
              "      <td>53</td>\n",
              "      <td>53</td>\n",
              "      <td>11</td>\n",
              "      <td>53</td>\n",
              "    </tr>\n",
              "    <tr>\n",
              "      <th>1</th>\n",
              "      <td>65</td>\n",
              "      <td>65</td>\n",
              "      <td>65</td>\n",
              "      <td>65</td>\n",
              "      <td>61</td>\n",
              "      <td>65</td>\n",
              "      <td>65</td>\n",
              "      <td>65</td>\n",
              "      <td>28</td>\n",
              "      <td>65</td>\n",
              "    </tr>\n",
              "    <tr>\n",
              "      <th rowspan=\"2\" valign=\"top\">2</th>\n",
              "      <th>0</th>\n",
              "      <td>40</td>\n",
              "      <td>40</td>\n",
              "      <td>40</td>\n",
              "      <td>40</td>\n",
              "      <td>29</td>\n",
              "      <td>40</td>\n",
              "      <td>40</td>\n",
              "      <td>40</td>\n",
              "      <td>6</td>\n",
              "      <td>40</td>\n",
              "    </tr>\n",
              "    <tr>\n",
              "      <th>1</th>\n",
              "      <td>40</td>\n",
              "      <td>40</td>\n",
              "      <td>40</td>\n",
              "      <td>40</td>\n",
              "      <td>39</td>\n",
              "      <td>40</td>\n",
              "      <td>40</td>\n",
              "      <td>40</td>\n",
              "      <td>17</td>\n",
              "      <td>40</td>\n",
              "    </tr>\n",
              "    <tr>\n",
              "      <th rowspan=\"2\" valign=\"top\">3</th>\n",
              "      <th>0</th>\n",
              "      <td>2</td>\n",
              "      <td>2</td>\n",
              "      <td>2</td>\n",
              "      <td>2</td>\n",
              "      <td>2</td>\n",
              "      <td>2</td>\n",
              "      <td>2</td>\n",
              "      <td>2</td>\n",
              "      <td>0</td>\n",
              "      <td>2</td>\n",
              "    </tr>\n",
              "    <tr>\n",
              "      <th>1</th>\n",
              "      <td>3</td>\n",
              "      <td>3</td>\n",
              "      <td>3</td>\n",
              "      <td>3</td>\n",
              "      <td>3</td>\n",
              "      <td>3</td>\n",
              "      <td>3</td>\n",
              "      <td>3</td>\n",
              "      <td>0</td>\n",
              "      <td>3</td>\n",
              "    </tr>\n",
              "    <tr>\n",
              "      <th>4</th>\n",
              "      <th>0</th>\n",
              "      <td>4</td>\n",
              "      <td>4</td>\n",
              "      <td>4</td>\n",
              "      <td>4</td>\n",
              "      <td>4</td>\n",
              "      <td>4</td>\n",
              "      <td>4</td>\n",
              "      <td>4</td>\n",
              "      <td>1</td>\n",
              "      <td>4</td>\n",
              "    </tr>\n",
              "    <tr>\n",
              "      <th rowspan=\"2\" valign=\"top\">5</th>\n",
              "      <th>0</th>\n",
              "      <td>4</td>\n",
              "      <td>4</td>\n",
              "      <td>4</td>\n",
              "      <td>4</td>\n",
              "      <td>4</td>\n",
              "      <td>4</td>\n",
              "      <td>4</td>\n",
              "      <td>4</td>\n",
              "      <td>0</td>\n",
              "      <td>4</td>\n",
              "    </tr>\n",
              "    <tr>\n",
              "      <th>1</th>\n",
              "      <td>1</td>\n",
              "      <td>1</td>\n",
              "      <td>1</td>\n",
              "      <td>1</td>\n",
              "      <td>1</td>\n",
              "      <td>1</td>\n",
              "      <td>1</td>\n",
              "      <td>1</td>\n",
              "      <td>0</td>\n",
              "      <td>1</td>\n",
              "    </tr>\n",
              "    <tr>\n",
              "      <th>6</th>\n",
              "      <th>0</th>\n",
              "      <td>1</td>\n",
              "      <td>1</td>\n",
              "      <td>1</td>\n",
              "      <td>1</td>\n",
              "      <td>1</td>\n",
              "      <td>1</td>\n",
              "      <td>1</td>\n",
              "      <td>1</td>\n",
              "      <td>0</td>\n",
              "      <td>1</td>\n",
              "    </tr>\n",
              "  </tbody>\n",
              "</table>\n",
              "</div>"
            ],
            "text/plain": [
              "                PassengerId  Pclass  Name  Sex  ...  Ticket  Fare  Cabin  Embarked\n",
              "Parch Survived                                  ...                               \n",
              "0     0                 445     445   445  445  ...     445   445     50       445\n",
              "      1                 233     233   233  233  ...     233   233     91       231\n",
              "1     0                  53      53    53   53  ...      53    53     11        53\n",
              "      1                  65      65    65   65  ...      65    65     28        65\n",
              "2     0                  40      40    40   40  ...      40    40      6        40\n",
              "      1                  40      40    40   40  ...      40    40     17        40\n",
              "3     0                   2       2     2    2  ...       2     2      0         2\n",
              "      1                   3       3     3    3  ...       3     3      0         3\n",
              "4     0                   4       4     4    4  ...       4     4      1         4\n",
              "5     0                   4       4     4    4  ...       4     4      0         4\n",
              "      1                   1       1     1    1  ...       1     1      0         1\n",
              "6     0                   1       1     1    1  ...       1     1      0         1\n",
              "\n",
              "[12 rows x 10 columns]"
            ]
          },
          "metadata": {
            "tags": []
          },
          "execution_count": 7
        }
      ]
    },
    {
      "cell_type": "code",
      "metadata": {
        "id": "Ffjcj8iAGDhL",
        "colab": {
          "base_uri": "https://localhost:8080/",
          "height": 450
        },
        "outputId": "5462fdb7-7f62-430a-9136-3b3d75be5fb0"
      },
      "source": [
        "# Ticket and Survived: no apparent relation\n",
        "# Ticket number/code\n",
        "df_original.groupby(['Ticket', 'Survived']).count()"
      ],
      "execution_count": null,
      "outputs": [
        {
          "output_type": "execute_result",
          "data": {
            "text/html": [
              "<div>\n",
              "<style scoped>\n",
              "    .dataframe tbody tr th:only-of-type {\n",
              "        vertical-align: middle;\n",
              "    }\n",
              "\n",
              "    .dataframe tbody tr th {\n",
              "        vertical-align: top;\n",
              "    }\n",
              "\n",
              "    .dataframe thead th {\n",
              "        text-align: right;\n",
              "    }\n",
              "</style>\n",
              "<table border=\"1\" class=\"dataframe\">\n",
              "  <thead>\n",
              "    <tr style=\"text-align: right;\">\n",
              "      <th></th>\n",
              "      <th></th>\n",
              "      <th>PassengerId</th>\n",
              "      <th>Pclass</th>\n",
              "      <th>Name</th>\n",
              "      <th>Sex</th>\n",
              "      <th>Age</th>\n",
              "      <th>SibSp</th>\n",
              "      <th>Parch</th>\n",
              "      <th>Fare</th>\n",
              "      <th>Cabin</th>\n",
              "      <th>Embarked</th>\n",
              "    </tr>\n",
              "    <tr>\n",
              "      <th>Ticket</th>\n",
              "      <th>Survived</th>\n",
              "      <th></th>\n",
              "      <th></th>\n",
              "      <th></th>\n",
              "      <th></th>\n",
              "      <th></th>\n",
              "      <th></th>\n",
              "      <th></th>\n",
              "      <th></th>\n",
              "      <th></th>\n",
              "      <th></th>\n",
              "    </tr>\n",
              "  </thead>\n",
              "  <tbody>\n",
              "    <tr>\n",
              "      <th>110152</th>\n",
              "      <th>1</th>\n",
              "      <td>3</td>\n",
              "      <td>3</td>\n",
              "      <td>3</td>\n",
              "      <td>3</td>\n",
              "      <td>3</td>\n",
              "      <td>3</td>\n",
              "      <td>3</td>\n",
              "      <td>3</td>\n",
              "      <td>3</td>\n",
              "      <td>3</td>\n",
              "    </tr>\n",
              "    <tr>\n",
              "      <th rowspan=\"2\" valign=\"top\">110413</th>\n",
              "      <th>0</th>\n",
              "      <td>1</td>\n",
              "      <td>1</td>\n",
              "      <td>1</td>\n",
              "      <td>1</td>\n",
              "      <td>1</td>\n",
              "      <td>1</td>\n",
              "      <td>1</td>\n",
              "      <td>1</td>\n",
              "      <td>1</td>\n",
              "      <td>1</td>\n",
              "    </tr>\n",
              "    <tr>\n",
              "      <th>1</th>\n",
              "      <td>2</td>\n",
              "      <td>2</td>\n",
              "      <td>2</td>\n",
              "      <td>2</td>\n",
              "      <td>2</td>\n",
              "      <td>2</td>\n",
              "      <td>2</td>\n",
              "      <td>2</td>\n",
              "      <td>2</td>\n",
              "      <td>2</td>\n",
              "    </tr>\n",
              "    <tr>\n",
              "      <th>110465</th>\n",
              "      <th>0</th>\n",
              "      <td>2</td>\n",
              "      <td>2</td>\n",
              "      <td>2</td>\n",
              "      <td>2</td>\n",
              "      <td>1</td>\n",
              "      <td>2</td>\n",
              "      <td>2</td>\n",
              "      <td>2</td>\n",
              "      <td>2</td>\n",
              "      <td>2</td>\n",
              "    </tr>\n",
              "    <tr>\n",
              "      <th>110564</th>\n",
              "      <th>1</th>\n",
              "      <td>1</td>\n",
              "      <td>1</td>\n",
              "      <td>1</td>\n",
              "      <td>1</td>\n",
              "      <td>1</td>\n",
              "      <td>1</td>\n",
              "      <td>1</td>\n",
              "      <td>1</td>\n",
              "      <td>1</td>\n",
              "      <td>1</td>\n",
              "    </tr>\n",
              "    <tr>\n",
              "      <th>...</th>\n",
              "      <th>...</th>\n",
              "      <td>...</td>\n",
              "      <td>...</td>\n",
              "      <td>...</td>\n",
              "      <td>...</td>\n",
              "      <td>...</td>\n",
              "      <td>...</td>\n",
              "      <td>...</td>\n",
              "      <td>...</td>\n",
              "      <td>...</td>\n",
              "      <td>...</td>\n",
              "    </tr>\n",
              "    <tr>\n",
              "      <th>W./C. 6609</th>\n",
              "      <th>0</th>\n",
              "      <td>1</td>\n",
              "      <td>1</td>\n",
              "      <td>1</td>\n",
              "      <td>1</td>\n",
              "      <td>0</td>\n",
              "      <td>1</td>\n",
              "      <td>1</td>\n",
              "      <td>1</td>\n",
              "      <td>0</td>\n",
              "      <td>1</td>\n",
              "    </tr>\n",
              "    <tr>\n",
              "      <th>W.E.P. 5734</th>\n",
              "      <th>0</th>\n",
              "      <td>1</td>\n",
              "      <td>1</td>\n",
              "      <td>1</td>\n",
              "      <td>1</td>\n",
              "      <td>1</td>\n",
              "      <td>1</td>\n",
              "      <td>1</td>\n",
              "      <td>1</td>\n",
              "      <td>1</td>\n",
              "      <td>1</td>\n",
              "    </tr>\n",
              "    <tr>\n",
              "      <th>W/C 14208</th>\n",
              "      <th>0</th>\n",
              "      <td>1</td>\n",
              "      <td>1</td>\n",
              "      <td>1</td>\n",
              "      <td>1</td>\n",
              "      <td>1</td>\n",
              "      <td>1</td>\n",
              "      <td>1</td>\n",
              "      <td>1</td>\n",
              "      <td>0</td>\n",
              "      <td>1</td>\n",
              "    </tr>\n",
              "    <tr>\n",
              "      <th rowspan=\"2\" valign=\"top\">WE/P 5735</th>\n",
              "      <th>0</th>\n",
              "      <td>1</td>\n",
              "      <td>1</td>\n",
              "      <td>1</td>\n",
              "      <td>1</td>\n",
              "      <td>1</td>\n",
              "      <td>1</td>\n",
              "      <td>1</td>\n",
              "      <td>1</td>\n",
              "      <td>1</td>\n",
              "      <td>1</td>\n",
              "    </tr>\n",
              "    <tr>\n",
              "      <th>1</th>\n",
              "      <td>1</td>\n",
              "      <td>1</td>\n",
              "      <td>1</td>\n",
              "      <td>1</td>\n",
              "      <td>1</td>\n",
              "      <td>1</td>\n",
              "      <td>1</td>\n",
              "      <td>1</td>\n",
              "      <td>1</td>\n",
              "      <td>1</td>\n",
              "    </tr>\n",
              "  </tbody>\n",
              "</table>\n",
              "<p>730 rows × 10 columns</p>\n",
              "</div>"
            ],
            "text/plain": [
              "                      PassengerId  Pclass  Name  ...  Fare  Cabin  Embarked\n",
              "Ticket      Survived                             ...                       \n",
              "110152      1                   3       3     3  ...     3      3         3\n",
              "110413      0                   1       1     1  ...     1      1         1\n",
              "            1                   2       2     2  ...     2      2         2\n",
              "110465      0                   2       2     2  ...     2      2         2\n",
              "110564      1                   1       1     1  ...     1      1         1\n",
              "...                           ...     ...   ...  ...   ...    ...       ...\n",
              "W./C. 6609  0                   1       1     1  ...     1      0         1\n",
              "W.E.P. 5734 0                   1       1     1  ...     1      1         1\n",
              "W/C 14208   0                   1       1     1  ...     1      0         1\n",
              "WE/P 5735   0                   1       1     1  ...     1      1         1\n",
              "            1                   1       1     1  ...     1      1         1\n",
              "\n",
              "[730 rows x 10 columns]"
            ]
          },
          "metadata": {
            "tags": []
          },
          "execution_count": 8
        }
      ]
    },
    {
      "cell_type": "code",
      "metadata": {
        "id": "DlbshW6OGcKK",
        "colab": {
          "base_uri": "https://localhost:8080/",
          "height": 34
        },
        "outputId": "d6668f12-43fc-4ace-c7e2-a8b5e45589fc"
      },
      "source": [
        "# Number of unique Tickets\n",
        "len(set(df_original['Ticket']))"
      ],
      "execution_count": null,
      "outputs": [
        {
          "output_type": "execute_result",
          "data": {
            "text/plain": [
              "681"
            ]
          },
          "metadata": {
            "tags": []
          },
          "execution_count": 9
        }
      ]
    },
    {
      "cell_type": "code",
      "metadata": {
        "id": "28KKUVpsGIux",
        "colab": {
          "base_uri": "https://localhost:8080/",
          "height": 450
        },
        "outputId": "09b64b4f-f16c-487b-ac35-be3f16482534"
      },
      "source": [
        "# Cabin and Survived: no apparent relation\n",
        "# Cabin number/code\n",
        "df_original.groupby(['Cabin', 'Survived']).count()"
      ],
      "execution_count": null,
      "outputs": [
        {
          "output_type": "execute_result",
          "data": {
            "text/html": [
              "<div>\n",
              "<style scoped>\n",
              "    .dataframe tbody tr th:only-of-type {\n",
              "        vertical-align: middle;\n",
              "    }\n",
              "\n",
              "    .dataframe tbody tr th {\n",
              "        vertical-align: top;\n",
              "    }\n",
              "\n",
              "    .dataframe thead th {\n",
              "        text-align: right;\n",
              "    }\n",
              "</style>\n",
              "<table border=\"1\" class=\"dataframe\">\n",
              "  <thead>\n",
              "    <tr style=\"text-align: right;\">\n",
              "      <th></th>\n",
              "      <th></th>\n",
              "      <th>PassengerId</th>\n",
              "      <th>Pclass</th>\n",
              "      <th>Name</th>\n",
              "      <th>Sex</th>\n",
              "      <th>Age</th>\n",
              "      <th>SibSp</th>\n",
              "      <th>Parch</th>\n",
              "      <th>Ticket</th>\n",
              "      <th>Fare</th>\n",
              "      <th>Embarked</th>\n",
              "    </tr>\n",
              "    <tr>\n",
              "      <th>Cabin</th>\n",
              "      <th>Survived</th>\n",
              "      <th></th>\n",
              "      <th></th>\n",
              "      <th></th>\n",
              "      <th></th>\n",
              "      <th></th>\n",
              "      <th></th>\n",
              "      <th></th>\n",
              "      <th></th>\n",
              "      <th></th>\n",
              "      <th></th>\n",
              "    </tr>\n",
              "  </thead>\n",
              "  <tbody>\n",
              "    <tr>\n",
              "      <th>A10</th>\n",
              "      <th>0</th>\n",
              "      <td>1</td>\n",
              "      <td>1</td>\n",
              "      <td>1</td>\n",
              "      <td>1</td>\n",
              "      <td>1</td>\n",
              "      <td>1</td>\n",
              "      <td>1</td>\n",
              "      <td>1</td>\n",
              "      <td>1</td>\n",
              "      <td>1</td>\n",
              "    </tr>\n",
              "    <tr>\n",
              "      <th>A14</th>\n",
              "      <th>0</th>\n",
              "      <td>1</td>\n",
              "      <td>1</td>\n",
              "      <td>1</td>\n",
              "      <td>1</td>\n",
              "      <td>0</td>\n",
              "      <td>1</td>\n",
              "      <td>1</td>\n",
              "      <td>1</td>\n",
              "      <td>1</td>\n",
              "      <td>1</td>\n",
              "    </tr>\n",
              "    <tr>\n",
              "      <th>A16</th>\n",
              "      <th>1</th>\n",
              "      <td>1</td>\n",
              "      <td>1</td>\n",
              "      <td>1</td>\n",
              "      <td>1</td>\n",
              "      <td>1</td>\n",
              "      <td>1</td>\n",
              "      <td>1</td>\n",
              "      <td>1</td>\n",
              "      <td>1</td>\n",
              "      <td>1</td>\n",
              "    </tr>\n",
              "    <tr>\n",
              "      <th>A19</th>\n",
              "      <th>0</th>\n",
              "      <td>1</td>\n",
              "      <td>1</td>\n",
              "      <td>1</td>\n",
              "      <td>1</td>\n",
              "      <td>0</td>\n",
              "      <td>1</td>\n",
              "      <td>1</td>\n",
              "      <td>1</td>\n",
              "      <td>1</td>\n",
              "      <td>1</td>\n",
              "    </tr>\n",
              "    <tr>\n",
              "      <th>A20</th>\n",
              "      <th>1</th>\n",
              "      <td>1</td>\n",
              "      <td>1</td>\n",
              "      <td>1</td>\n",
              "      <td>1</td>\n",
              "      <td>1</td>\n",
              "      <td>1</td>\n",
              "      <td>1</td>\n",
              "      <td>1</td>\n",
              "      <td>1</td>\n",
              "      <td>1</td>\n",
              "    </tr>\n",
              "    <tr>\n",
              "      <th>...</th>\n",
              "      <th>...</th>\n",
              "      <td>...</td>\n",
              "      <td>...</td>\n",
              "      <td>...</td>\n",
              "      <td>...</td>\n",
              "      <td>...</td>\n",
              "      <td>...</td>\n",
              "      <td>...</td>\n",
              "      <td>...</td>\n",
              "      <td>...</td>\n",
              "      <td>...</td>\n",
              "    </tr>\n",
              "    <tr>\n",
              "      <th>F38</th>\n",
              "      <th>0</th>\n",
              "      <td>1</td>\n",
              "      <td>1</td>\n",
              "      <td>1</td>\n",
              "      <td>1</td>\n",
              "      <td>0</td>\n",
              "      <td>1</td>\n",
              "      <td>1</td>\n",
              "      <td>1</td>\n",
              "      <td>1</td>\n",
              "      <td>1</td>\n",
              "    </tr>\n",
              "    <tr>\n",
              "      <th>F4</th>\n",
              "      <th>1</th>\n",
              "      <td>2</td>\n",
              "      <td>2</td>\n",
              "      <td>2</td>\n",
              "      <td>2</td>\n",
              "      <td>2</td>\n",
              "      <td>2</td>\n",
              "      <td>2</td>\n",
              "      <td>2</td>\n",
              "      <td>2</td>\n",
              "      <td>2</td>\n",
              "    </tr>\n",
              "    <tr>\n",
              "      <th rowspan=\"2\" valign=\"top\">G6</th>\n",
              "      <th>0</th>\n",
              "      <td>2</td>\n",
              "      <td>2</td>\n",
              "      <td>2</td>\n",
              "      <td>2</td>\n",
              "      <td>2</td>\n",
              "      <td>2</td>\n",
              "      <td>2</td>\n",
              "      <td>2</td>\n",
              "      <td>2</td>\n",
              "      <td>2</td>\n",
              "    </tr>\n",
              "    <tr>\n",
              "      <th>1</th>\n",
              "      <td>2</td>\n",
              "      <td>2</td>\n",
              "      <td>2</td>\n",
              "      <td>2</td>\n",
              "      <td>2</td>\n",
              "      <td>2</td>\n",
              "      <td>2</td>\n",
              "      <td>2</td>\n",
              "      <td>2</td>\n",
              "      <td>2</td>\n",
              "    </tr>\n",
              "    <tr>\n",
              "      <th>T</th>\n",
              "      <th>0</th>\n",
              "      <td>1</td>\n",
              "      <td>1</td>\n",
              "      <td>1</td>\n",
              "      <td>1</td>\n",
              "      <td>1</td>\n",
              "      <td>1</td>\n",
              "      <td>1</td>\n",
              "      <td>1</td>\n",
              "      <td>1</td>\n",
              "      <td>1</td>\n",
              "    </tr>\n",
              "  </tbody>\n",
              "</table>\n",
              "<p>163 rows × 10 columns</p>\n",
              "</div>"
            ],
            "text/plain": [
              "                PassengerId  Pclass  Name  Sex  ...  Parch  Ticket  Fare  Embarked\n",
              "Cabin Survived                                  ...                               \n",
              "A10   0                   1       1     1    1  ...      1       1     1         1\n",
              "A14   0                   1       1     1    1  ...      1       1     1         1\n",
              "A16   1                   1       1     1    1  ...      1       1     1         1\n",
              "A19   0                   1       1     1    1  ...      1       1     1         1\n",
              "A20   1                   1       1     1    1  ...      1       1     1         1\n",
              "...                     ...     ...   ...  ...  ...    ...     ...   ...       ...\n",
              "F38   0                   1       1     1    1  ...      1       1     1         1\n",
              "F4    1                   2       2     2    2  ...      2       2     2         2\n",
              "G6    0                   2       2     2    2  ...      2       2     2         2\n",
              "      1                   2       2     2    2  ...      2       2     2         2\n",
              "T     0                   1       1     1    1  ...      1       1     1         1\n",
              "\n",
              "[163 rows x 10 columns]"
            ]
          },
          "metadata": {
            "tags": []
          },
          "execution_count": 10
        }
      ]
    },
    {
      "cell_type": "code",
      "metadata": {
        "id": "nJ4n4NghHX78",
        "colab": {
          "base_uri": "https://localhost:8080/",
          "height": 34
        },
        "outputId": "4a261b31-e4c3-4034-bb5b-6262ad66c9c5"
      },
      "source": [
        "# Number of unique Cabin\n",
        "len(set(df_original['Cabin']))"
      ],
      "execution_count": null,
      "outputs": [
        {
          "output_type": "execute_result",
          "data": {
            "text/plain": [
              "148"
            ]
          },
          "metadata": {
            "tags": []
          },
          "execution_count": 11
        }
      ]
    },
    {
      "cell_type": "code",
      "metadata": {
        "id": "q9kUpdgOGIl2",
        "colab": {
          "base_uri": "https://localhost:8080/",
          "height": 266
        },
        "outputId": "ae48aa77-2a01-45b0-9b14-a95ce74f795e"
      },
      "source": [
        "# Cabin and Survived: apparently people tho embarked from Southampton had more \n",
        "# chance to survive.. but this may not be true.\n",
        "\n",
        "# Cabin: C = Cherbourg, Q = Queenstown, S = Southampton\n",
        "\n",
        "df_original.groupby(['Embarked', 'Survived']).count()"
      ],
      "execution_count": null,
      "outputs": [
        {
          "output_type": "execute_result",
          "data": {
            "text/html": [
              "<div>\n",
              "<style scoped>\n",
              "    .dataframe tbody tr th:only-of-type {\n",
              "        vertical-align: middle;\n",
              "    }\n",
              "\n",
              "    .dataframe tbody tr th {\n",
              "        vertical-align: top;\n",
              "    }\n",
              "\n",
              "    .dataframe thead th {\n",
              "        text-align: right;\n",
              "    }\n",
              "</style>\n",
              "<table border=\"1\" class=\"dataframe\">\n",
              "  <thead>\n",
              "    <tr style=\"text-align: right;\">\n",
              "      <th></th>\n",
              "      <th></th>\n",
              "      <th>PassengerId</th>\n",
              "      <th>Pclass</th>\n",
              "      <th>Name</th>\n",
              "      <th>Sex</th>\n",
              "      <th>Age</th>\n",
              "      <th>SibSp</th>\n",
              "      <th>Parch</th>\n",
              "      <th>Ticket</th>\n",
              "      <th>Fare</th>\n",
              "      <th>Cabin</th>\n",
              "    </tr>\n",
              "    <tr>\n",
              "      <th>Embarked</th>\n",
              "      <th>Survived</th>\n",
              "      <th></th>\n",
              "      <th></th>\n",
              "      <th></th>\n",
              "      <th></th>\n",
              "      <th></th>\n",
              "      <th></th>\n",
              "      <th></th>\n",
              "      <th></th>\n",
              "      <th></th>\n",
              "      <th></th>\n",
              "    </tr>\n",
              "  </thead>\n",
              "  <tbody>\n",
              "    <tr>\n",
              "      <th rowspan=\"2\" valign=\"top\">C</th>\n",
              "      <th>0</th>\n",
              "      <td>75</td>\n",
              "      <td>75</td>\n",
              "      <td>75</td>\n",
              "      <td>75</td>\n",
              "      <td>51</td>\n",
              "      <td>75</td>\n",
              "      <td>75</td>\n",
              "      <td>75</td>\n",
              "      <td>75</td>\n",
              "      <td>17</td>\n",
              "    </tr>\n",
              "    <tr>\n",
              "      <th>1</th>\n",
              "      <td>93</td>\n",
              "      <td>93</td>\n",
              "      <td>93</td>\n",
              "      <td>93</td>\n",
              "      <td>79</td>\n",
              "      <td>93</td>\n",
              "      <td>93</td>\n",
              "      <td>93</td>\n",
              "      <td>93</td>\n",
              "      <td>52</td>\n",
              "    </tr>\n",
              "    <tr>\n",
              "      <th rowspan=\"2\" valign=\"top\">Q</th>\n",
              "      <th>0</th>\n",
              "      <td>47</td>\n",
              "      <td>47</td>\n",
              "      <td>47</td>\n",
              "      <td>47</td>\n",
              "      <td>20</td>\n",
              "      <td>47</td>\n",
              "      <td>47</td>\n",
              "      <td>47</td>\n",
              "      <td>47</td>\n",
              "      <td>2</td>\n",
              "    </tr>\n",
              "    <tr>\n",
              "      <th>1</th>\n",
              "      <td>30</td>\n",
              "      <td>30</td>\n",
              "      <td>30</td>\n",
              "      <td>30</td>\n",
              "      <td>8</td>\n",
              "      <td>30</td>\n",
              "      <td>30</td>\n",
              "      <td>30</td>\n",
              "      <td>30</td>\n",
              "      <td>2</td>\n",
              "    </tr>\n",
              "    <tr>\n",
              "      <th rowspan=\"2\" valign=\"top\">S</th>\n",
              "      <th>0</th>\n",
              "      <td>427</td>\n",
              "      <td>427</td>\n",
              "      <td>427</td>\n",
              "      <td>427</td>\n",
              "      <td>353</td>\n",
              "      <td>427</td>\n",
              "      <td>427</td>\n",
              "      <td>427</td>\n",
              "      <td>427</td>\n",
              "      <td>49</td>\n",
              "    </tr>\n",
              "    <tr>\n",
              "      <th>1</th>\n",
              "      <td>217</td>\n",
              "      <td>217</td>\n",
              "      <td>217</td>\n",
              "      <td>217</td>\n",
              "      <td>201</td>\n",
              "      <td>217</td>\n",
              "      <td>217</td>\n",
              "      <td>217</td>\n",
              "      <td>217</td>\n",
              "      <td>80</td>\n",
              "    </tr>\n",
              "  </tbody>\n",
              "</table>\n",
              "</div>"
            ],
            "text/plain": [
              "                   PassengerId  Pclass  Name  Sex  ...  Parch  Ticket  Fare  Cabin\n",
              "Embarked Survived                                  ...                            \n",
              "C        0                  75      75    75   75  ...     75      75    75     17\n",
              "         1                  93      93    93   93  ...     93      93    93     52\n",
              "Q        0                  47      47    47   47  ...     47      47    47      2\n",
              "         1                  30      30    30   30  ...     30      30    30      2\n",
              "S        0                 427     427   427  427  ...    427     427   427     49\n",
              "         1                 217     217   217  217  ...    217     217   217     80\n",
              "\n",
              "[6 rows x 10 columns]"
            ]
          },
          "metadata": {
            "tags": []
          },
          "execution_count": 12
        }
      ]
    },
    {
      "cell_type": "markdown",
      "metadata": {
        "id": "5V-oLHDp3tRh"
      },
      "source": [
        "# Transformations"
      ]
    },
    {
      "cell_type": "markdown",
      "metadata": {
        "id": "mmuryxG5V34-"
      },
      "source": [
        "## Concatenate train and test datasets"
      ]
    },
    {
      "cell_type": "markdown",
      "metadata": {
        "id": "IusG2MIdWkDM"
      },
      "source": [
        "We want to apply the transformations to both train and test datasets, so we don't have to do it twice.\n",
        "\n",
        "1. First, drop target column from train dataset.\n",
        "2. Combine train (with no target) with test (no target, obviously)."
      ]
    },
    {
      "cell_type": "code",
      "metadata": {
        "id": "2fudzKRIV1Fe",
        "colab": {
          "base_uri": "https://localhost:8080/",
          "height": 34
        },
        "outputId": "75f20fa9-a595-475d-f5a5-759575f0897d"
      },
      "source": [
        "df = df_original.drop(['Survived'], axis = 1)\n",
        "\n",
        "df_test = pd.read_csv('/content/test.csv')\n",
        "\n",
        "combined = pd.concat([df, df_test]).reset_index(drop=True)\n",
        "\n",
        "combined.shape"
      ],
      "execution_count": null,
      "outputs": [
        {
          "output_type": "execute_result",
          "data": {
            "text/plain": [
              "(1309, 11)"
            ]
          },
          "metadata": {
            "tags": []
          },
          "execution_count": 13
        }
      ]
    },
    {
      "cell_type": "code",
      "metadata": {
        "id": "4mr-42o76eb2"
      },
      "source": [
        "# new columns based on Name (create them before dropping coolumn name)\n",
        "\n",
        "# combined['Name_contains_Miss'] = combined['Name'].str.contains(\"Miss\").astype(int)\n",
        "\n",
        "# combined['Name_contains_Mrs'] = combined['Name'].str.contains(\"Mrs\").astype(int)\n",
        "\n",
        "# combined['Name_contains_Master'] = combined['Name'].str.contains(\"Master\").astype(int)\n",
        "\n",
        "# combined['Name_contains_Col'] = combined['Name'].str.contains(\"Col\").astype(int)\n",
        "\n",
        "# combined['Name_contains_Major'] = combined['Name'].str.contains(\"Major\").astype(int)\n",
        "\n",
        "# combined['Name_contains_Mr'] = combined['Name'].str.contains(\"Mr\").astype(int)"
      ],
      "execution_count": null,
      "outputs": []
    },
    {
      "cell_type": "code",
      "metadata": {
        "id": "Q5sFCldO3h8k"
      },
      "source": [
        "# drop columns PassengerId, Ticket, Cabin, Name, Embarked\n",
        "df = combined.drop(['PassengerId', 'Ticket', 'Cabin', 'Name', 'Embarked', 'Parch', 'SibSp'], axis = 1)\n",
        "\n",
        "# map column Sex\n",
        "map_Sex = {'male' : 0, 'female' : 1}\n",
        "df = df.replace({'Sex' : map_Sex})"
      ],
      "execution_count": null,
      "outputs": []
    },
    {
      "cell_type": "code",
      "metadata": {
        "id": "7syjv9mLNk0G"
      },
      "source": [
        "# # new column based on column Sex\n",
        "# df['Is_female'] = (df['Sex'] == 1).astype(int)"
      ],
      "execution_count": null,
      "outputs": []
    },
    {
      "cell_type": "code",
      "metadata": {
        "id": "1yAwvXPgI1Ds",
        "colab": {
          "base_uri": "https://localhost:8080/",
          "height": 204
        },
        "outputId": "d248c56d-f636-4710-e386-a836fbede623"
      },
      "source": [
        "df.head()"
      ],
      "execution_count": null,
      "outputs": [
        {
          "output_type": "execute_result",
          "data": {
            "text/html": [
              "<div>\n",
              "<style scoped>\n",
              "    .dataframe tbody tr th:only-of-type {\n",
              "        vertical-align: middle;\n",
              "    }\n",
              "\n",
              "    .dataframe tbody tr th {\n",
              "        vertical-align: top;\n",
              "    }\n",
              "\n",
              "    .dataframe thead th {\n",
              "        text-align: right;\n",
              "    }\n",
              "</style>\n",
              "<table border=\"1\" class=\"dataframe\">\n",
              "  <thead>\n",
              "    <tr style=\"text-align: right;\">\n",
              "      <th></th>\n",
              "      <th>Pclass</th>\n",
              "      <th>Sex</th>\n",
              "      <th>Age</th>\n",
              "      <th>Fare</th>\n",
              "    </tr>\n",
              "  </thead>\n",
              "  <tbody>\n",
              "    <tr>\n",
              "      <th>0</th>\n",
              "      <td>3</td>\n",
              "      <td>0</td>\n",
              "      <td>22.0</td>\n",
              "      <td>7.2500</td>\n",
              "    </tr>\n",
              "    <tr>\n",
              "      <th>1</th>\n",
              "      <td>1</td>\n",
              "      <td>1</td>\n",
              "      <td>38.0</td>\n",
              "      <td>71.2833</td>\n",
              "    </tr>\n",
              "    <tr>\n",
              "      <th>2</th>\n",
              "      <td>3</td>\n",
              "      <td>1</td>\n",
              "      <td>26.0</td>\n",
              "      <td>7.9250</td>\n",
              "    </tr>\n",
              "    <tr>\n",
              "      <th>3</th>\n",
              "      <td>1</td>\n",
              "      <td>1</td>\n",
              "      <td>35.0</td>\n",
              "      <td>53.1000</td>\n",
              "    </tr>\n",
              "    <tr>\n",
              "      <th>4</th>\n",
              "      <td>3</td>\n",
              "      <td>0</td>\n",
              "      <td>35.0</td>\n",
              "      <td>8.0500</td>\n",
              "    </tr>\n",
              "  </tbody>\n",
              "</table>\n",
              "</div>"
            ],
            "text/plain": [
              "   Pclass  Sex   Age     Fare\n",
              "0       3    0  22.0   7.2500\n",
              "1       1    1  38.0  71.2833\n",
              "2       3    1  26.0   7.9250\n",
              "3       1    1  35.0  53.1000\n",
              "4       3    0  35.0   8.0500"
            ]
          },
          "metadata": {
            "tags": []
          },
          "execution_count": 17
        }
      ]
    },
    {
      "cell_type": "code",
      "metadata": {
        "id": "VfpAEuk_KZ83",
        "colab": {
          "base_uri": "https://localhost:8080/",
          "height": 394
        },
        "outputId": "0d77a2a5-153e-4459-c362-17a04808f810"
      },
      "source": [
        "plt.style.use('bmh')\n",
        "plt.tight_layout()\n",
        "df.hist(figsize = (14,4), layout = (2,6))"
      ],
      "execution_count": null,
      "outputs": [
        {
          "output_type": "execute_result",
          "data": {
            "text/plain": [
              "array([[<matplotlib.axes._subplots.AxesSubplot object at 0x7ff511c2c748>,\n",
              "        <matplotlib.axes._subplots.AxesSubplot object at 0x7ff511bdd9e8>,\n",
              "        <matplotlib.axes._subplots.AxesSubplot object at 0x7ff511b90c50>,\n",
              "        <matplotlib.axes._subplots.AxesSubplot object at 0x7ff511b47eb8>,\n",
              "        <matplotlib.axes._subplots.AxesSubplot object at 0x7ff511b05160>,\n",
              "        <matplotlib.axes._subplots.AxesSubplot object at 0x7ff511b85710>],\n",
              "       [<matplotlib.axes._subplots.AxesSubplot object at 0x7ff511ad90f0>,\n",
              "        <matplotlib.axes._subplots.AxesSubplot object at 0x7ff511a8c320>,\n",
              "        <matplotlib.axes._subplots.AxesSubplot object at 0x7ff511a8c390>,\n",
              "        <matplotlib.axes._subplots.AxesSubplot object at 0x7ff511a76828>,\n",
              "        <matplotlib.axes._subplots.AxesSubplot object at 0x7ff511a29a90>,\n",
              "        <matplotlib.axes._subplots.AxesSubplot object at 0x7ff5119decf8>]],\n",
              "      dtype=object)"
            ]
          },
          "metadata": {
            "tags": []
          },
          "execution_count": 18
        },
        {
          "output_type": "display_data",
          "data": {
            "text/plain": [
              "<Figure size 432x288 with 0 Axes>"
            ]
          },
          "metadata": {
            "tags": []
          }
        },
        {
          "output_type": "display_data",
          "data": {
            "image/png": "[encoded data removed]",
            "text/plain": [
              "<Figure size 1008x288 with 12 Axes>"
            ]
          },
          "metadata": {
            "tags": [],
            "needs_background": "light"
          }
        }
      ]
    },
    {
      "cell_type": "code",
      "metadata": {
        "id": "Jcg19X0GBjf8",
        "colab": {
          "base_uri": "https://localhost:8080/",
          "height": 102
        },
        "outputId": "9822b634-d8dc-40dd-c4c3-60e658f7e144"
      },
      "source": [
        "empty_entries_per_column = df.isna().sum(axis = 0)\n",
        "empty_entries_per_column"
      ],
      "execution_count": null,
      "outputs": [
        {
          "output_type": "execute_result",
          "data": {
            "text/plain": [
              "Pclass      0\n",
              "Sex         0\n",
              "Age       263\n",
              "Fare        1\n",
              "dtype: int64"
            ]
          },
          "metadata": {
            "tags": []
          },
          "execution_count": 19
        }
      ]
    },
    {
      "cell_type": "code",
      "metadata": {
        "id": "4FzJ1LNk9HcL"
      },
      "source": [
        "# column Age: fill missing values\n",
        "\n",
        "# median age for male\n",
        "mean_male = df[df['Sex'] == 0]['Age'].mean()\n",
        "\n",
        "# meadian age for female\n",
        "mean_female = df[df['Sex'] == 1]['Age'].mean()\n",
        "\n",
        "# print\n",
        "mean_male, mean_female\n",
        "\n",
        "# fill NaN in Age column with median_male if male, or median_female if female\n",
        "df['Age'] = np.where(df['Sex']== 1, df['Age'].fillna(mean_female), df['Age'].fillna(mean_male))"
      ],
      "execution_count": null,
      "outputs": []
    },
    {
      "cell_type": "code",
      "metadata": {
        "id": "e0EVS_-oeRqH"
      },
      "source": [
        "# column Fare\n",
        "df['Fare'] = df['Fare'].fillna(df['Fare'].median())"
      ],
      "execution_count": null,
      "outputs": []
    },
    {
      "cell_type": "code",
      "metadata": {
        "id": "KoYzv5ZuEHr_",
        "colab": {
          "base_uri": "https://localhost:8080/",
          "height": 102
        },
        "outputId": "d214765e-0ece-4015-af62-eb2e0cd2a96d"
      },
      "source": [
        "empty_entries_per_column = df.isna().sum(axis = 0)\n",
        "empty_entries_per_column"
      ],
      "execution_count": null,
      "outputs": [
        {
          "output_type": "execute_result",
          "data": {
            "text/plain": [
              "Pclass    0\n",
              "Sex       0\n",
              "Age       0\n",
              "Fare      0\n",
              "dtype: int64"
            ]
          },
          "metadata": {
            "tags": []
          },
          "execution_count": 22
        }
      ]
    },
    {
      "cell_type": "code",
      "metadata": {
        "id": "IGkATgn2-HGS",
        "colab": {
          "base_uri": "https://localhost:8080/",
          "height": 34
        },
        "outputId": "bc0ea42a-e5a8-44e1-ddd5-02cf741220b1"
      },
      "source": [
        "df.isnull().values.any()"
      ],
      "execution_count": null,
      "outputs": [
        {
          "output_type": "execute_result",
          "data": {
            "text/plain": [
              "False"
            ]
          },
          "metadata": {
            "tags": []
          },
          "execution_count": 23
        }
      ]
    },
    {
      "cell_type": "code",
      "metadata": {
        "id": "r3wRs4JaNRr2",
        "colab": {
          "base_uri": "https://localhost:8080/",
          "height": 419
        },
        "outputId": "6bda632c-2d36-4243-fe66-56ab8c630688"
      },
      "source": [
        "# analysing Fare column x Survived column\n",
        "ordered = df_original.sort_values(by = 'Fare', ascending = False)[['Fare', 'Survived']]\n",
        "ordered"
      ],
      "execution_count": null,
      "outputs": [
        {
          "output_type": "execute_result",
          "data": {
            "text/html": [
              "<div>\n",
              "<style scoped>\n",
              "    .dataframe tbody tr th:only-of-type {\n",
              "        vertical-align: middle;\n",
              "    }\n",
              "\n",
              "    .dataframe tbody tr th {\n",
              "        vertical-align: top;\n",
              "    }\n",
              "\n",
              "    .dataframe thead th {\n",
              "        text-align: right;\n",
              "    }\n",
              "</style>\n",
              "<table border=\"1\" class=\"dataframe\">\n",
              "  <thead>\n",
              "    <tr style=\"text-align: right;\">\n",
              "      <th></th>\n",
              "      <th>Fare</th>\n",
              "      <th>Survived</th>\n",
              "    </tr>\n",
              "  </thead>\n",
              "  <tbody>\n",
              "    <tr>\n",
              "      <th>258</th>\n",
              "      <td>512.3292</td>\n",
              "      <td>1</td>\n",
              "    </tr>\n",
              "    <tr>\n",
              "      <th>737</th>\n",
              "      <td>512.3292</td>\n",
              "      <td>1</td>\n",
              "    </tr>\n",
              "    <tr>\n",
              "      <th>679</th>\n",
              "      <td>512.3292</td>\n",
              "      <td>1</td>\n",
              "    </tr>\n",
              "    <tr>\n",
              "      <th>88</th>\n",
              "      <td>263.0000</td>\n",
              "      <td>1</td>\n",
              "    </tr>\n",
              "    <tr>\n",
              "      <th>27</th>\n",
              "      <td>263.0000</td>\n",
              "      <td>0</td>\n",
              "    </tr>\n",
              "    <tr>\n",
              "      <th>...</th>\n",
              "      <td>...</td>\n",
              "      <td>...</td>\n",
              "    </tr>\n",
              "    <tr>\n",
              "      <th>633</th>\n",
              "      <td>0.0000</td>\n",
              "      <td>0</td>\n",
              "    </tr>\n",
              "    <tr>\n",
              "      <th>413</th>\n",
              "      <td>0.0000</td>\n",
              "      <td>0</td>\n",
              "    </tr>\n",
              "    <tr>\n",
              "      <th>822</th>\n",
              "      <td>0.0000</td>\n",
              "      <td>0</td>\n",
              "    </tr>\n",
              "    <tr>\n",
              "      <th>732</th>\n",
              "      <td>0.0000</td>\n",
              "      <td>0</td>\n",
              "    </tr>\n",
              "    <tr>\n",
              "      <th>674</th>\n",
              "      <td>0.0000</td>\n",
              "      <td>0</td>\n",
              "    </tr>\n",
              "  </tbody>\n",
              "</table>\n",
              "<p>891 rows × 2 columns</p>\n",
              "</div>"
            ],
            "text/plain": [
              "         Fare  Survived\n",
              "258  512.3292         1\n",
              "737  512.3292         1\n",
              "679  512.3292         1\n",
              "88   263.0000         1\n",
              "27   263.0000         0\n",
              "..        ...       ...\n",
              "633    0.0000         0\n",
              "413    0.0000         0\n",
              "822    0.0000         0\n",
              "732    0.0000         0\n",
              "674    0.0000         0\n",
              "\n",
              "[891 rows x 2 columns]"
            ]
          },
          "metadata": {
            "tags": []
          },
          "execution_count": 24
        }
      ]
    },
    {
      "cell_type": "code",
      "metadata": {
        "id": "1BQio2oZOxW_",
        "colab": {
          "base_uri": "https://localhost:8080/",
          "height": 296
        },
        "outputId": "37c6dce1-4acf-46b1-b9be-bdd6c2516613"
      },
      "source": [
        "# plotting Fare column x Survived column\n",
        "sns.boxplot(ordered['Survived'], ordered['Fare'])"
      ],
      "execution_count": null,
      "outputs": [
        {
          "output_type": "execute_result",
          "data": {
            "text/plain": [
              "<matplotlib.axes._subplots.AxesSubplot at 0x7ff52e7cd438>"
            ]
          },
          "metadata": {
            "tags": []
          },
          "execution_count": 25
        },
        {
          "output_type": "display_data",
          "data": {
            "image/png": "[encoded data removed]",
            "text/plain": [
              "<Figure size 432x288 with 1 Axes>"
            ]
          },
          "metadata": {
            "tags": [],
            "needs_background": "light"
          }
        }
      ]
    },
    {
      "cell_type": "markdown",
      "metadata": {
        "id": "Nz-LfGgAKm7P"
      },
      "source": [
        "# Features, Target"
      ]
    },
    {
      "cell_type": "markdown",
      "metadata": {
        "id": "tF9BAVfTZkRM"
      },
      "source": [
        "Previously we concatenated both train and test features to make the changes and transformations apply to all of them. Now we are done with the transformations and we will undo this, since we are going to train the models next."
      ]
    },
    {
      "cell_type": "code",
      "metadata": {
        "id": "Xlsyh7lLKvRS",
        "colab": {
          "base_uri": "https://localhost:8080/",
          "height": 204
        },
        "outputId": "52c8d9ea-dfa3-4e78-b923-01585e4cdac1"
      },
      "source": [
        "df.head()"
      ],
      "execution_count": null,
      "outputs": [
        {
          "output_type": "execute_result",
          "data": {
            "text/html": [
              "<div>\n",
              "<style scoped>\n",
              "    .dataframe tbody tr th:only-of-type {\n",
              "        vertical-align: middle;\n",
              "    }\n",
              "\n",
              "    .dataframe tbody tr th {\n",
              "        vertical-align: top;\n",
              "    }\n",
              "\n",
              "    .dataframe thead th {\n",
              "        text-align: right;\n",
              "    }\n",
              "</style>\n",
              "<table border=\"1\" class=\"dataframe\">\n",
              "  <thead>\n",
              "    <tr style=\"text-align: right;\">\n",
              "      <th></th>\n",
              "      <th>Pclass</th>\n",
              "      <th>Sex</th>\n",
              "      <th>Age</th>\n",
              "      <th>Fare</th>\n",
              "    </tr>\n",
              "  </thead>\n",
              "  <tbody>\n",
              "    <tr>\n",
              "      <th>0</th>\n",
              "      <td>3</td>\n",
              "      <td>0</td>\n",
              "      <td>22.0</td>\n",
              "      <td>7.2500</td>\n",
              "    </tr>\n",
              "    <tr>\n",
              "      <th>1</th>\n",
              "      <td>1</td>\n",
              "      <td>1</td>\n",
              "      <td>38.0</td>\n",
              "      <td>71.2833</td>\n",
              "    </tr>\n",
              "    <tr>\n",
              "      <th>2</th>\n",
              "      <td>3</td>\n",
              "      <td>1</td>\n",
              "      <td>26.0</td>\n",
              "      <td>7.9250</td>\n",
              "    </tr>\n",
              "    <tr>\n",
              "      <th>3</th>\n",
              "      <td>1</td>\n",
              "      <td>1</td>\n",
              "      <td>35.0</td>\n",
              "      <td>53.1000</td>\n",
              "    </tr>\n",
              "    <tr>\n",
              "      <th>4</th>\n",
              "      <td>3</td>\n",
              "      <td>0</td>\n",
              "      <td>35.0</td>\n",
              "      <td>8.0500</td>\n",
              "    </tr>\n",
              "  </tbody>\n",
              "</table>\n",
              "</div>"
            ],
            "text/plain": [
              "   Pclass  Sex   Age     Fare\n",
              "0       3    0  22.0   7.2500\n",
              "1       1    1  38.0  71.2833\n",
              "2       3    1  26.0   7.9250\n",
              "3       1    1  35.0  53.1000\n",
              "4       3    0  35.0   8.0500"
            ]
          },
          "metadata": {
            "tags": []
          },
          "execution_count": 26
        }
      ]
    },
    {
      "cell_type": "code",
      "metadata": {
        "id": "4oxdiw0M6jh0",
        "colab": {
          "base_uri": "https://localhost:8080/",
          "height": 419
        },
        "outputId": "c7227600-092e-4ae5-839c-102997c17918"
      },
      "source": [
        "# undo concatanation\n",
        "features = df.iloc[:len(df_original), :]\n",
        "features"
      ],
      "execution_count": null,
      "outputs": [
        {
          "output_type": "execute_result",
          "data": {
            "text/html": [
              "<div>\n",
              "<style scoped>\n",
              "    .dataframe tbody tr th:only-of-type {\n",
              "        vertical-align: middle;\n",
              "    }\n",
              "\n",
              "    .dataframe tbody tr th {\n",
              "        vertical-align: top;\n",
              "    }\n",
              "\n",
              "    .dataframe thead th {\n",
              "        text-align: right;\n",
              "    }\n",
              "</style>\n",
              "<table border=\"1\" class=\"dataframe\">\n",
              "  <thead>\n",
              "    <tr style=\"text-align: right;\">\n",
              "      <th></th>\n",
              "      <th>Pclass</th>\n",
              "      <th>Sex</th>\n",
              "      <th>Age</th>\n",
              "      <th>Fare</th>\n",
              "    </tr>\n",
              "  </thead>\n",
              "  <tbody>\n",
              "    <tr>\n",
              "      <th>0</th>\n",
              "      <td>3</td>\n",
              "      <td>0</td>\n",
              "      <td>22.000000</td>\n",
              "      <td>7.2500</td>\n",
              "    </tr>\n",
              "    <tr>\n",
              "      <th>1</th>\n",
              "      <td>1</td>\n",
              "      <td>1</td>\n",
              "      <td>38.000000</td>\n",
              "      <td>71.2833</td>\n",
              "    </tr>\n",
              "    <tr>\n",
              "      <th>2</th>\n",
              "      <td>3</td>\n",
              "      <td>1</td>\n",
              "      <td>26.000000</td>\n",
              "      <td>7.9250</td>\n",
              "    </tr>\n",
              "    <tr>\n",
              "      <th>3</th>\n",
              "      <td>1</td>\n",
              "      <td>1</td>\n",
              "      <td>35.000000</td>\n",
              "      <td>53.1000</td>\n",
              "    </tr>\n",
              "    <tr>\n",
              "      <th>4</th>\n",
              "      <td>3</td>\n",
              "      <td>0</td>\n",
              "      <td>35.000000</td>\n",
              "      <td>8.0500</td>\n",
              "    </tr>\n",
              "    <tr>\n",
              "      <th>...</th>\n",
              "      <td>...</td>\n",
              "      <td>...</td>\n",
              "      <td>...</td>\n",
              "      <td>...</td>\n",
              "    </tr>\n",
              "    <tr>\n",
              "      <th>886</th>\n",
              "      <td>2</td>\n",
              "      <td>0</td>\n",
              "      <td>27.000000</td>\n",
              "      <td>13.0000</td>\n",
              "    </tr>\n",
              "    <tr>\n",
              "      <th>887</th>\n",
              "      <td>1</td>\n",
              "      <td>1</td>\n",
              "      <td>19.000000</td>\n",
              "      <td>30.0000</td>\n",
              "    </tr>\n",
              "    <tr>\n",
              "      <th>888</th>\n",
              "      <td>3</td>\n",
              "      <td>1</td>\n",
              "      <td>28.687088</td>\n",
              "      <td>23.4500</td>\n",
              "    </tr>\n",
              "    <tr>\n",
              "      <th>889</th>\n",
              "      <td>1</td>\n",
              "      <td>0</td>\n",
              "      <td>26.000000</td>\n",
              "      <td>30.0000</td>\n",
              "    </tr>\n",
              "    <tr>\n",
              "      <th>890</th>\n",
              "      <td>3</td>\n",
              "      <td>0</td>\n",
              "      <td>32.000000</td>\n",
              "      <td>7.7500</td>\n",
              "    </tr>\n",
              "  </tbody>\n",
              "</table>\n",
              "<p>891 rows × 4 columns</p>\n",
              "</div>"
            ],
            "text/plain": [
              "     Pclass  Sex        Age     Fare\n",
              "0         3    0  22.000000   7.2500\n",
              "1         1    1  38.000000  71.2833\n",
              "2         3    1  26.000000   7.9250\n",
              "3         1    1  35.000000  53.1000\n",
              "4         3    0  35.000000   8.0500\n",
              "..      ...  ...        ...      ...\n",
              "886       2    0  27.000000  13.0000\n",
              "887       1    1  19.000000  30.0000\n",
              "888       3    1  28.687088  23.4500\n",
              "889       1    0  26.000000  30.0000\n",
              "890       3    0  32.000000   7.7500\n",
              "\n",
              "[891 rows x 4 columns]"
            ]
          },
          "metadata": {
            "tags": []
          },
          "execution_count": 27
        }
      ]
    },
    {
      "cell_type": "code",
      "metadata": {
        "id": "MnVpOS5RcVKV"
      },
      "source": [
        "# undo concatanation\n",
        "test_features = df.iloc[len(df_original):, :]"
      ],
      "execution_count": null,
      "outputs": []
    },
    {
      "cell_type": "code",
      "metadata": {
        "id": "93DohyMc6z5E",
        "colab": {
          "base_uri": "https://localhost:8080/",
          "height": 221
        },
        "outputId": "b2cb1fce-fe9f-4290-e641-b3c88a372de3"
      },
      "source": [
        "target = df_original['Survived']\n",
        "target"
      ],
      "execution_count": null,
      "outputs": [
        {
          "output_type": "execute_result",
          "data": {
            "text/plain": [
              "0      0\n",
              "1      1\n",
              "2      1\n",
              "3      1\n",
              "4      0\n",
              "      ..\n",
              "886    0\n",
              "887    1\n",
              "888    0\n",
              "889    1\n",
              "890    0\n",
              "Name: Survived, Length: 891, dtype: int64"
            ]
          },
          "metadata": {
            "tags": []
          },
          "execution_count": 29
        }
      ]
    },
    {
      "cell_type": "code",
      "metadata": {
        "id": "OFsa1GuhMMfA",
        "colab": {
          "base_uri": "https://localhost:8080/",
          "height": 204
        },
        "outputId": "8ac881ae-cfbe-4086-be67-1849015d87d3"
      },
      "source": [
        "# concatenate df and target to check new correlations for the transformed dataset\n",
        "\n",
        "df_transformed = pd.concat([df_original['Survived'], features], axis = 1)\n",
        "df_transformed.head()"
      ],
      "execution_count": null,
      "outputs": [
        {
          "output_type": "execute_result",
          "data": {
            "text/html": [
              "<div>\n",
              "<style scoped>\n",
              "    .dataframe tbody tr th:only-of-type {\n",
              "        vertical-align: middle;\n",
              "    }\n",
              "\n",
              "    .dataframe tbody tr th {\n",
              "        vertical-align: top;\n",
              "    }\n",
              "\n",
              "    .dataframe thead th {\n",
              "        text-align: right;\n",
              "    }\n",
              "</style>\n",
              "<table border=\"1\" class=\"dataframe\">\n",
              "  <thead>\n",
              "    <tr style=\"text-align: right;\">\n",
              "      <th></th>\n",
              "      <th>Survived</th>\n",
              "      <th>Pclass</th>\n",
              "      <th>Sex</th>\n",
              "      <th>Age</th>\n",
              "      <th>Fare</th>\n",
              "    </tr>\n",
              "  </thead>\n",
              "  <tbody>\n",
              "    <tr>\n",
              "      <th>0</th>\n",
              "      <td>0</td>\n",
              "      <td>3</td>\n",
              "      <td>0</td>\n",
              "      <td>22.0</td>\n",
              "      <td>7.2500</td>\n",
              "    </tr>\n",
              "    <tr>\n",
              "      <th>1</th>\n",
              "      <td>1</td>\n",
              "      <td>1</td>\n",
              "      <td>1</td>\n",
              "      <td>38.0</td>\n",
              "      <td>71.2833</td>\n",
              "    </tr>\n",
              "    <tr>\n",
              "      <th>2</th>\n",
              "      <td>1</td>\n",
              "      <td>3</td>\n",
              "      <td>1</td>\n",
              "      <td>26.0</td>\n",
              "      <td>7.9250</td>\n",
              "    </tr>\n",
              "    <tr>\n",
              "      <th>3</th>\n",
              "      <td>1</td>\n",
              "      <td>1</td>\n",
              "      <td>1</td>\n",
              "      <td>35.0</td>\n",
              "      <td>53.1000</td>\n",
              "    </tr>\n",
              "    <tr>\n",
              "      <th>4</th>\n",
              "      <td>0</td>\n",
              "      <td>3</td>\n",
              "      <td>0</td>\n",
              "      <td>35.0</td>\n",
              "      <td>8.0500</td>\n",
              "    </tr>\n",
              "  </tbody>\n",
              "</table>\n",
              "</div>"
            ],
            "text/plain": [
              "   Survived  Pclass  Sex   Age     Fare\n",
              "0         0       3    0  22.0   7.2500\n",
              "1         1       1    1  38.0  71.2833\n",
              "2         1       3    1  26.0   7.9250\n",
              "3         1       1    1  35.0  53.1000\n",
              "4         0       3    0  35.0   8.0500"
            ]
          },
          "metadata": {
            "tags": []
          },
          "execution_count": 30
        }
      ]
    },
    {
      "cell_type": "code",
      "metadata": {
        "id": "xR7mAiiMJxhh",
        "colab": {
          "base_uri": "https://localhost:8080/",
          "height": 609
        },
        "outputId": "14f4452d-7217-4d5e-c7ef-a4eeecb8f79b"
      },
      "source": [
        "# correlations to the target seem much better now\n",
        "corr = df_transformed.corr()\n",
        "plt.figure(figsize=(10,10))\n",
        "sns.heatmap(corr, annot = True, vmin=-1, vmax=1, center= 0, cmap= 'coolwarm')"
      ],
      "execution_count": null,
      "outputs": [
        {
          "output_type": "execute_result",
          "data": {
            "text/plain": [
              "<matplotlib.axes._subplots.AxesSubplot at 0x7ff515d1acf8>"
            ]
          },
          "metadata": {
            "tags": []
          },
          "execution_count": 31
        },
        {
          "output_type": "display_data",
          "data": {
            "image/png": "[encoded data removed]",
            "text/plain": [
              "<Figure size 720x720 with 2 Axes>"
            ]
          },
          "metadata": {
            "tags": [],
            "needs_background": "light"
          }
        }
      ]
    },
    {
      "cell_type": "markdown",
      "metadata": {
        "id": "U7e-b56SVfzB"
      },
      "source": [
        "# Balance"
      ]
    },
    {
      "cell_type": "markdown",
      "metadata": {
        "id": "URcMEP1gHGzl"
      },
      "source": [
        "We apply the balancing methods:\n",
        "\n",
        "AFTER we've done the transformations to the combined dataset (so we don't oversample dirty data),\n",
        "\n",
        "AFTER we have undone the concatenation (so we have clean features (X) and all the targets (y),\n",
        "\n",
        "and BEFORE the splitting to feed the models (so we split the generated/deleted rows also, increasing/decreasing size of X_train and y_train).\n",
        "\n",
        "It's not possible to apply the oversampling/undersampling methods before undoing the concatanation of the combined dataset because we don't have the target values for the test data!\n",
        "\n",
        "\n",
        "SMOTE: https://imbalanced-learn.readthedocs.io/en/stable/generated/imblearn.over_sampling.SMOTE.html"
      ]
    },
    {
      "cell_type": "code",
      "metadata": {
        "id": "hywsJKeDFSdJ",
        "colab": {
          "base_uri": "https://localhost:8080/",
          "height": 142
        },
        "outputId": "8ff2e7a9-2f41-410b-9edc-a56cd843adf6"
      },
      "source": [
        "# Survived count\n",
        "# 0: died\n",
        "# 1: survived\n",
        "df_original.groupby('Survived').count()"
      ],
      "execution_count": null,
      "outputs": [
        {
          "output_type": "execute_result",
          "data": {
            "text/html": [
              "<div>\n",
              "<style scoped>\n",
              "    .dataframe tbody tr th:only-of-type {\n",
              "        vertical-align: middle;\n",
              "    }\n",
              "\n",
              "    .dataframe tbody tr th {\n",
              "        vertical-align: top;\n",
              "    }\n",
              "\n",
              "    .dataframe thead th {\n",
              "        text-align: right;\n",
              "    }\n",
              "</style>\n",
              "<table border=\"1\" class=\"dataframe\">\n",
              "  <thead>\n",
              "    <tr style=\"text-align: right;\">\n",
              "      <th></th>\n",
              "      <th>PassengerId</th>\n",
              "      <th>Pclass</th>\n",
              "      <th>Name</th>\n",
              "      <th>Sex</th>\n",
              "      <th>Age</th>\n",
              "      <th>SibSp</th>\n",
              "      <th>Parch</th>\n",
              "      <th>Ticket</th>\n",
              "      <th>Fare</th>\n",
              "      <th>Cabin</th>\n",
              "      <th>Embarked</th>\n",
              "    </tr>\n",
              "    <tr>\n",
              "      <th>Survived</th>\n",
              "      <th></th>\n",
              "      <th></th>\n",
              "      <th></th>\n",
              "      <th></th>\n",
              "      <th></th>\n",
              "      <th></th>\n",
              "      <th></th>\n",
              "      <th></th>\n",
              "      <th></th>\n",
              "      <th></th>\n",
              "      <th></th>\n",
              "    </tr>\n",
              "  </thead>\n",
              "  <tbody>\n",
              "    <tr>\n",
              "      <th>0</th>\n",
              "      <td>549</td>\n",
              "      <td>549</td>\n",
              "      <td>549</td>\n",
              "      <td>549</td>\n",
              "      <td>424</td>\n",
              "      <td>549</td>\n",
              "      <td>549</td>\n",
              "      <td>549</td>\n",
              "      <td>549</td>\n",
              "      <td>68</td>\n",
              "      <td>549</td>\n",
              "    </tr>\n",
              "    <tr>\n",
              "      <th>1</th>\n",
              "      <td>342</td>\n",
              "      <td>342</td>\n",
              "      <td>342</td>\n",
              "      <td>342</td>\n",
              "      <td>290</td>\n",
              "      <td>342</td>\n",
              "      <td>342</td>\n",
              "      <td>342</td>\n",
              "      <td>342</td>\n",
              "      <td>136</td>\n",
              "      <td>340</td>\n",
              "    </tr>\n",
              "  </tbody>\n",
              "</table>\n",
              "</div>"
            ],
            "text/plain": [
              "          PassengerId  Pclass  Name  Sex  ...  Ticket  Fare  Cabin  Embarked\n",
              "Survived                                  ...                               \n",
              "0                 549     549   549  549  ...     549   549     68       549\n",
              "1                 342     342   342  342  ...     342   342    136       340\n",
              "\n",
              "[2 rows x 11 columns]"
            ]
          },
          "metadata": {
            "tags": []
          },
          "execution_count": 32
        }
      ]
    },
    {
      "cell_type": "code",
      "metadata": {
        "id": "7D-c7B6wNeZi",
        "colab": {
          "base_uri": "https://localhost:8080/",
          "height": 119
        },
        "outputId": "4ad43249-173e-4063-a90b-ae4ca829b739"
      },
      "source": [
        "print(\"Survived:\", df_original[df_original['Survived'] == 1]['PassengerId'].count())\n",
        "print(\"Survived:\", round(df_original[df_original['Survived'] == 1]['PassengerId'].count()/df_original['PassengerId'].count(), 4), \"%\")\n",
        "\n",
        "print(\"\\n\\nDied:\", df_original[df_original['Survived'] == 0]['PassengerId'].count())\n",
        "print(\"Died:\", round(df_original[df_original['Survived'] == 0]['PassengerId'].count()/df_original['PassengerId'].count(), 4), \"%\")"
      ],
      "execution_count": null,
      "outputs": [
        {
          "output_type": "stream",
          "text": [
            "Survived: 342\n",
            "Survived: 0.3838 %\n",
            "\n",
            "\n",
            "Died: 549\n",
            "Died: 0.6162 %\n"
          ],
          "name": "stdout"
        }
      ]
    },
    {
      "cell_type": "markdown",
      "metadata": {
        "id": "volK2TTuM3da"
      },
      "source": [
        "Although the dataset is not really imbalanced, we can try to use some imblearn to see if it gets better."
      ]
    },
    {
      "cell_type": "code",
      "metadata": {
        "id": "bBWTdRK5Vlif",
        "colab": {
          "base_uri": "https://localhost:8080/",
          "height": 105
        },
        "outputId": "236c10e1-009d-43ef-e9ae-bf16c93fd5f2"
      },
      "source": [
        "from imblearn.over_sampling import SMOTE\n",
        "from collections import Counter"
      ],
      "execution_count": null,
      "outputs": [
        {
          "output_type": "stream",
          "text": [
            "/usr/local/lib/python3.6/dist-packages/sklearn/externals/six.py:31: FutureWarning: The module is deprecated in version 0.21 and will be removed in version 0.23 since we've dropped support for Python 2.7. Please rely on the official version of six (https://pypi.org/project/six/).\n",
            "  \"(https://pypi.org/project/six/).\", FutureWarning)\n",
            "/usr/local/lib/python3.6/dist-packages/sklearn/utils/deprecation.py:144: FutureWarning: The sklearn.neighbors.base module is  deprecated in version 0.22 and will be removed in version 0.24. The corresponding classes / functions should instead be imported from sklearn.neighbors. Anything that cannot be imported from sklearn.neighbors is now part of the private API.\n",
            "  warnings.warn(message, FutureWarning)\n"
          ],
          "name": "stderr"
        }
      ]
    },
    {
      "cell_type": "code",
      "metadata": {
        "id": "1xaH6W3rLrZM",
        "colab": {
          "base_uri": "https://localhost:8080/",
          "height": 34
        },
        "outputId": "42e72b94-4af4-4744-df26-a52ab1e160ae"
      },
      "source": [
        "# 891 rows * 0.8 split = 712 rows\n",
        "features.shape, target.shape"
      ],
      "execution_count": null,
      "outputs": [
        {
          "output_type": "execute_result",
          "data": {
            "text/plain": [
              "((891, 4), (891,))"
            ]
          },
          "metadata": {
            "tags": []
          },
          "execution_count": 35
        }
      ]
    },
    {
      "cell_type": "code",
      "metadata": {
        "id": "2zZPzphQGVve",
        "colab": {
          "base_uri": "https://localhost:8080/",
          "height": 88
        },
        "outputId": "ccc73ae3-f197-4481-f26e-ae081d6bc176"
      },
      "source": [
        "sm = SMOTE(random_state = 0, sampling_strategy = 'minority')\n",
        "X_bal, y_bal = sm.fit_resample(features, target)\n",
        "\n",
        "print('Resampled dataset shape %s' % Counter(target))"
      ],
      "execution_count": null,
      "outputs": [
        {
          "output_type": "stream",
          "text": [
            "Resampled dataset shape Counter({0: 549, 1: 342})\n"
          ],
          "name": "stdout"
        },
        {
          "output_type": "stream",
          "text": [
            "/usr/local/lib/python3.6/dist-packages/sklearn/utils/deprecation.py:87: FutureWarning: Function safe_indexing is deprecated; safe_indexing is deprecated in version 0.22 and will be removed in version 0.24.\n",
            "  warnings.warn(msg, category=FutureWarning)\n"
          ],
          "name": "stderr"
        }
      ]
    },
    {
      "cell_type": "code",
      "metadata": {
        "id": "XpC8r4g7GVoo",
        "colab": {
          "base_uri": "https://localhost:8080/",
          "height": 34
        },
        "outputId": "70a7ecf0-ec6c-4a82-d9d8-c2059bcdb193"
      },
      "source": [
        "# resampled with SMOTE\n",
        "X_bal.shape, y_bal.shape"
      ],
      "execution_count": null,
      "outputs": [
        {
          "output_type": "execute_result",
          "data": {
            "text/plain": [
              "((1098, 4), (1098,))"
            ]
          },
          "metadata": {
            "tags": []
          },
          "execution_count": 37
        }
      ]
    },
    {
      "cell_type": "markdown",
      "metadata": {
        "id": "8hUOg5OrNKPM"
      },
      "source": [
        "# Normalization"
      ]
    },
    {
      "cell_type": "markdown",
      "metadata": {
        "id": "AF7qgOt-SOPN"
      },
      "source": [
        "Better to do it in a Pipeline, when defining the classifier (eg. MLP).\n",
        "\n",
        "Scaling doesn't affect tree-based models."
      ]
    },
    {
      "cell_type": "markdown",
      "metadata": {
        "id": "MtzJOEclX1H4"
      },
      "source": [
        "# Split"
      ]
    },
    {
      "cell_type": "markdown",
      "metadata": {
        "id": "tEM26Hh1hOP2"
      },
      "source": [
        "Use X_bal, y_bal to use SMOTE; or\n",
        "use features, target to disconsider Balance section and SMOTE."
      ]
    },
    {
      "cell_type": "code",
      "metadata": {
        "id": "sXqkdfvcK-D1"
      },
      "source": [
        "# stratify?\n",
        "X_train, X_test, y_train, y_test = train_test_split(X_bal, y_bal, test_size = 0.2,\n",
        "                                                      stratify = y_bal, random_state = 0)"
      ],
      "execution_count": null,
      "outputs": []
    },
    {
      "cell_type": "code",
      "metadata": {
        "id": "Lr3daXAHE4oH"
      },
      "source": [
        "# Run this cell to train models with the whole dataset\n",
        "# no split!\n",
        "X_train = X_bal\n",
        "y_train = y_bal"
      ],
      "execution_count": null,
      "outputs": []
    },
    {
      "cell_type": "markdown",
      "metadata": {
        "id": "05IxXUv8MIYS"
      },
      "source": [
        "# Modeling"
      ]
    },
    {
      "cell_type": "code",
      "metadata": {
        "id": "qqbQ0qg5NdJV"
      },
      "source": [
        "scores = {}"
      ],
      "execution_count": null,
      "outputs": []
    },
    {
      "cell_type": "code",
      "metadata": {
        "id": "ozBLDgCTXHpU"
      },
      "source": [
        "# Cross Validation\n",
        "kf = KFold(n_splits=12, random_state=0, shuffle=True)\n",
        "\n",
        "# Root Mean Squared Error (for Cross Validation Evaluation)\n",
        "def cv(model):\n",
        "  score = cross_val_score(model, X_train, y_train, scoring = 'accuracy', n_jobs = -1, cv = kf)\n",
        "  return score"
      ],
      "execution_count": null,
      "outputs": []
    },
    {
      "cell_type": "markdown",
      "metadata": {
        "id": "70rZyMPKRiNl"
      },
      "source": [
        "## Random Forest"
      ]
    },
    {
      "cell_type": "code",
      "metadata": {
        "id": "qNXTQXzHW0iV",
        "colab": {
          "base_uri": "https://localhost:8080/",
          "height": 34
        },
        "outputId": "c5e88d86-6792-4ed3-f5f9-e43efb0b71a6"
      },
      "source": [
        "rf = RandomForestClassifier(random_state=0, n_jobs = -1)\n",
        "\n",
        "score = cv(rf)\n",
        "print(\"Random Forest: {:.4f} ({:.4f})\".format(score.mean(), score.std()))"
      ],
      "execution_count": null,
      "outputs": [
        {
          "output_type": "stream",
          "text": [
            "Random Forest: 0.8525 (0.0445)\n"
          ],
          "name": "stdout"
        }
      ]
    },
    {
      "cell_type": "code",
      "metadata": {
        "id": "b0w451yIMCXE",
        "colab": {
          "base_uri": "https://localhost:8080/",
          "height": 34
        },
        "outputId": "544dffd8-051b-4c6b-a6ea-dbd2aa1540d1"
      },
      "source": [
        "# fit\n",
        "rf.fit(X_train, y_train)\n",
        "\n",
        "# predict on test data\n",
        "predictions = rf.predict(X_test)\n",
        "\n",
        "# calculate score \n",
        "score = metrics.accuracy_score(y_test, predictions)\n",
        "test_score_rf = round(score, 4)\n",
        "\n",
        "print(\"RFC results for test data:\", round(test_score_rf, 4))\n",
        "\n",
        "# append prediction\n",
        "scores['RF val'] = test_score_rf"
      ],
      "execution_count": null,
      "outputs": [
        {
          "output_type": "stream",
          "text": [
            "RFC results for test data: 0.9773\n"
          ],
          "name": "stdout"
        }
      ]
    },
    {
      "cell_type": "code",
      "metadata": {
        "id": "5jpfIhj-Qdjb",
        "colab": {
          "base_uri": "https://localhost:8080/",
          "height": 34
        },
        "outputId": "c6195ff2-584c-4939-dd03-77ea081dca11"
      },
      "source": [
        "scores"
      ],
      "execution_count": null,
      "outputs": [
        {
          "output_type": "execute_result",
          "data": {
            "text/plain": [
              "{'RF val': 0.9773}"
            ]
          },
          "metadata": {
            "tags": []
          },
          "execution_count": 44
        }
      ]
    },
    {
      "cell_type": "markdown",
      "metadata": {
        "id": "3BLEoVgqQCto"
      },
      "source": [
        "### RF Optimization"
      ]
    },
    {
      "cell_type": "code",
      "metadata": {
        "id": "ePbe6rU5M7f3"
      },
      "source": [
        "from sklearn.model_selection import RandomizedSearchCV"
      ],
      "execution_count": null,
      "outputs": []
    },
    {
      "cell_type": "code",
      "metadata": {
        "id": "0s1OPCpzNBto"
      },
      "source": [
        "# define hyper-parameters to optimize\n",
        "params_rf = {\n",
        " \"n_estimators\"             : [50, 100, 150, 200],\n",
        " \"min_samples_leaf\"         : [1, 2, 3, 4, 5],\n",
        " \"min_weight_fraction_leaf\" : [0.00, 0.05, 0.10, 0.15, 0.20],\n",
        " \"random_state\"             : [0],\n",
        " \"n_jobs\"                   : [-1]\n",
        "}"
      ],
      "execution_count": null,
      "outputs": []
    },
    {
      "cell_type": "code",
      "metadata": {
        "id": "E9oZ6RmLNTvq",
        "colab": {
          "base_uri": "https://localhost:8080/",
          "height": 493
        },
        "outputId": "cc15019d-a2e0-4218-e2ec-c1453cb37158"
      },
      "source": [
        "# optimizing rfc (Random Forest Classifier)\n",
        "random_search_rf = RandomizedSearchCV(RandomForestClassifier(),\n",
        "                                       param_distributions = params_rf,\n",
        "                                       scoring = 'accuracy',\n",
        "                                       n_jobs = -1,\n",
        "                                       random_state = 0,\n",
        "                                       cv=10)\n",
        "\n",
        "random_search_rf.fit(X_train, y_train)"
      ],
      "execution_count": null,
      "outputs": [
        {
          "output_type": "execute_result",
          "data": {
            "text/plain": [
              "RandomizedSearchCV(cv=10, error_score=nan,\n",
              "                   estimator=RandomForestClassifier(bootstrap=True,\n",
              "                                                    ccp_alpha=0.0,\n",
              "                                                    class_weight=None,\n",
              "                                                    criterion='gini',\n",
              "                                                    max_depth=None,\n",
              "                                                    max_features='auto',\n",
              "                                                    max_leaf_nodes=None,\n",
              "                                                    max_samples=None,\n",
              "                                                    min_impurity_decrease=0.0,\n",
              "                                                    min_impurity_split=None,\n",
              "                                                    min_samples_leaf=1,\n",
              "                                                    min_samples_split=2,\n",
              "                                                    min_weight_fraction_leaf=0.0,\n",
              "                                                    n_estimators=100,\n",
              "                                                    n_job...\n",
              "                                                    random_state=None,\n",
              "                                                    verbose=0,\n",
              "                                                    warm_start=False),\n",
              "                   iid='deprecated', n_iter=10, n_jobs=-1,\n",
              "                   param_distributions={'min_samples_leaf': [1, 2, 3, 4, 5],\n",
              "                                        'min_weight_fraction_leaf': [0.0, 0.05,\n",
              "                                                                     0.1, 0.15,\n",
              "                                                                     0.2],\n",
              "                                        'n_estimators': [50, 100, 150, 200],\n",
              "                                        'n_jobs': [-1], 'random_state': [0]},\n",
              "                   pre_dispatch='2*n_jobs', random_state=0, refit=True,\n",
              "                   return_train_score=False, scoring='accuracy', verbose=0)"
            ]
          },
          "metadata": {
            "tags": []
          },
          "execution_count": 47
        }
      ]
    },
    {
      "cell_type": "code",
      "metadata": {
        "id": "eQg6OO0AODT4",
        "colab": {
          "base_uri": "https://localhost:8080/",
          "height": 102
        },
        "outputId": "e75c0f15-edb7-419d-a51e-3206350a5cd6"
      },
      "source": [
        "# best hyper-parameters\n",
        "random_search_rf.best_params_"
      ],
      "execution_count": null,
      "outputs": [
        {
          "output_type": "execute_result",
          "data": {
            "text/plain": [
              "{'min_samples_leaf': 1,\n",
              " 'min_weight_fraction_leaf': 0.0,\n",
              " 'n_estimators': 150,\n",
              " 'n_jobs': -1,\n",
              " 'random_state': 0}"
            ]
          },
          "metadata": {
            "tags": []
          },
          "execution_count": 48
        }
      ]
    },
    {
      "cell_type": "code",
      "metadata": {
        "id": "J-jFuoDnNYSt",
        "colab": {
          "base_uri": "https://localhost:8080/",
          "height": 34
        },
        "outputId": "8d8f1a40-3add-4dac-f5dd-e98b2d411324"
      },
      "source": [
        "cv_opt_rf = round(random_search_rf.best_score_, 4)\n",
        "cv_opt_rf"
      ],
      "execution_count": null,
      "outputs": [
        {
          "output_type": "execute_result",
          "data": {
            "text/plain": [
              "0.8535"
            ]
          },
          "metadata": {
            "tags": []
          },
          "execution_count": 49
        }
      ]
    },
    {
      "cell_type": "code",
      "metadata": {
        "id": "BkVU4kSYS32G",
        "colab": {
          "base_uri": "https://localhost:8080/",
          "height": 153
        },
        "outputId": "7c8016a3-d11f-4ab9-8b2a-c1c422172ab3"
      },
      "source": [
        "# optimized rfc\n",
        "random_search_rf.best_estimator_"
      ],
      "execution_count": null,
      "outputs": [
        {
          "output_type": "execute_result",
          "data": {
            "text/plain": [
              "RandomForestClassifier(bootstrap=True, ccp_alpha=0.0, class_weight=None,\n",
              "                       criterion='gini', max_depth=None, max_features='auto',\n",
              "                       max_leaf_nodes=None, max_samples=None,\n",
              "                       min_impurity_decrease=0.0, min_impurity_split=None,\n",
              "                       min_samples_leaf=1, min_samples_split=2,\n",
              "                       min_weight_fraction_leaf=0.0, n_estimators=150,\n",
              "                       n_jobs=-1, oob_score=False, random_state=0, verbose=0,\n",
              "                       warm_start=False)"
            ]
          },
          "metadata": {
            "tags": []
          },
          "execution_count": 50
        }
      ]
    },
    {
      "cell_type": "code",
      "metadata": {
        "id": "nhBoSSFsNmiC",
        "colab": {
          "base_uri": "https://localhost:8080/",
          "height": 34
        },
        "outputId": "4065f69f-4356-4545-bf91-5adfefe460df"
      },
      "source": [
        "# predict on test data\n",
        "opt_rf = random_search_rf.best_estimator_\n",
        "predictions_opt = opt_rf.predict(X_test)\n",
        "\n",
        "# evaluate results\n",
        "score = metrics.accuracy_score(y_test, predictions_opt)\n",
        "test_score_opt_rf = round(score, 4)\n",
        "\n",
        "print(\"Results for test data: Random Forest Optimized\", test_score_opt_rf)"
      ],
      "execution_count": null,
      "outputs": [
        {
          "output_type": "stream",
          "text": [
            "Results for test data: Random Forest Optimized 0.9773\n"
          ],
          "name": "stdout"
        }
      ]
    },
    {
      "cell_type": "code",
      "metadata": {
        "id": "MlIXYwanZM3p"
      },
      "source": [
        "# append prediction\n",
        "scores['RF opt val'] = round(score.mean(), 4)"
      ],
      "execution_count": null,
      "outputs": []
    },
    {
      "cell_type": "code",
      "metadata": {
        "id": "mqnXvyprQus5",
        "colab": {
          "base_uri": "https://localhost:8080/",
          "height": 34
        },
        "outputId": "f7a53d30-15b2-4234-c367-0cc54808cc29"
      },
      "source": [
        "scores"
      ],
      "execution_count": null,
      "outputs": [
        {
          "output_type": "execute_result",
          "data": {
            "text/plain": [
              "{'RF opt val': 0.9773, 'RF val': 0.9773}"
            ]
          },
          "metadata": {
            "tags": []
          },
          "execution_count": 53
        }
      ]
    },
    {
      "cell_type": "markdown",
      "metadata": {
        "id": "vdlfWwKAV9u5"
      },
      "source": [
        "### RF Report"
      ]
    },
    {
      "cell_type": "code",
      "metadata": {
        "id": "XnCmrLAKVDhg",
        "colab": {
          "base_uri": "https://localhost:8080/",
          "height": 170
        },
        "outputId": "717efdfc-04f0-40b1-c1be-d612e4a228a3"
      },
      "source": [
        "print(classification_report(y_test, predictions_opt))"
      ],
      "execution_count": null,
      "outputs": [
        {
          "output_type": "stream",
          "text": [
            "              precision    recall  f1-score   support\n",
            "\n",
            "           0       0.97      0.98      0.98       110\n",
            "           1       0.98      0.97      0.98       110\n",
            "\n",
            "    accuracy                           0.98       220\n",
            "   macro avg       0.98      0.98      0.98       220\n",
            "weighted avg       0.98      0.98      0.98       220\n",
            "\n"
          ],
          "name": "stdout"
        }
      ]
    },
    {
      "cell_type": "code",
      "metadata": {
        "id": "HRudSFoocG-l",
        "colab": {
          "base_uri": "https://localhost:8080/",
          "height": 51
        },
        "outputId": "3b2f5c8e-11a0-47ce-b2ed-033795d11652"
      },
      "source": [
        "confusion_matrix(predictions_opt, y_test)"
      ],
      "execution_count": null,
      "outputs": [
        {
          "output_type": "execute_result",
          "data": {
            "text/plain": [
              "array([[108,   3],\n",
              "       [  2, 107]])"
            ]
          },
          "metadata": {
            "tags": []
          },
          "execution_count": 55
        }
      ]
    },
    {
      "cell_type": "markdown",
      "metadata": {
        "id": "fFSit-uKTObl"
      },
      "source": [
        "## SVC"
      ]
    },
    {
      "cell_type": "code",
      "metadata": {
        "id": "JfljEEjeeoLm",
        "colab": {
          "base_uri": "https://localhost:8080/",
          "height": 34
        },
        "outputId": "4529c801-d0ff-42ad-9af8-908779703fea"
      },
      "source": [
        "svc = LinearSVC(random_state=0)\n",
        "\n",
        "score = cv(svc)\n",
        "print(\"SVC: {:.4f} ({:.4f})\".format(score.mean(), score.std()))"
      ],
      "execution_count": null,
      "outputs": [
        {
          "output_type": "stream",
          "text": [
            "SVC: 0.6703 (0.1066)\n"
          ],
          "name": "stdout"
        }
      ]
    },
    {
      "cell_type": "code",
      "metadata": {
        "id": "3Dxs0SdSTLsF",
        "colab": {
          "base_uri": "https://localhost:8080/",
          "height": 88
        },
        "outputId": "1c47af82-c620-4dff-8808-26533e678465"
      },
      "source": [
        "# fit\n",
        "svc.fit(X_train, y_train)\n",
        "\n",
        "# predict on test data\n",
        "predictions = svc.predict(X_test)\n",
        "\n",
        "# calculate score \n",
        "score = metrics.accuracy_score(y_test, predictions)\n",
        "test_score_svc = round(score, 4)\n",
        "\n",
        "print(\"SVC results for test data:\", round(test_score_rf, 4))\n",
        "\n",
        "# append prediction\n",
        "scores['SVC val'] = test_score_svc"
      ],
      "execution_count": null,
      "outputs": [
        {
          "output_type": "stream",
          "text": [
            "SVC results for test data: 0.9773\n"
          ],
          "name": "stdout"
        },
        {
          "output_type": "stream",
          "text": [
            "/usr/local/lib/python3.6/dist-packages/sklearn/svm/_base.py:947: ConvergenceWarning: Liblinear failed to converge, increase the number of iterations.\n",
            "  \"the number of iterations.\", ConvergenceWarning)\n"
          ],
          "name": "stderr"
        }
      ]
    },
    {
      "cell_type": "code",
      "metadata": {
        "id": "OtF84XqUQ5DZ",
        "colab": {
          "base_uri": "https://localhost:8080/",
          "height": 34
        },
        "outputId": "261f91f8-61f2-4cd6-fe17-2ff60a4408bb"
      },
      "source": [
        "scores"
      ],
      "execution_count": null,
      "outputs": [
        {
          "output_type": "execute_result",
          "data": {
            "text/plain": [
              "{'RF opt val': 0.9773, 'RF val': 0.9773, 'SVC val': 0.6864}"
            ]
          },
          "metadata": {
            "tags": []
          },
          "execution_count": 58
        }
      ]
    },
    {
      "cell_type": "markdown",
      "metadata": {
        "id": "wxtEQC-NWZO6"
      },
      "source": [
        "## XGB"
      ]
    },
    {
      "cell_type": "markdown",
      "metadata": {
        "id": "kk-PMeCKRfdK"
      },
      "source": [
        "Apparently there is a bug when using XGBoost with SciKit learn and DataFrame. It occours while calling the fit or predict method, if XGB is in the final pipeline (voting classifier, in this case).\n",
        "\n",
        "Solution: just add .values to transform the DataFrame into a ndarray. Just some bug in XGBoost interface/API."
      ]
    },
    {
      "cell_type": "code",
      "metadata": {
        "id": "bw4L99WMfqsO",
        "colab": {
          "base_uri": "https://localhost:8080/",
          "height": 34
        },
        "outputId": "88d29e8e-e843-4b56-ae61-2f56bb7cd8a5"
      },
      "source": [
        "xgb = XGBClassifier(random_state=0, n_jobs = -1)\n",
        "\n",
        "score = cv(xgb)\n",
        "print(\"XGB: {:.4f} ({:.4f})\".format(score.mean(), score.std()))"
      ],
      "execution_count": null,
      "outputs": [
        {
          "output_type": "stream",
          "text": [
            "XGB: 0.8434 (0.0401)\n"
          ],
          "name": "stdout"
        }
      ]
    },
    {
      "cell_type": "code",
      "metadata": {
        "id": "Vd1v7f6ZWki5",
        "colab": {
          "base_uri": "https://localhost:8080/",
          "height": 34
        },
        "outputId": "df86bfaa-2073-4461-f2c8-2c6f03738334"
      },
      "source": [
        "# fit\n",
        "xgb.fit(X_train, y_train)\n",
        "\n",
        "# predict on test data\n",
        "predictions = xgb.predict(X_test)\n",
        "\n",
        "# calculate score \n",
        "score = metrics.accuracy_score(y_test, predictions)\n",
        "test_score_xgb = round(score, 4)\n",
        "\n",
        "print(\"SVC results for test data:\", round(test_score_xgb, 4))\n",
        "\n",
        "# append prediction\n",
        "scores['XGB val'] = test_score_xgb"
      ],
      "execution_count": null,
      "outputs": [
        {
          "output_type": "stream",
          "text": [
            "SVC results for test data: 0.8727\n"
          ],
          "name": "stdout"
        }
      ]
    },
    {
      "cell_type": "code",
      "metadata": {
        "id": "FRlQe7MSRAF4",
        "colab": {
          "base_uri": "https://localhost:8080/",
          "height": 34
        },
        "outputId": "451cfce9-a2e8-414c-8a45-f4430286767b"
      },
      "source": [
        "scores"
      ],
      "execution_count": null,
      "outputs": [
        {
          "output_type": "execute_result",
          "data": {
            "text/plain": [
              "{'RF opt val': 0.9773, 'RF val': 0.9773, 'SVC val': 0.6864, 'XGB val': 0.8727}"
            ]
          },
          "metadata": {
            "tags": []
          },
          "execution_count": 61
        }
      ]
    },
    {
      "cell_type": "markdown",
      "metadata": {
        "id": "VcgWhQZxgaCU"
      },
      "source": [
        "## MLP"
      ]
    },
    {
      "cell_type": "code",
      "metadata": {
        "id": "rtS027RpgZHd",
        "colab": {
          "base_uri": "https://localhost:8080/",
          "height": 34
        },
        "outputId": "4b979380-100e-4531-d337-9b23b387c295"
      },
      "source": [
        "np.random.seed(0)\n",
        "mlp = MLPClassifier(random_state=0)\n",
        "scaler = StandardScaler()\n",
        "pipe = Pipeline([('scaler', scaler), ('mlp', mlp)])\n",
        "\n",
        "score = cv(pipe)\n",
        "print(\"MLP: {:.4f} ({:.4f})\".format(score.mean(), score.std()))"
      ],
      "execution_count": null,
      "outputs": [
        {
          "output_type": "stream",
          "text": [
            "MLP: 0.7951 (0.0438)\n"
          ],
          "name": "stdout"
        }
      ]
    },
    {
      "cell_type": "code",
      "metadata": {
        "id": "2RMOqJg5hW7E",
        "colab": {
          "base_uri": "https://localhost:8080/",
          "height": 88
        },
        "outputId": "90336462-83ee-4f23-9aca-083cdfdba841"
      },
      "source": [
        "# fit\n",
        "pipe.fit(X_train, y_train)\n",
        "\n",
        "# predict on test data\n",
        "predictions = pipe.predict(X_test)\n",
        "\n",
        "# calculate score \n",
        "score = metrics.accuracy_score(y_test, predictions)\n",
        "test_score_pipe = round(score, 4)\n",
        "\n",
        "print(\"MLP results for test data:\", round(test_score_pipe, 4))\n",
        "\n",
        "# append prediction\n",
        "scores['MLP val'] = test_score_pipe"
      ],
      "execution_count": null,
      "outputs": [
        {
          "output_type": "stream",
          "text": [
            "MLP results for test data: 0.8409\n"
          ],
          "name": "stdout"
        },
        {
          "output_type": "stream",
          "text": [
            "/usr/local/lib/python3.6/dist-packages/sklearn/neural_network/_multilayer_perceptron.py:571: ConvergenceWarning: Stochastic Optimizer: Maximum iterations (200) reached and the optimization hasn't converged yet.\n",
            "  % self.max_iter, ConvergenceWarning)\n"
          ],
          "name": "stderr"
        }
      ]
    },
    {
      "cell_type": "code",
      "metadata": {
        "id": "gfrwwk0xlJ6b",
        "colab": {
          "base_uri": "https://localhost:8080/",
          "height": 102
        },
        "outputId": "31b489d0-3fe2-4172-e415-95d594d1fd28"
      },
      "source": [
        "scores"
      ],
      "execution_count": null,
      "outputs": [
        {
          "output_type": "execute_result",
          "data": {
            "text/plain": [
              "{'MLP val': 0.8409,\n",
              " 'RF opt val': 0.9773,\n",
              " 'RF val': 0.9773,\n",
              " 'SVC val': 0.6864,\n",
              " 'XGB val': 0.8727}"
            ]
          },
          "metadata": {
            "tags": []
          },
          "execution_count": 64
        }
      ]
    },
    {
      "cell_type": "markdown",
      "metadata": {
        "id": "XzhgUIMshwct"
      },
      "source": [
        "## Decision Tree"
      ]
    },
    {
      "cell_type": "code",
      "metadata": {
        "id": "yYAWa9DAhtaT",
        "colab": {
          "base_uri": "https://localhost:8080/",
          "height": 34
        },
        "outputId": "a8d81ba9-a80b-4afa-c222-ce67d4f49e38"
      },
      "source": [
        "dt = tree.DecisionTreeClassifier(random_state=0)\n",
        "\n",
        "score = cv(dt)\n",
        "print(\"Decision Tree: {:.4f} ({:.4f})\".format(score.mean(), score.std()))"
      ],
      "execution_count": null,
      "outputs": [
        {
          "output_type": "stream",
          "text": [
            "Decision Tree: 0.8270 (0.0431)\n"
          ],
          "name": "stdout"
        }
      ]
    },
    {
      "cell_type": "code",
      "metadata": {
        "id": "4QA3rzBZiIU9",
        "colab": {
          "base_uri": "https://localhost:8080/",
          "height": 34
        },
        "outputId": "68c1b8be-e731-4876-9c31-2d874afd210c"
      },
      "source": [
        "# fit\n",
        "dt.fit(X_train, y_train)\n",
        "\n",
        "# predict on test data\n",
        "predictions = dt.predict(X_test)\n",
        "\n",
        "# calculate score \n",
        "score = metrics.accuracy_score(y_test, predictions)\n",
        "test_score_dt = round(score, 4)\n",
        "\n",
        "print(\"Decision Tree results for test data:\", round(test_score_dt, 4))\n",
        "\n",
        "# append prediction\n",
        "scores['DT val'] = test_score_dt"
      ],
      "execution_count": null,
      "outputs": [
        {
          "output_type": "stream",
          "text": [
            "Decision Tree results for test data: 0.9727\n"
          ],
          "name": "stdout"
        }
      ]
    },
    {
      "cell_type": "code",
      "metadata": {
        "id": "OANVTgveRRn-",
        "colab": {
          "base_uri": "https://localhost:8080/",
          "height": 119
        },
        "outputId": "2a26f938-f4ec-41f0-a22a-62184e4000bd"
      },
      "source": [
        "scores"
      ],
      "execution_count": null,
      "outputs": [
        {
          "output_type": "execute_result",
          "data": {
            "text/plain": [
              "{'DT val': 0.9727,\n",
              " 'MLP val': 0.8409,\n",
              " 'RF opt val': 0.9773,\n",
              " 'RF val': 0.9773,\n",
              " 'SVC val': 0.6864,\n",
              " 'XGB val': 0.8727}"
            ]
          },
          "metadata": {
            "tags": []
          },
          "execution_count": 67
        }
      ]
    },
    {
      "cell_type": "markdown",
      "metadata": {
        "id": "a5obhEHzil-q"
      },
      "source": [
        "## Extra Trees"
      ]
    },
    {
      "cell_type": "code",
      "metadata": {
        "id": "8pXqKjLniqso",
        "colab": {
          "base_uri": "https://localhost:8080/",
          "height": 34
        },
        "outputId": "91cde458-6c81-4654-fb85-d199f753624c"
      },
      "source": [
        "et = ExtraTreesClassifier(random_state=0, n_jobs = -1)\n",
        "\n",
        "score = cv(et)\n",
        "print(\"Extra Trees: {:.4f} ({:.4f})\".format(score.mean(), score.std()))"
      ],
      "execution_count": null,
      "outputs": [
        {
          "output_type": "stream",
          "text": [
            "Extra Trees: 0.8388 (0.0447)\n"
          ],
          "name": "stdout"
        }
      ]
    },
    {
      "cell_type": "code",
      "metadata": {
        "id": "2nGnaQ6vjPgZ",
        "colab": {
          "base_uri": "https://localhost:8080/",
          "height": 34
        },
        "outputId": "4b816939-62d4-4534-dfe2-6836d14d793c"
      },
      "source": [
        "# fit\n",
        "et.fit(X_train, y_train)\n",
        "\n",
        "# predict on test data\n",
        "predictions = et.predict(X_test)\n",
        "\n",
        "# calculate score \n",
        "score = metrics.accuracy_score(y_test, predictions)\n",
        "test_score_et = round(score, 4)\n",
        "\n",
        "print(\"Extra Trees results for test data:\", round(test_score_et, 4))\n",
        "\n",
        "# append prediction\n",
        "scores['ET val'] = test_score_et"
      ],
      "execution_count": null,
      "outputs": [
        {
          "output_type": "stream",
          "text": [
            "Extra Trees results for test data: 0.9727\n"
          ],
          "name": "stdout"
        }
      ]
    },
    {
      "cell_type": "code",
      "metadata": {
        "id": "Z75ewcOlRX6P",
        "colab": {
          "base_uri": "https://localhost:8080/",
          "height": 136
        },
        "outputId": "c00df7e2-0559-47e8-b581-145cdcf05a96"
      },
      "source": [
        "scores"
      ],
      "execution_count": null,
      "outputs": [
        {
          "output_type": "execute_result",
          "data": {
            "text/plain": [
              "{'DT val': 0.9727,\n",
              " 'ET val': 0.9727,\n",
              " 'MLP val': 0.8409,\n",
              " 'RF opt val': 0.9773,\n",
              " 'RF val': 0.9773,\n",
              " 'SVC val': 0.6864,\n",
              " 'XGB val': 0.8727}"
            ]
          },
          "metadata": {
            "tags": []
          },
          "execution_count": 70
        }
      ]
    },
    {
      "cell_type": "markdown",
      "metadata": {
        "id": "OkpS0nkhjto_"
      },
      "source": [
        "## GBC"
      ]
    },
    {
      "cell_type": "code",
      "metadata": {
        "id": "bixGhu50jy_m",
        "colab": {
          "base_uri": "https://localhost:8080/",
          "height": 34
        },
        "outputId": "b8cb1701-de5b-463f-a425-e356272448f4"
      },
      "source": [
        "gbc = GradientBoostingClassifier(random_state=0)\n",
        "\n",
        "score = cv(gbc)\n",
        "print(\"Gradient Boosting: {:.4f} ({:.4f})\".format(score.mean(), score.std()))"
      ],
      "execution_count": null,
      "outputs": [
        {
          "output_type": "stream",
          "text": [
            "Gradient Boosting: 0.8470 (0.0323)\n"
          ],
          "name": "stdout"
        }
      ]
    },
    {
      "cell_type": "code",
      "metadata": {
        "id": "TQLGXDltj0bg",
        "colab": {
          "base_uri": "https://localhost:8080/",
          "height": 34
        },
        "outputId": "c0d3ad81-0a71-4cba-90a3-3b416bb8b5d8"
      },
      "source": [
        "# fit\n",
        "gbc.fit(X_train, y_train)\n",
        "\n",
        "# predict on test data\n",
        "predictions = gbc.predict(X_test)\n",
        "\n",
        "# calculate score \n",
        "score = metrics.accuracy_score(y_test, predictions)\n",
        "test_score_gbc = round(score, 4)\n",
        "\n",
        "print(\"Gradient Boosting results for test data:\", round(test_score_gbc, 4))\n",
        "\n",
        "# append prediction\n",
        "scores['GBC val'] = test_score_gbc"
      ],
      "execution_count": null,
      "outputs": [
        {
          "output_type": "stream",
          "text": [
            "Gradient Boosting results for test data: 0.8955\n"
          ],
          "name": "stdout"
        }
      ]
    },
    {
      "cell_type": "code",
      "metadata": {
        "id": "Ff9ZX5LJRfC4",
        "colab": {
          "base_uri": "https://localhost:8080/",
          "height": 153
        },
        "outputId": "b82d1e89-c764-4984-c998-fe77fdd40854"
      },
      "source": [
        "scores"
      ],
      "execution_count": null,
      "outputs": [
        {
          "output_type": "execute_result",
          "data": {
            "text/plain": [
              "{'DT val': 0.9727,\n",
              " 'ET val': 0.9727,\n",
              " 'GBC val': 0.8955,\n",
              " 'MLP val': 0.8409,\n",
              " 'RF opt val': 0.9773,\n",
              " 'RF val': 0.9773,\n",
              " 'SVC val': 0.6864,\n",
              " 'XGB val': 0.8727}"
            ]
          },
          "metadata": {
            "tags": []
          },
          "execution_count": 73
        }
      ]
    },
    {
      "cell_type": "markdown",
      "metadata": {
        "id": "NqYi3jWt4dAS"
      },
      "source": [
        "## Logistic Regression"
      ]
    },
    {
      "cell_type": "markdown",
      "metadata": {
        "id": "ri34haIw4hHu"
      },
      "source": [
        "Despite the name, it is a classifier!"
      ]
    },
    {
      "cell_type": "code",
      "metadata": {
        "id": "2wcnK89v4kNB",
        "colab": {
          "base_uri": "https://localhost:8080/",
          "height": 34
        },
        "outputId": "35580fef-cfdd-4721-bd19-c86dc0c4a6a8"
      },
      "source": [
        "log_reg = LogisticRegression(random_state=0)\n",
        "\n",
        "score = cv(log_reg)\n",
        "print(\"Logistic Regression: {:.4f} ({:.4f})\".format(score.mean(), score.std()))"
      ],
      "execution_count": null,
      "outputs": [
        {
          "output_type": "stream",
          "text": [
            "Logistic Regression: 0.7914 (0.0463)\n"
          ],
          "name": "stdout"
        }
      ]
    },
    {
      "cell_type": "code",
      "metadata": {
        "id": "gDvO8bCx4q_F",
        "colab": {
          "base_uri": "https://localhost:8080/",
          "height": 34
        },
        "outputId": "2d65fa89-4384-4cf1-e4a8-7a026e7fe431"
      },
      "source": [
        "# fit\n",
        "log_reg.fit(X_train, y_train)\n",
        "\n",
        "# predict on test data\n",
        "predictions = log_reg.predict(X_test)\n",
        "\n",
        "# calculate score \n",
        "score = metrics.accuracy_score(y_test, predictions)\n",
        "test_score_log_reg = round(score, 4)\n",
        "\n",
        "print(\"Logistic Regression results for test data:\", round(test_score_log_reg, 4))\n",
        "\n",
        "# append prediction\n",
        "scores['Log_Reg val'] = test_score_log_reg"
      ],
      "execution_count": null,
      "outputs": [
        {
          "output_type": "stream",
          "text": [
            "Logistic Regression results for test data: 0.7773\n"
          ],
          "name": "stdout"
        }
      ]
    },
    {
      "cell_type": "code",
      "metadata": {
        "id": "x05vau9tRo2u",
        "colab": {
          "base_uri": "https://localhost:8080/",
          "height": 170
        },
        "outputId": "7c980f81-3614-4147-a532-154c19e0b3e9"
      },
      "source": [
        "scores"
      ],
      "execution_count": null,
      "outputs": [
        {
          "output_type": "execute_result",
          "data": {
            "text/plain": [
              "{'DT val': 0.9727,\n",
              " 'ET val': 0.9727,\n",
              " 'GBC val': 0.8955,\n",
              " 'Log_Reg val': 0.7773,\n",
              " 'MLP val': 0.8409,\n",
              " 'RF opt val': 0.9773,\n",
              " 'RF val': 0.9773,\n",
              " 'SVC val': 0.6864,\n",
              " 'XGB val': 0.8727}"
            ]
          },
          "metadata": {
            "tags": []
          },
          "execution_count": 76
        }
      ]
    },
    {
      "cell_type": "markdown",
      "metadata": {
        "id": "qDrKcxpxqfdb"
      },
      "source": [
        "# Keras"
      ]
    },
    {
      "cell_type": "code",
      "metadata": {
        "id": "GTdTFCH2qu4s"
      },
      "source": [
        "import tensorflow as tf\n",
        "from tensorflow import keras\n",
        "from tensorflow.keras import layers\n",
        "from keras.models import Sequential\n",
        "from keras.layers import Dense, Dropout, BatchNormalization\n",
        "from keras.optimizers import Adam"
      ],
      "execution_count": null,
      "outputs": []
    },
    {
      "cell_type": "code",
      "metadata": {
        "id": "t1lc_t98qio7",
        "colab": {
          "base_uri": "https://localhost:8080/",
          "height": 34
        },
        "outputId": "ecf84645-315d-43d2-b8ae-4be1169105fb"
      },
      "source": [
        "input_shape = len(df.columns)\n",
        "input_shape"
      ],
      "execution_count": null,
      "outputs": [
        {
          "output_type": "execute_result",
          "data": {
            "text/plain": [
              "4"
            ]
          },
          "metadata": {
            "tags": []
          },
          "execution_count": 78
        }
      ]
    },
    {
      "cell_type": "markdown",
      "metadata": {
        "id": "H22yeW2ZvONl"
      },
      "source": [
        "## Model"
      ]
    },
    {
      "cell_type": "code",
      "metadata": {
        "id": "XBG8JhfHrY-d"
      },
      "source": [
        "# Model: define layers\n",
        "def build_model():\n",
        "  np.random.seed(0)\n",
        "  model = Sequential()\n",
        "\n",
        "  # input layer\n",
        "  model.add(Dense(256, input_dim = input_shape, activation = 'relu')) \n",
        "\n",
        "  model.add(BatchNormalization())\n",
        "  model.add(Dropout(0.5))\n",
        "\n",
        "  # 2nd layer: hidden Dense layer\n",
        "  # this penultimate layer must be activated with softmax or sigmoid\n",
        "  # since we wnat results in range 0-1\n",
        "  model.add(Dense(128, activation = 'relu'))\n",
        "\n",
        "  model.add(BatchNormalization())\n",
        "  model.add(Dropout(0.5))\n",
        "\n",
        "  #3rd layer: hidden Dense layer\n",
        "  model.add(Dense(64, activation = 'softmax'))\n",
        "\n",
        "  # model.add(BatchNormalization())\n",
        "  # model.add(Dropout(0.5))\n",
        "\n",
        "  #4th layer: hidden Dense layer\n",
        "  model.add(Dense(64))\n",
        "\n",
        "  # output layer\n",
        "  model.add(Dense(1))\n",
        "  # last layer outputs 2 neurons (binary classification) if output is categorical\n",
        "  # or 1 if output is number\n",
        "  \n",
        "  # Define optimizer and learning rate\n",
        "  optimizer = Adam(lr = 0.001, decay = 0.)\n",
        "  # optimizer = tf.keras.optimizers.RMSprop(0.001)\n",
        "\n",
        "  model.compile(loss = 'binary_crossentropy',\n",
        "              optimizer = optimizer,\n",
        "              # metrics = ['mae', 'mse'],\n",
        "              metrics = ['accuracy']) # evaluate method\n",
        "  \n",
        "  return model"
      ],
      "execution_count": null,
      "outputs": []
    },
    {
      "cell_type": "code",
      "metadata": {
        "id": "48jhgBRCrYzi",
        "colab": {
          "base_uri": "https://localhost:8080/",
          "height": 459
        },
        "outputId": "0b7416eb-5b68-4c89-d520-1595d7d57240"
      },
      "source": [
        "# Create Model\n",
        "model_k = build_model()\n",
        "model_k.summary()"
      ],
      "execution_count": null,
      "outputs": [
        {
          "output_type": "stream",
          "text": [
            "Model: \"sequential\"\n",
            "_________________________________________________________________\n",
            "Layer (type)                 Output Shape              Param #   \n",
            "=================================================================\n",
            "dense (Dense)                (None, 256)               1280      \n",
            "_________________________________________________________________\n",
            "batch_normalization (BatchNo (None, 256)               1024      \n",
            "_________________________________________________________________\n",
            "dropout (Dropout)            (None, 256)               0         \n",
            "_________________________________________________________________\n",
            "dense_1 (Dense)              (None, 128)               32896     \n",
            "_________________________________________________________________\n",
            "batch_normalization_1 (Batch (None, 128)               512       \n",
            "_________________________________________________________________\n",
            "dropout_1 (Dropout)          (None, 128)               0         \n",
            "_________________________________________________________________\n",
            "dense_2 (Dense)              (None, 64)                8256      \n",
            "_________________________________________________________________\n",
            "dense_3 (Dense)              (None, 64)                4160      \n",
            "_________________________________________________________________\n",
            "dense_4 (Dense)              (None, 1)                 65        \n",
            "=================================================================\n",
            "Total params: 48,193\n",
            "Trainable params: 47,425\n",
            "Non-trainable params: 768\n",
            "_________________________________________________________________\n"
          ],
          "name": "stdout"
        }
      ]
    },
    {
      "cell_type": "code",
      "metadata": {
        "id": "TkUgsBRlrYsa",
        "colab": {
          "base_uri": "https://localhost:8080/",
          "height": 187
        },
        "outputId": "fc0fb491-1510-4111-f083-70695b2ddd88"
      },
      "source": [
        "# we can test our model even though we haven't trained it\n",
        "# just to make sure that it produces results and doesn't blow up.\n",
        "\n",
        "# since we haven't trained the model, the results are meaningless\n",
        "# but the shape is right and it didn't throw any errors\n",
        "example_batch = X_train[:10]\n",
        "example_result = model_k.predict(example_batch)\n",
        "example_result"
      ],
      "execution_count": null,
      "outputs": [
        {
          "output_type": "execute_result",
          "data": {
            "text/plain": [
              "array([[ 0.00914405],\n",
              "       [ 0.02442849],\n",
              "       [ 0.01105834],\n",
              "       [ 0.02537313],\n",
              "       [ 0.01959129],\n",
              "       [ 0.01621807],\n",
              "       [ 0.03327509],\n",
              "       [ 0.00049806],\n",
              "       [ 0.01231314],\n",
              "       [-0.00186512]], dtype=float32)"
            ]
          },
          "metadata": {
            "tags": []
          },
          "execution_count": 81
        }
      ]
    },
    {
      "cell_type": "markdown",
      "metadata": {
        "id": "CYhAWJRIttkP"
      },
      "source": [
        "## Callbacks"
      ]
    },
    {
      "cell_type": "markdown",
      "metadata": {
        "id": "1KHT84RDtzLX"
      },
      "source": [
        "PrintDot: Display training progress by printing a single dot for each completed epoch.\n",
        "\n",
        "\n",
        "ReduceLROnPlateau: Reduces learning rate when a metric has stopped improving: slow cooking.\n",
        "\n",
        "\n",
        "Early Stopping: Just stop training the model as soon as the model stops improving. Specify metric to look for (val_loss), and how patiece should it be."
      ]
    },
    {
      "cell_type": "code",
      "metadata": {
        "id": "36xe9AV5rYl4"
      },
      "source": [
        "# PrintDot\n",
        "class PrintDot(keras.callbacks.Callback):\n",
        "  def on_epoch_end(self, epoch, logs):\n",
        "    if epoch % 100 == 0: \n",
        "      print('')\n",
        "    else:\n",
        "      print('.', end = '')\n",
        "\n",
        "# ReduceLROnPlateau: learning rate reduction\n",
        "lrr = keras.callbacks.ReduceLROnPlateau(monitor = 'val_loss',\n",
        "                                        patience = 20,\n",
        "                                        verbose = 1,\n",
        "                                        factor = 0.75,\n",
        "                                        min_lr = 1e-6)\n",
        "\n",
        "\n",
        "# The patience is the amount of epochs to check for improvement\n",
        "early_stop = keras.callbacks.EarlyStopping(monitor = 'val_accuracy',\n",
        "                                           patience = 500,\n",
        "                                           mode = 'max',\n",
        "                                           verbose = 1,\n",
        "                                           restore_best_weights = True)"
      ],
      "execution_count": null,
      "outputs": []
    },
    {
      "cell_type": "markdown",
      "metadata": {
        "id": "96mzZ8QRuG4I"
      },
      "source": [
        "## Fit"
      ]
    },
    {
      "cell_type": "code",
      "metadata": {
        "id": "A_38rzUUrYfm",
        "colab": {
          "base_uri": "https://localhost:8080/",
          "height": 153
        },
        "outputId": "098dc25e-8ec7-4187-8c21-b5ec4b4fee1d"
      },
      "source": [
        "# Define fit neural network hyper-parameters\n",
        "EPOCHS = 100\n",
        "BATCH_SIZE = 10\n",
        "\n",
        "# Train / fit neural network\n",
        "history = model_k.fit(X_train, y_train,\n",
        "                    epochs = EPOCHS,\n",
        "                    validation_split = 0.2,\n",
        "                    batch_size = BATCH_SIZE,\n",
        "                    verbose = 0,\n",
        "                    callbacks = [early_stop, PrintDot(), lrr])"
      ],
      "execution_count": null,
      "outputs": [
        {
          "output_type": "stream",
          "text": [
            "\n",
            "...........................................\n",
            "Epoch 00044: ReduceLROnPlateau reducing learning rate to 0.0007500000356230885.\n",
            "....................\n",
            "Epoch 00064: ReduceLROnPlateau reducing learning rate to 0.0005625000048894435.\n",
            "....................\n",
            "Epoch 00084: ReduceLROnPlateau reducing learning rate to 0.0004218749818392098.\n",
            "................"
          ],
          "name": "stdout"
        }
      ]
    },
    {
      "cell_type": "code",
      "metadata": {
        "id": "xW-tVg2frYZd",
        "colab": {
          "base_uri": "https://localhost:8080/",
          "height": 68
        },
        "outputId": "2435792e-40ec-48dd-b505-dde907f97e05"
      },
      "source": [
        "# evaluate method uses the defined metrics\n",
        "loss, acc = model_k.evaluate(X_test, y_test, verbose = 2)\n",
        "\n",
        "print(\"Testing set Accuracy: {:5.4f}\".format(acc))\n",
        "print(\"Testing set Loss: {:5.2f}\".format(loss))"
      ],
      "execution_count": null,
      "outputs": [
        {
          "output_type": "stream",
          "text": [
            "7/7 - 0s - loss: 0.4731 - accuracy: 0.7955\n",
            "Testing set Accuracy: 0.7955\n",
            "Testing set Loss:  0.47\n"
          ],
          "name": "stdout"
        }
      ]
    },
    {
      "cell_type": "code",
      "metadata": {
        "id": "4U3RiZxqwT_s",
        "colab": {
          "base_uri": "https://localhost:8080/",
          "height": 34
        },
        "outputId": "3ed616a1-040b-4136-d404-6a705119191a"
      },
      "source": [
        "hist = pd.DataFrame(history.history)\n",
        "hist['epoch'] = history.epoch\n",
        "hist.columns"
      ],
      "execution_count": null,
      "outputs": [
        {
          "output_type": "execute_result",
          "data": {
            "text/plain": [
              "Index(['loss', 'accuracy', 'val_loss', 'val_accuracy', 'lr', 'epoch'], dtype='object')"
            ]
          },
          "metadata": {
            "tags": []
          },
          "execution_count": 85
        }
      ]
    },
    {
      "cell_type": "code",
      "metadata": {
        "id": "UXPjSOm1rYSw",
        "colab": {
          "base_uri": "https://localhost:8080/",
          "height": 541
        },
        "outputId": "e7932079-d845-4d41-9f26-1b830433cf50"
      },
      "source": [
        "def plot_history(history):\n",
        "  hist = pd.DataFrame(history.history)\n",
        "  hist['epoch'] = history.epoch\n",
        "  \n",
        "  plt.figure()\n",
        "  plt.xlabel('Epoch')\n",
        "  plt.ylabel(\"Accuracy\")\n",
        "  plt.plot(hist['epoch'], hist['accuracy'], label = 'Train Accuracy')\n",
        "  plt.plot(hist['epoch'], hist['val_accuracy'], label = 'Val Accuracy')\n",
        "  plt.legend()\n",
        "  #plt.xlim([0, 200])\n",
        "\n",
        "  plt.figure()\n",
        "  plt.xlabel('Epoch')\n",
        "  plt.ylabel(\"Loss value\")\n",
        "  plt.plot(hist['epoch'], hist['loss'], label = 'Train Loss')\n",
        "  plt.plot(hist['epoch'], hist['val_loss'], label = 'Val Loss')\n",
        "  plt.legend()\n",
        "  #plt.xlim([0, 200])\n",
        "\n",
        "plot_history(history)"
      ],
      "execution_count": null,
      "outputs": [
        {
          "output_type": "display_data",
          "data": {
            "image/png": "[encoded data removed]",
            "text/plain": [
              "<Figure size 432x288 with 1 Axes>"
            ]
          },
          "metadata": {
            "tags": [],
            "needs_background": "light"
          }
        },
        {
          "output_type": "display_data",
          "data": {
            "image/png": "[encoded data removed]",
            "text/plain": [
              "<Figure size 432x288 with 1 Axes>"
            ]
          },
          "metadata": {
            "tags": [],
            "needs_background": "light"
          }
        }
      ]
    },
    {
      "cell_type": "markdown",
      "metadata": {
        "id": "SY_A9xEk4I25"
      },
      "source": [
        "## Predict with Keras"
      ]
    },
    {
      "cell_type": "code",
      "metadata": {
        "id": "yz1MfIwArYLa",
        "colab": {
          "base_uri": "https://localhost:8080/",
          "height": 782
        },
        "outputId": "46f36c01-566f-4a56-8305-95e5acec3d1e"
      },
      "source": [
        "# predicting X_test\n",
        "pred_keras = model_k.predict(X_test).flatten()\n",
        "pred_keras"
      ],
      "execution_count": null,
      "outputs": [
        {
          "output_type": "execute_result",
          "data": {
            "text/plain": [
              "array([0.41511083, 0.5820292 , 0.1280983 , 0.42810076, 0.1337607 ,\n",
              "       0.11384271, 0.14998205, 0.9431655 , 0.13068137, 0.50976694,\n",
              "       0.13419566, 0.11288233, 0.68364507, 0.96195436, 0.26674563,\n",
              "       0.13719931, 0.962188  , 0.13579875, 0.13336904, 0.67961496,\n",
              "       0.7394552 , 0.9608597 , 0.67987335, 0.13524416, 0.8359062 ,\n",
              "       0.20246145, 0.9028041 , 0.11258678, 0.6814707 , 0.9617072 ,\n",
              "       0.68155676, 0.54878885, 0.17455818, 0.65066147, 0.93716913,\n",
              "       0.24397098, 0.13459423, 0.6799762 , 0.29052067, 0.15263486,\n",
              "       0.7195607 , 0.13433047, 0.67047787, 0.6798505 , 0.1336653 ,\n",
              "       0.12464055, 0.80492115, 0.4271428 , 0.16782409, 0.95509094,\n",
              "       0.13442817, 0.2921297 , 0.11400517, 0.11761226, 0.13406837,\n",
              "       0.12994282, 0.6817201 , 0.1305295 , 0.13321823, 0.95956975,\n",
              "       0.6814707 , 0.27329415, 0.25849563, 0.6503967 , 0.71636105,\n",
              "       0.1333373 , 0.7893702 , 0.1782744 , 0.6796905 , 0.13527429,\n",
              "       0.4250856 , 0.6201328 , 0.8619023 , 0.8459533 , 0.24468459,\n",
              "       0.13879326, 0.47232533, 0.58313257, 0.93745244, 0.1336653 ,\n",
              "       0.7437578 , 0.78858143, 0.11885348, 0.13762945, 0.68855786,\n",
              "       0.36707568, 0.72045285, 0.11426153, 0.1334372 , 0.64647716,\n",
              "       0.67961496, 0.95617145, 0.84238446, 0.6835367 , 0.9544527 ,\n",
              "       0.13460468, 0.5408323 , 0.13570002, 0.13467672, 0.808449  ,\n",
              "       0.11258668, 0.9149014 , 0.50772566, 0.4549309 , 0.35991973,\n",
              "       0.13329422, 0.13420957, 0.21249658, 0.44570184, 0.6763937 ,\n",
              "       0.16168442, 0.13678476, 0.67961496, 0.9378895 , 0.26387495,\n",
              "       0.15183349, 0.9518011 , 0.45330375, 0.9553754 , 0.8168301 ,\n",
              "       0.14919288, 0.4499746 , 0.1336653 , 0.73087955, 0.94420844,\n",
              "       0.27943107, 0.42198348, 0.73315895, 0.1543642 , 0.13283497,\n",
              "       0.4490263 , 0.16782409, 0.25362483, 0.13371894, 0.67544615,\n",
              "       0.7427076 , 0.13436916, 0.1336653 , 0.14140466, 0.7090834 ,\n",
              "       0.13379446, 0.28675634, 0.7679709 , 0.9486963 , 0.42886966,\n",
              "       0.22914746, 0.5044672 , 0.6393657 , 0.14727864, 0.13476449,\n",
              "       0.13465703, 0.95421726, 0.6855488 , 0.74281895, 0.6727606 ,\n",
              "       0.13462618, 0.13540035, 0.13429758, 0.13540736, 0.67987335,\n",
              "       0.24346694, 0.93757993, 0.5945639 , 0.13357121, 0.7645248 ,\n",
              "       0.7768466 , 0.13445449, 0.69408953, 0.16500434, 0.13305882,\n",
              "       0.6842963 , 0.95405465, 0.6474839 , 0.12590793, 0.69302666,\n",
              "       0.62388724, 0.6883852 , 0.6393657 , 0.54030925, 0.7562263 ,\n",
              "       0.6748094 , 0.13357121, 0.9410346 , 0.60350966, 0.6838387 ,\n",
              "       0.15288633, 0.1332022 , 0.4854086 , 0.13391027, 0.6850658 ,\n",
              "       0.95127285, 0.7056705 , 0.67961496, 0.13440257, 0.13303077,\n",
              "       0.14810157, 0.7595793 , 0.1336653 , 0.2188225 , 0.49569654,\n",
              "       0.68550926, 0.13459754, 0.11278006, 0.28679404, 0.9623    ,\n",
              "       0.9536682 , 0.13663778, 0.12338936, 0.13408628, 0.6748094 ,\n",
              "       0.35546315, 0.13452713, 0.67961496, 0.7722248 , 0.63348097,\n",
              "       0.13524416, 0.5255406 , 0.67961496, 0.94648993, 0.6814707 ],\n",
              "      dtype=float32)"
            ]
          },
          "metadata": {
            "tags": []
          },
          "execution_count": 87
        }
      ]
    },
    {
      "cell_type": "code",
      "metadata": {
        "id": "8c1fJ8Ig8UB_"
      },
      "source": [
        "pred_keras[pred_keras >= 0.5] = 1\n",
        "pred_keras[pred_keras < 0.5] = 0"
      ],
      "execution_count": null,
      "outputs": []
    },
    {
      "cell_type": "code",
      "metadata": {
        "id": "NtgGQXA7_ib4"
      },
      "source": [
        "pred_keras = pred_keras.astype(int)"
      ],
      "execution_count": null,
      "outputs": []
    },
    {
      "cell_type": "code",
      "metadata": {
        "id": "GDyzRdRU8NmU",
        "colab": {
          "base_uri": "https://localhost:8080/",
          "height": 187
        },
        "outputId": "ddf8d6cf-679e-43cb-af9e-f87b894de255"
      },
      "source": [
        "pred_keras"
      ],
      "execution_count": null,
      "outputs": [
        {
          "output_type": "execute_result",
          "data": {
            "text/plain": [
              "array([0, 1, 0, 0, 0, 0, 0, 1, 0, 1, 0, 0, 1, 1, 0, 0, 1, 0, 0, 1, 1, 1,\n",
              "       1, 0, 1, 0, 1, 0, 1, 1, 1, 1, 0, 1, 1, 0, 0, 1, 0, 0, 1, 0, 1, 1,\n",
              "       0, 0, 1, 0, 0, 1, 0, 0, 0, 0, 0, 0, 1, 0, 0, 1, 1, 0, 0, 1, 1, 0,\n",
              "       1, 0, 1, 0, 0, 1, 1, 1, 0, 0, 0, 1, 1, 0, 1, 1, 0, 0, 1, 0, 1, 0,\n",
              "       0, 1, 1, 1, 1, 1, 1, 0, 1, 0, 0, 1, 0, 1, 1, 0, 0, 0, 0, 0, 0, 1,\n",
              "       0, 0, 1, 1, 0, 0, 1, 0, 1, 1, 0, 0, 0, 1, 1, 0, 0, 1, 0, 0, 0, 0,\n",
              "       0, 0, 1, 1, 0, 0, 0, 1, 0, 0, 1, 1, 0, 0, 1, 1, 0, 0, 0, 1, 1, 1,\n",
              "       1, 0, 0, 0, 0, 1, 0, 1, 1, 0, 1, 1, 0, 1, 0, 0, 1, 1, 1, 0, 1, 1,\n",
              "       1, 1, 1, 1, 1, 0, 1, 1, 1, 0, 0, 0, 0, 1, 1, 1, 1, 0, 0, 0, 1, 0,\n",
              "       0, 0, 1, 0, 0, 0, 1, 1, 0, 0, 0, 1, 0, 0, 1, 1, 1, 0, 1, 1, 1, 1])"
            ]
          },
          "metadata": {
            "tags": []
          },
          "execution_count": 90
        }
      ]
    },
    {
      "cell_type": "code",
      "metadata": {
        "id": "TrkOtyCY4NNN",
        "colab": {
          "base_uri": "https://localhost:8080/",
          "height": 34
        },
        "outputId": "050c423a-f396-4720-e390-d207c4084fee"
      },
      "source": [
        "# calculate score \n",
        "score = metrics.accuracy_score(y_test, pred_keras)\n",
        "test_score_keras = round(score, 4)\n",
        "\n",
        "print(\"Keras Classification results for test data:\", round(test_score_keras, 4))\n",
        "\n",
        "# append prediction\n",
        "scores['Keras val'] = test_score_keras"
      ],
      "execution_count": null,
      "outputs": [
        {
          "output_type": "stream",
          "text": [
            "Keras Classification results for test data: 0.7955\n"
          ],
          "name": "stdout"
        }
      ]
    },
    {
      "cell_type": "code",
      "metadata": {
        "id": "b8q_-spu4NEi",
        "colab": {
          "base_uri": "https://localhost:8080/",
          "height": 340
        },
        "outputId": "fdc401ac-d528-418d-f02a-927a3616b11b"
      },
      "source": [
        "# predicting for submission\n",
        "pred_keras = model_k.predict(test_features).flatten()\n",
        "\n",
        "pred_keras[pred_keras >= 0.5] = 1\n",
        "pred_keras[pred_keras < 0.5] = 0\n",
        "\n",
        "pred_keras = pred_keras.astype(int)\n",
        "\n",
        "pred_keras"
      ],
      "execution_count": null,
      "outputs": [
        {
          "output_type": "execute_result",
          "data": {
            "text/plain": [
              "array([0, 1, 0, 0, 1, 0, 1, 0, 1, 0, 0, 0, 1, 0, 1, 1, 0, 0, 1, 1, 0, 0,\n",
              "       1, 0, 1, 0, 1, 0, 1, 0, 0, 0, 1, 1, 0, 0, 1, 1, 0, 0, 0, 1, 0, 1,\n",
              "       1, 0, 0, 0, 1, 1, 0, 0, 1, 1, 0, 0, 0, 0, 0, 1, 0, 0, 0, 1, 1, 1,\n",
              "       1, 0, 1, 1, 1, 0, 1, 0, 1, 1, 0, 1, 0, 1, 0, 0, 0, 0, 0, 0, 1, 1,\n",
              "       1, 1, 1, 0, 1, 0, 0, 0, 1, 0, 1, 0, 1, 0, 0, 0, 1, 0, 0, 0, 0, 0,\n",
              "       0, 1, 1, 1, 1, 0, 0, 1, 0, 1, 1, 0, 1, 0, 0, 1, 0, 1, 0, 0, 0, 0,\n",
              "       1, 0, 0, 0, 0, 0, 1, 0, 1, 1, 1, 0, 0, 0, 0, 0, 1, 0, 1, 0, 0, 1,\n",
              "       0, 0, 1, 1, 0, 1, 1, 0, 1, 0, 0, 1, 0, 0, 1, 1, 0, 0, 0, 0, 0, 1,\n",
              "       1, 0, 1, 1, 0, 0, 1, 0, 1, 0, 1, 0, 1, 0, 0, 1, 0, 0, 0, 0, 1, 1,\n",
              "       0, 1, 1, 1, 1, 1, 0, 1, 1, 0, 1, 0, 0, 0, 0, 1, 1, 0, 1, 0, 1, 0,\n",
              "       1, 0, 1, 0, 1, 1, 0, 1, 0, 0, 0, 1, 0, 0, 0, 0, 0, 0, 1, 1, 1, 1,\n",
              "       0, 0, 0, 0, 1, 0, 1, 1, 1, 0, 1, 0, 0, 0, 0, 0, 1, 0, 0, 0, 1, 1,\n",
              "       0, 0, 0, 0, 1, 0, 0, 0, 1, 1, 0, 1, 0, 0, 0, 0, 1, 1, 1, 1, 1, 0,\n",
              "       0, 0, 0, 0, 0, 1, 0, 0, 0, 0, 1, 0, 0, 0, 0, 0, 0, 0, 1, 1, 1, 1,\n",
              "       0, 1, 0, 0, 0, 1, 1, 1, 0, 0, 0, 0, 0, 0, 0, 1, 1, 0, 1, 0, 0, 0,\n",
              "       1, 1, 0, 1, 0, 1, 0, 0, 0, 0, 0, 0, 0, 1, 0, 1, 0, 1, 0, 1, 1, 0,\n",
              "       0, 0, 1, 0, 1, 0, 0, 1, 0, 1, 1, 0, 1, 1, 0, 1, 1, 0, 0, 1, 0, 0,\n",
              "       1, 1, 1, 0, 0, 0, 0, 0, 1, 1, 0, 1, 0, 0, 0, 0, 0, 1, 0, 0, 0, 1,\n",
              "       0, 1, 0, 0, 1, 0, 1, 0, 0, 0, 0, 1, 1, 1, 1, 1, 1, 0, 1, 0, 0, 0])"
            ]
          },
          "metadata": {
            "tags": []
          },
          "execution_count": 92
        }
      ]
    },
    {
      "cell_type": "markdown",
      "metadata": {
        "id": "eiaGCyyxS-2_"
      },
      "source": [
        "# Stacking"
      ]
    },
    {
      "cell_type": "markdown",
      "metadata": {
        "id": "tdahFVXAryVC"
      },
      "source": [
        "Stacking Classifier documentation:\n",
        "\n",
        "https://scikit-learn.org/stable/modules/generated/sklearn.ensemble.StackingClassifier.html\n",
        "\n",
        "\"Stacked generalization consists in stacking the output of individual estimator and use a classifier to compute the final prediction. Stacking allows to use the strength of each individual estimator by using their output as input of a final estimator.\""
      ]
    },
    {
      "cell_type": "code",
      "metadata": {
        "id": "2-WoFHi2TCT3"
      },
      "source": [
        "# Stack up all the models above, optimized using xgboost\n",
        "\n",
        "\n",
        "# estimators = [('rf', rf),\n",
        "#               ('opt_rf', opt_rf),\n",
        "#               ('svc', svc),\n",
        "#               ('xgb', xgb),\n",
        "#               ('gbc', gbc)]\n",
        "\n",
        "\n",
        "# stack = StackingClassifier(estimators = estimators,\n",
        "#                            final_estimator = xgb,\n",
        "#                            cv = 10,             \n",
        "#                            n_jobs = -1,\n",
        "#                            verbose = 0)\n",
        "\n",
        "# stack.fit(X_train, y_train)"
      ],
      "execution_count": null,
      "outputs": []
    },
    {
      "cell_type": "code",
      "metadata": {
        "id": "65R3Yxv672wh"
      },
      "source": [
        "# predictions = stack.predict(X_test)\n",
        "\n",
        "# # calculate score \n",
        "# score = metrics.accuracy_score(y_test, predictions)\n",
        "# test_score_stack = round(score, 4)\n",
        "\n",
        "# print(\"Stacking results for test data:\", round(test_score_stack, 4))\n",
        "\n",
        "# # append prediction\n",
        "# scores['Stacking val'] = test_score_stack"
      ],
      "execution_count": null,
      "outputs": []
    },
    {
      "cell_type": "markdown",
      "metadata": {
        "id": "N-WD5SpJF0Ot"
      },
      "source": [
        "# Ensemble"
      ]
    },
    {
      "cell_type": "markdown",
      "metadata": {
        "id": "pPBr_bANF7N4"
      },
      "source": [
        "Voting classifiers: majority vote or soft vote.\n",
        "\n",
        "Using all classifiers: stacking, ensemble/voting or boosting.\n",
        "\n",
        "Using all regressors: stacking/blending."
      ]
    },
    {
      "cell_type": "markdown",
      "metadata": {
        "id": "dyj_oA6yTMI-"
      },
      "source": [
        "In classification it's not good practice to use blended models. There is no sense in averaging the predictions of different classifiers, since we want the output to be in range 0-1. \n",
        "\n",
        "This is why it's prefered to use a voting classifier system instead of a blending. We can use a majority vote (hard vote) or the average predicted probabilities (soft vote) to predict the class labels.\n",
        "\n",
        "https://scikit-learn.org/stable/modules/ensemble.html"
      ]
    },
    {
      "cell_type": "code",
      "metadata": {
        "id": "849MGNepaU4T",
        "colab": {
          "base_uri": "https://localhost:8080/",
          "height": 187
        },
        "outputId": "a3bfd7cd-26eb-437d-93d8-c039f418a8af"
      },
      "source": [
        "scores"
      ],
      "execution_count": null,
      "outputs": [
        {
          "output_type": "execute_result",
          "data": {
            "text/plain": [
              "{'DT val': 0.9727,\n",
              " 'ET val': 0.9727,\n",
              " 'GBC val': 0.8955,\n",
              " 'Keras val': 0.7955,\n",
              " 'Log_Reg val': 0.7773,\n",
              " 'MLP val': 0.8409,\n",
              " 'RF opt val': 0.9773,\n",
              " 'RF val': 0.9773,\n",
              " 'SVC val': 0.6864,\n",
              " 'XGB val': 0.8727}"
            ]
          },
          "metadata": {
            "tags": []
          },
          "execution_count": 95
        }
      ]
    },
    {
      "cell_type": "code",
      "metadata": {
        "id": "ts-qwLKiF5VR",
        "colab": {
          "base_uri": "https://localhost:8080/",
          "height": 102
        },
        "outputId": "d578cc5b-79d9-4f8c-c1a0-a8bb170d89ec"
      },
      "source": [
        "estimators = [('rf', rf),\n",
        "              ('opt_rf', opt_rf),\n",
        "              ('xgb', xgb),\n",
        "              ('gbc', gbc)]\n",
        "\n",
        "voting = VotingClassifier(estimators = estimators,\n",
        "                 voting='soft')\n",
        "\n",
        "# Cross Validation scores\n",
        "for clf, label in zip([rf, opt_rf, xgb, gbc, voting], ['rf', 'optm_rf', 'xgb', 'gbc', 'Ensemble']):\n",
        "  score = cross_val_score(clf, X_train, y_train, scoring='accuracy', cv = 5, verbose = 0)\n",
        "  print(\"Accuracy: %0.2f (+/- %0.2f) [%s]\" % (score.mean(), score.std(), label))"
      ],
      "execution_count": null,
      "outputs": [
        {
          "output_type": "stream",
          "text": [
            "Accuracy: 0.85 (+/- 0.05) [rf]\n",
            "Accuracy: 0.85 (+/- 0.05) [optm_rf]\n",
            "Accuracy: 0.84 (+/- 0.05) [xgb]\n",
            "Accuracy: 0.84 (+/- 0.06) [gbc]\n",
            "Accuracy: 0.86 (+/- 0.06) [Ensemble]\n"
          ],
          "name": "stdout"
        }
      ]
    },
    {
      "cell_type": "code",
      "metadata": {
        "id": "poHClRyVILut",
        "colab": {
          "base_uri": "https://localhost:8080/",
          "height": 34
        },
        "outputId": "0ef43e6a-e7c9-4ed4-a8f0-03eab5a46f9c"
      },
      "source": [
        "# fit\n",
        "voting.fit(X_train, y_train)\n",
        "\n",
        "# predict on test data\n",
        "predictions = voting.predict(X_test)\n",
        "\n",
        "# calculate score \n",
        "score = metrics.accuracy_score(y_test, predictions)\n",
        "test_score_voting = round(score, 4)\n",
        "\n",
        "print(\"Voting/Ensemble results for test data:\", round(test_score_voting, 4))\n",
        "\n",
        "# append prediction\n",
        "scores['Ensemble val'] = test_score_voting"
      ],
      "execution_count": null,
      "outputs": [
        {
          "output_type": "stream",
          "text": [
            "Voting/Ensemble results for test data: 0.95\n"
          ],
          "name": "stdout"
        }
      ]
    },
    {
      "cell_type": "code",
      "metadata": {
        "id": "tEBktBg9JEB0",
        "colab": {
          "base_uri": "https://localhost:8080/",
          "height": 204
        },
        "outputId": "4f5ab33e-95a0-4182-9a8a-e69499e256f1"
      },
      "source": [
        "scores"
      ],
      "execution_count": null,
      "outputs": [
        {
          "output_type": "execute_result",
          "data": {
            "text/plain": [
              "{'DT val': 0.9727,\n",
              " 'ET val': 0.9727,\n",
              " 'Ensemble val': 0.95,\n",
              " 'GBC val': 0.8955,\n",
              " 'Keras val': 0.7955,\n",
              " 'Log_Reg val': 0.7773,\n",
              " 'MLP val': 0.8409,\n",
              " 'RF opt val': 0.9773,\n",
              " 'RF val': 0.9773,\n",
              " 'SVC val': 0.6864,\n",
              " 'XGB val': 0.8727}"
            ]
          },
          "metadata": {
            "tags": []
          },
          "execution_count": 98
        }
      ]
    },
    {
      "cell_type": "markdown",
      "metadata": {
        "id": "OeAG-dwuHLJl"
      },
      "source": [
        "## Ensemble Report"
      ]
    },
    {
      "cell_type": "code",
      "metadata": {
        "id": "hY5thDMdG359",
        "colab": {
          "base_uri": "https://localhost:8080/",
          "height": 170
        },
        "outputId": "cb082e7f-43de-4369-bdf4-c5f97253b749"
      },
      "source": [
        "print(classification_report(y_test, predictions))"
      ],
      "execution_count": null,
      "outputs": [
        {
          "output_type": "stream",
          "text": [
            "              precision    recall  f1-score   support\n",
            "\n",
            "           0       0.94      0.96      0.95       110\n",
            "           1       0.96      0.94      0.95       110\n",
            "\n",
            "    accuracy                           0.95       220\n",
            "   macro avg       0.95      0.95      0.95       220\n",
            "weighted avg       0.95      0.95      0.95       220\n",
            "\n"
          ],
          "name": "stdout"
        }
      ]
    },
    {
      "cell_type": "code",
      "metadata": {
        "id": "XGDUC17HG3PE",
        "colab": {
          "base_uri": "https://localhost:8080/",
          "height": 51
        },
        "outputId": "8df0d457-1a88-4616-f3bb-279f20420f8b"
      },
      "source": [
        "confusion_matrix(predictions, y_test)"
      ],
      "execution_count": null,
      "outputs": [
        {
          "output_type": "execute_result",
          "data": {
            "text/plain": [
              "array([[106,   7],\n",
              "       [  4, 103]])"
            ]
          },
          "metadata": {
            "tags": []
          },
          "execution_count": 100
        }
      ]
    },
    {
      "cell_type": "markdown",
      "metadata": {
        "id": "OqVReQU8SgG_"
      },
      "source": [
        "# Accuracy Plot"
      ]
    },
    {
      "cell_type": "markdown",
      "metadata": {
        "id": "IqKjqG40gkyF"
      },
      "source": [
        "Plot only predicted values (results on test data: y_test). Don't plot CV (Cross Validation scores), just validation accuracies."
      ]
    },
    {
      "cell_type": "code",
      "metadata": {
        "id": "kFfIrkiMpx5l",
        "colab": {
          "base_uri": "https://localhost:8080/",
          "height": 204
        },
        "outputId": "371aba5b-3070-4cde-8c38-f43d31531f00"
      },
      "source": [
        "scores"
      ],
      "execution_count": null,
      "outputs": [
        {
          "output_type": "execute_result",
          "data": {
            "text/plain": [
              "{'DT val': 0.9727,\n",
              " 'ET val': 0.9727,\n",
              " 'Ensemble val': 0.95,\n",
              " 'GBC val': 0.8955,\n",
              " 'Keras val': 0.7955,\n",
              " 'Log_Reg val': 0.7773,\n",
              " 'MLP val': 0.8409,\n",
              " 'RF opt val': 0.9773,\n",
              " 'RF val': 0.9773,\n",
              " 'SVC val': 0.6864,\n",
              " 'XGB val': 0.8727}"
            ]
          },
          "metadata": {
            "tags": []
          },
          "execution_count": 101
        }
      ]
    },
    {
      "cell_type": "code",
      "metadata": {
        "id": "8v7ATCNYqLW9",
        "colab": {
          "base_uri": "https://localhost:8080/",
          "height": 54
        },
        "outputId": "1431b9db-d575-4e9d-97d6-db905772208a"
      },
      "source": [
        "scores.keys()"
      ],
      "execution_count": null,
      "outputs": [
        {
          "output_type": "execute_result",
          "data": {
            "text/plain": [
              "dict_keys(['RF val', 'RF opt val', 'SVC val', 'XGB val', 'MLP val', 'DT val', 'ET val', 'GBC val', 'Log_Reg val', 'Keras val', 'Ensemble val'])"
            ]
          },
          "metadata": {
            "tags": []
          },
          "execution_count": 102
        }
      ]
    },
    {
      "cell_type": "code",
      "metadata": {
        "id": "9wE2K06GpAwi",
        "colab": {
          "base_uri": "https://localhost:8080/",
          "height": 34
        },
        "outputId": "a599108d-4d2e-48f9-e470-5af5690823ac"
      },
      "source": [
        "scores.values()"
      ],
      "execution_count": null,
      "outputs": [
        {
          "output_type": "execute_result",
          "data": {
            "text/plain": [
              "dict_values([0.9773, 0.9773, 0.6864, 0.8727, 0.8409, 0.9727, 0.9727, 0.8955, 0.7773, 0.7955, 0.95])"
            ]
          },
          "metadata": {
            "tags": []
          },
          "execution_count": 103
        }
      ]
    },
    {
      "cell_type": "code",
      "metadata": {
        "id": "mMheUS3hkkT-",
        "colab": {
          "base_uri": "https://localhost:8080/",
          "height": 204
        },
        "outputId": "d081d019-cad8-4c9d-a50a-470f7b6ae08f"
      },
      "source": [
        "list(scores.values())"
      ],
      "execution_count": null,
      "outputs": [
        {
          "output_type": "execute_result",
          "data": {
            "text/plain": [
              "[0.9773,\n",
              " 0.9773,\n",
              " 0.6864,\n",
              " 0.8727,\n",
              " 0.8409,\n",
              " 0.9727,\n",
              " 0.9727,\n",
              " 0.8955,\n",
              " 0.7773,\n",
              " 0.7955,\n",
              " 0.95]"
            ]
          },
          "metadata": {
            "tags": []
          },
          "execution_count": 104
        }
      ]
    },
    {
      "cell_type": "code",
      "metadata": {
        "id": "ZUVJAq9SpAJs",
        "colab": {
          "base_uri": "https://localhost:8080/",
          "height": 51
        },
        "outputId": "2c7ac258-d4b4-40ab-a852-8b2129cd6e98"
      },
      "source": [
        "np.array(list(scores.values()))"
      ],
      "execution_count": null,
      "outputs": [
        {
          "output_type": "execute_result",
          "data": {
            "text/plain": [
              "array([0.9773, 0.9773, 0.6864, 0.8727, 0.8409, 0.9727, 0.9727, 0.8955,\n",
              "       0.7773, 0.7955, 0.95  ])"
            ]
          },
          "metadata": {
            "tags": []
          },
          "execution_count": 105
        }
      ]
    },
    {
      "cell_type": "code",
      "metadata": {
        "id": "zzDBf_w7n0dx"
      },
      "source": [
        "# transforming dictionary to array so we can plot it\n",
        "models = np.array(list(scores.keys()))\n",
        "values = np.array(list(scores.values()))"
      ],
      "execution_count": null,
      "outputs": []
    },
    {
      "cell_type": "code",
      "metadata": {
        "id": "hZQpQh1On0IM",
        "colab": {
          "base_uri": "https://localhost:8080/",
          "height": 34
        },
        "outputId": "8ac73b50-ae5c-49aa-dbaf-2e2842665730"
      },
      "source": [
        "# indices ordered from higher to lower score\n",
        "argsort = np.argsort(values)\n",
        "argsort"
      ],
      "execution_count": null,
      "outputs": [
        {
          "output_type": "execute_result",
          "data": {
            "text/plain": [
              "array([ 2,  8,  9,  4,  3,  7, 10,  5,  6,  0,  1])"
            ]
          },
          "metadata": {
            "tags": []
          },
          "execution_count": 107
        }
      ]
    },
    {
      "cell_type": "code",
      "metadata": {
        "id": "X0gU1bAimBJQ"
      },
      "source": [
        "# ordering: crating sorted arrays to plot\n",
        "values_sorted = values[argsort]\n",
        "models_sorted = models[argsort]"
      ],
      "execution_count": null,
      "outputs": []
    },
    {
      "cell_type": "markdown",
      "metadata": {
        "id": "JboA1v0OlZCv"
      },
      "source": [
        "## Plot"
      ]
    },
    {
      "cell_type": "code",
      "metadata": {
        "id": "TQ_CbcMLOTkB",
        "colab": {
          "base_uri": "https://localhost:8080/",
          "height": 296
        },
        "outputId": "9a35feb5-35f6-47c3-9ebe-268d33e7f20c"
      },
      "source": [
        "# plot accuracies\n",
        "plt.figure(figsize=(10,6))\n",
        "fig, ax = plt.subplots()\n",
        "ax.barh(models_sorted, values_sorted)\n",
        "plt.xlim(0,1)\n",
        "plt.title(\"Validation Accuracy\")\n",
        "for index, value in enumerate(values_sorted):\n",
        "    plt.text(value, index, str(round(value, 4)), fontsize = 12)"
      ],
      "execution_count": null,
      "outputs": [
        {
          "output_type": "display_data",
          "data": {
            "text/plain": [
              "<Figure size 720x432 with 0 Axes>"
            ]
          },
          "metadata": {
            "tags": []
          }
        },
        {
          "output_type": "display_data",
          "data": {
            "image/png": "[encoded data removed]",
            "text/plain": [
              "<Figure size 432x288 with 1 Axes>"
            ]
          },
          "metadata": {
            "tags": [],
            "needs_background": "light"
          }
        }
      ]
    },
    {
      "cell_type": "markdown",
      "metadata": {
        "id": "62RcxV1Tcr2X"
      },
      "source": [
        "# Submission to Kaggle"
      ]
    },
    {
      "cell_type": "code",
      "metadata": {
        "id": "7eWfoqhQZ57a",
        "colab": {
          "base_uri": "https://localhost:8080/",
          "height": 470
        },
        "outputId": "83eca016-f54c-4e97-b116-be5fe64402f2"
      },
      "source": [
        "df_test"
      ],
      "execution_count": null,
      "outputs": [
        {
          "output_type": "execute_result",
          "data": {
            "text/html": [
              "<div>\n",
              "<style scoped>\n",
              "    .dataframe tbody tr th:only-of-type {\n",
              "        vertical-align: middle;\n",
              "    }\n",
              "\n",
              "    .dataframe tbody tr th {\n",
              "        vertical-align: top;\n",
              "    }\n",
              "\n",
              "    .dataframe thead th {\n",
              "        text-align: right;\n",
              "    }\n",
              "</style>\n",
              "<table border=\"1\" class=\"dataframe\">\n",
              "  <thead>\n",
              "    <tr style=\"text-align: right;\">\n",
              "      <th></th>\n",
              "      <th>PassengerId</th>\n",
              "      <th>Pclass</th>\n",
              "      <th>Name</th>\n",
              "      <th>Sex</th>\n",
              "      <th>Age</th>\n",
              "      <th>SibSp</th>\n",
              "      <th>Parch</th>\n",
              "      <th>Ticket</th>\n",
              "      <th>Fare</th>\n",
              "      <th>Cabin</th>\n",
              "      <th>Embarked</th>\n",
              "    </tr>\n",
              "  </thead>\n",
              "  <tbody>\n",
              "    <tr>\n",
              "      <th>0</th>\n",
              "      <td>892</td>\n",
              "      <td>3</td>\n",
              "      <td>Kelly, Mr. James</td>\n",
              "      <td>male</td>\n",
              "      <td>34.5</td>\n",
              "      <td>0</td>\n",
              "      <td>0</td>\n",
              "      <td>330911</td>\n",
              "      <td>7.8292</td>\n",
              "      <td>NaN</td>\n",
              "      <td>Q</td>\n",
              "    </tr>\n",
              "    <tr>\n",
              "      <th>1</th>\n",
              "      <td>893</td>\n",
              "      <td>3</td>\n",
              "      <td>Wilkes, Mrs. James (Ellen Needs)</td>\n",
              "      <td>female</td>\n",
              "      <td>47.0</td>\n",
              "      <td>1</td>\n",
              "      <td>0</td>\n",
              "      <td>363272</td>\n",
              "      <td>7.0000</td>\n",
              "      <td>NaN</td>\n",
              "      <td>S</td>\n",
              "    </tr>\n",
              "    <tr>\n",
              "      <th>2</th>\n",
              "      <td>894</td>\n",
              "      <td>2</td>\n",
              "      <td>Myles, Mr. Thomas Francis</td>\n",
              "      <td>male</td>\n",
              "      <td>62.0</td>\n",
              "      <td>0</td>\n",
              "      <td>0</td>\n",
              "      <td>240276</td>\n",
              "      <td>9.6875</td>\n",
              "      <td>NaN</td>\n",
              "      <td>Q</td>\n",
              "    </tr>\n",
              "    <tr>\n",
              "      <th>3</th>\n",
              "      <td>895</td>\n",
              "      <td>3</td>\n",
              "      <td>Wirz, Mr. Albert</td>\n",
              "      <td>male</td>\n",
              "      <td>27.0</td>\n",
              "      <td>0</td>\n",
              "      <td>0</td>\n",
              "      <td>315154</td>\n",
              "      <td>8.6625</td>\n",
              "      <td>NaN</td>\n",
              "      <td>S</td>\n",
              "    </tr>\n",
              "    <tr>\n",
              "      <th>4</th>\n",
              "      <td>896</td>\n",
              "      <td>3</td>\n",
              "      <td>Hirvonen, Mrs. Alexander (Helga E Lindqvist)</td>\n",
              "      <td>female</td>\n",
              "      <td>22.0</td>\n",
              "      <td>1</td>\n",
              "      <td>1</td>\n",
              "      <td>3101298</td>\n",
              "      <td>12.2875</td>\n",
              "      <td>NaN</td>\n",
              "      <td>S</td>\n",
              "    </tr>\n",
              "    <tr>\n",
              "      <th>...</th>\n",
              "      <td>...</td>\n",
              "      <td>...</td>\n",
              "      <td>...</td>\n",
              "      <td>...</td>\n",
              "      <td>...</td>\n",
              "      <td>...</td>\n",
              "      <td>...</td>\n",
              "      <td>...</td>\n",
              "      <td>...</td>\n",
              "      <td>...</td>\n",
              "      <td>...</td>\n",
              "    </tr>\n",
              "    <tr>\n",
              "      <th>413</th>\n",
              "      <td>1305</td>\n",
              "      <td>3</td>\n",
              "      <td>Spector, Mr. Woolf</td>\n",
              "      <td>male</td>\n",
              "      <td>NaN</td>\n",
              "      <td>0</td>\n",
              "      <td>0</td>\n",
              "      <td>A.5. 3236</td>\n",
              "      <td>8.0500</td>\n",
              "      <td>NaN</td>\n",
              "      <td>S</td>\n",
              "    </tr>\n",
              "    <tr>\n",
              "      <th>414</th>\n",
              "      <td>1306</td>\n",
              "      <td>1</td>\n",
              "      <td>Oliva y Ocana, Dona. Fermina</td>\n",
              "      <td>female</td>\n",
              "      <td>39.0</td>\n",
              "      <td>0</td>\n",
              "      <td>0</td>\n",
              "      <td>PC 17758</td>\n",
              "      <td>108.9000</td>\n",
              "      <td>C105</td>\n",
              "      <td>C</td>\n",
              "    </tr>\n",
              "    <tr>\n",
              "      <th>415</th>\n",
              "      <td>1307</td>\n",
              "      <td>3</td>\n",
              "      <td>Saether, Mr. Simon Sivertsen</td>\n",
              "      <td>male</td>\n",
              "      <td>38.5</td>\n",
              "      <td>0</td>\n",
              "      <td>0</td>\n",
              "      <td>SOTON/O.Q. 3101262</td>\n",
              "      <td>7.2500</td>\n",
              "      <td>NaN</td>\n",
              "      <td>S</td>\n",
              "    </tr>\n",
              "    <tr>\n",
              "      <th>416</th>\n",
              "      <td>1308</td>\n",
              "      <td>3</td>\n",
              "      <td>Ware, Mr. Frederick</td>\n",
              "      <td>male</td>\n",
              "      <td>NaN</td>\n",
              "      <td>0</td>\n",
              "      <td>0</td>\n",
              "      <td>359309</td>\n",
              "      <td>8.0500</td>\n",
              "      <td>NaN</td>\n",
              "      <td>S</td>\n",
              "    </tr>\n",
              "    <tr>\n",
              "      <th>417</th>\n",
              "      <td>1309</td>\n",
              "      <td>3</td>\n",
              "      <td>Peter, Master. Michael J</td>\n",
              "      <td>male</td>\n",
              "      <td>NaN</td>\n",
              "      <td>1</td>\n",
              "      <td>1</td>\n",
              "      <td>2668</td>\n",
              "      <td>22.3583</td>\n",
              "      <td>NaN</td>\n",
              "      <td>C</td>\n",
              "    </tr>\n",
              "  </tbody>\n",
              "</table>\n",
              "<p>418 rows × 11 columns</p>\n",
              "</div>"
            ],
            "text/plain": [
              "     PassengerId  Pclass  ... Cabin Embarked\n",
              "0            892       3  ...   NaN        Q\n",
              "1            893       3  ...   NaN        S\n",
              "2            894       2  ...   NaN        Q\n",
              "3            895       3  ...   NaN        S\n",
              "4            896       3  ...   NaN        S\n",
              "..           ...     ...  ...   ...      ...\n",
              "413         1305       3  ...   NaN        S\n",
              "414         1306       1  ...  C105        C\n",
              "415         1307       3  ...   NaN        S\n",
              "416         1308       3  ...   NaN        S\n",
              "417         1309       3  ...   NaN        C\n",
              "\n",
              "[418 rows x 11 columns]"
            ]
          },
          "metadata": {
            "tags": []
          },
          "execution_count": 110
        }
      ]
    },
    {
      "cell_type": "code",
      "metadata": {
        "id": "Goq6bg_CdfwM",
        "colab": {
          "base_uri": "https://localhost:8080/",
          "height": 419
        },
        "outputId": "866c36c9-b791-43bd-97f4-142fa45a47f1"
      },
      "source": [
        "test_features"
      ],
      "execution_count": null,
      "outputs": [
        {
          "output_type": "execute_result",
          "data": {
            "text/html": [
              "<div>\n",
              "<style scoped>\n",
              "    .dataframe tbody tr th:only-of-type {\n",
              "        vertical-align: middle;\n",
              "    }\n",
              "\n",
              "    .dataframe tbody tr th {\n",
              "        vertical-align: top;\n",
              "    }\n",
              "\n",
              "    .dataframe thead th {\n",
              "        text-align: right;\n",
              "    }\n",
              "</style>\n",
              "<table border=\"1\" class=\"dataframe\">\n",
              "  <thead>\n",
              "    <tr style=\"text-align: right;\">\n",
              "      <th></th>\n",
              "      <th>Pclass</th>\n",
              "      <th>Sex</th>\n",
              "      <th>Age</th>\n",
              "      <th>Fare</th>\n",
              "    </tr>\n",
              "  </thead>\n",
              "  <tbody>\n",
              "    <tr>\n",
              "      <th>891</th>\n",
              "      <td>3</td>\n",
              "      <td>0</td>\n",
              "      <td>34.500000</td>\n",
              "      <td>7.8292</td>\n",
              "    </tr>\n",
              "    <tr>\n",
              "      <th>892</th>\n",
              "      <td>3</td>\n",
              "      <td>1</td>\n",
              "      <td>47.000000</td>\n",
              "      <td>7.0000</td>\n",
              "    </tr>\n",
              "    <tr>\n",
              "      <th>893</th>\n",
              "      <td>2</td>\n",
              "      <td>0</td>\n",
              "      <td>62.000000</td>\n",
              "      <td>9.6875</td>\n",
              "    </tr>\n",
              "    <tr>\n",
              "      <th>894</th>\n",
              "      <td>3</td>\n",
              "      <td>0</td>\n",
              "      <td>27.000000</td>\n",
              "      <td>8.6625</td>\n",
              "    </tr>\n",
              "    <tr>\n",
              "      <th>895</th>\n",
              "      <td>3</td>\n",
              "      <td>1</td>\n",
              "      <td>22.000000</td>\n",
              "      <td>12.2875</td>\n",
              "    </tr>\n",
              "    <tr>\n",
              "      <th>...</th>\n",
              "      <td>...</td>\n",
              "      <td>...</td>\n",
              "      <td>...</td>\n",
              "      <td>...</td>\n",
              "    </tr>\n",
              "    <tr>\n",
              "      <th>1304</th>\n",
              "      <td>3</td>\n",
              "      <td>0</td>\n",
              "      <td>30.585228</td>\n",
              "      <td>8.0500</td>\n",
              "    </tr>\n",
              "    <tr>\n",
              "      <th>1305</th>\n",
              "      <td>1</td>\n",
              "      <td>1</td>\n",
              "      <td>39.000000</td>\n",
              "      <td>108.9000</td>\n",
              "    </tr>\n",
              "    <tr>\n",
              "      <th>1306</th>\n",
              "      <td>3</td>\n",
              "      <td>0</td>\n",
              "      <td>38.500000</td>\n",
              "      <td>7.2500</td>\n",
              "    </tr>\n",
              "    <tr>\n",
              "      <th>1307</th>\n",
              "      <td>3</td>\n",
              "      <td>0</td>\n",
              "      <td>30.585228</td>\n",
              "      <td>8.0500</td>\n",
              "    </tr>\n",
              "    <tr>\n",
              "      <th>1308</th>\n",
              "      <td>3</td>\n",
              "      <td>0</td>\n",
              "      <td>30.585228</td>\n",
              "      <td>22.3583</td>\n",
              "    </tr>\n",
              "  </tbody>\n",
              "</table>\n",
              "<p>418 rows × 4 columns</p>\n",
              "</div>"
            ],
            "text/plain": [
              "      Pclass  Sex        Age      Fare\n",
              "891        3    0  34.500000    7.8292\n",
              "892        3    1  47.000000    7.0000\n",
              "893        2    0  62.000000    9.6875\n",
              "894        3    0  27.000000    8.6625\n",
              "895        3    1  22.000000   12.2875\n",
              "...      ...  ...        ...       ...\n",
              "1304       3    0  30.585228    8.0500\n",
              "1305       1    1  39.000000  108.9000\n",
              "1306       3    0  38.500000    7.2500\n",
              "1307       3    0  30.585228    8.0500\n",
              "1308       3    0  30.585228   22.3583\n",
              "\n",
              "[418 rows x 4 columns]"
            ]
          },
          "metadata": {
            "tags": []
          },
          "execution_count": 111
        }
      ]
    },
    {
      "cell_type": "code",
      "metadata": {
        "id": "Gvv2jiPndeSI",
        "colab": {
          "base_uri": "https://localhost:8080/",
          "height": 102
        },
        "outputId": "71df8032-811b-4c41-b5a4-50b76e0a0c43"
      },
      "source": [
        "empty_entries_per_column = test_features.isna().sum(axis = 0)\n",
        "empty_entries_per_column"
      ],
      "execution_count": null,
      "outputs": [
        {
          "output_type": "execute_result",
          "data": {
            "text/plain": [
              "Pclass    0\n",
              "Sex       0\n",
              "Age       0\n",
              "Fare      0\n",
              "dtype: int64"
            ]
          },
          "metadata": {
            "tags": []
          },
          "execution_count": 112
        }
      ]
    },
    {
      "cell_type": "code",
      "metadata": {
        "id": "MPVHTPzrfmaN",
        "colab": {
          "base_uri": "https://localhost:8080/",
          "height": 102
        },
        "outputId": "c53602df-f873-4e79-af36-4ac0b646ba01"
      },
      "source": [
        "empty_entries_per_column = test_features.isna().sum(axis = 0)\n",
        "empty_entries_per_column"
      ],
      "execution_count": null,
      "outputs": [
        {
          "output_type": "execute_result",
          "data": {
            "text/plain": [
              "Pclass    0\n",
              "Sex       0\n",
              "Age       0\n",
              "Fare      0\n",
              "dtype: int64"
            ]
          },
          "metadata": {
            "tags": []
          },
          "execution_count": 113
        }
      ]
    },
    {
      "cell_type": "code",
      "metadata": {
        "id": "LZjlMytRNL2P",
        "colab": {
          "base_uri": "https://localhost:8080/",
          "height": 419
        },
        "outputId": "fc979f4c-4cc3-4c3f-c66d-eea2e41338a3"
      },
      "source": [
        "test_features"
      ],
      "execution_count": null,
      "outputs": [
        {
          "output_type": "execute_result",
          "data": {
            "text/html": [
              "<div>\n",
              "<style scoped>\n",
              "    .dataframe tbody tr th:only-of-type {\n",
              "        vertical-align: middle;\n",
              "    }\n",
              "\n",
              "    .dataframe tbody tr th {\n",
              "        vertical-align: top;\n",
              "    }\n",
              "\n",
              "    .dataframe thead th {\n",
              "        text-align: right;\n",
              "    }\n",
              "</style>\n",
              "<table border=\"1\" class=\"dataframe\">\n",
              "  <thead>\n",
              "    <tr style=\"text-align: right;\">\n",
              "      <th></th>\n",
              "      <th>Pclass</th>\n",
              "      <th>Sex</th>\n",
              "      <th>Age</th>\n",
              "      <th>Fare</th>\n",
              "    </tr>\n",
              "  </thead>\n",
              "  <tbody>\n",
              "    <tr>\n",
              "      <th>891</th>\n",
              "      <td>3</td>\n",
              "      <td>0</td>\n",
              "      <td>34.500000</td>\n",
              "      <td>7.8292</td>\n",
              "    </tr>\n",
              "    <tr>\n",
              "      <th>892</th>\n",
              "      <td>3</td>\n",
              "      <td>1</td>\n",
              "      <td>47.000000</td>\n",
              "      <td>7.0000</td>\n",
              "    </tr>\n",
              "    <tr>\n",
              "      <th>893</th>\n",
              "      <td>2</td>\n",
              "      <td>0</td>\n",
              "      <td>62.000000</td>\n",
              "      <td>9.6875</td>\n",
              "    </tr>\n",
              "    <tr>\n",
              "      <th>894</th>\n",
              "      <td>3</td>\n",
              "      <td>0</td>\n",
              "      <td>27.000000</td>\n",
              "      <td>8.6625</td>\n",
              "    </tr>\n",
              "    <tr>\n",
              "      <th>895</th>\n",
              "      <td>3</td>\n",
              "      <td>1</td>\n",
              "      <td>22.000000</td>\n",
              "      <td>12.2875</td>\n",
              "    </tr>\n",
              "    <tr>\n",
              "      <th>...</th>\n",
              "      <td>...</td>\n",
              "      <td>...</td>\n",
              "      <td>...</td>\n",
              "      <td>...</td>\n",
              "    </tr>\n",
              "    <tr>\n",
              "      <th>1304</th>\n",
              "      <td>3</td>\n",
              "      <td>0</td>\n",
              "      <td>30.585228</td>\n",
              "      <td>8.0500</td>\n",
              "    </tr>\n",
              "    <tr>\n",
              "      <th>1305</th>\n",
              "      <td>1</td>\n",
              "      <td>1</td>\n",
              "      <td>39.000000</td>\n",
              "      <td>108.9000</td>\n",
              "    </tr>\n",
              "    <tr>\n",
              "      <th>1306</th>\n",
              "      <td>3</td>\n",
              "      <td>0</td>\n",
              "      <td>38.500000</td>\n",
              "      <td>7.2500</td>\n",
              "    </tr>\n",
              "    <tr>\n",
              "      <th>1307</th>\n",
              "      <td>3</td>\n",
              "      <td>0</td>\n",
              "      <td>30.585228</td>\n",
              "      <td>8.0500</td>\n",
              "    </tr>\n",
              "    <tr>\n",
              "      <th>1308</th>\n",
              "      <td>3</td>\n",
              "      <td>0</td>\n",
              "      <td>30.585228</td>\n",
              "      <td>22.3583</td>\n",
              "    </tr>\n",
              "  </tbody>\n",
              "</table>\n",
              "<p>418 rows × 4 columns</p>\n",
              "</div>"
            ],
            "text/plain": [
              "      Pclass  Sex        Age      Fare\n",
              "891        3    0  34.500000    7.8292\n",
              "892        3    1  47.000000    7.0000\n",
              "893        2    0  62.000000    9.6875\n",
              "894        3    0  27.000000    8.6625\n",
              "895        3    1  22.000000   12.2875\n",
              "...      ...  ...        ...       ...\n",
              "1304       3    0  30.585228    8.0500\n",
              "1305       1    1  39.000000  108.9000\n",
              "1306       3    0  38.500000    7.2500\n",
              "1307       3    0  30.585228    8.0500\n",
              "1308       3    0  30.585228   22.3583\n",
              "\n",
              "[418 rows x 4 columns]"
            ]
          },
          "metadata": {
            "tags": []
          },
          "execution_count": 114
        }
      ]
    },
    {
      "cell_type": "markdown",
      "metadata": {
        "id": "zGQKTPNsOHg1"
      },
      "source": [
        "## Final Predictions"
      ]
    },
    {
      "cell_type": "markdown",
      "metadata": {
        "id": "57tvEg4lQbIB"
      },
      "source": [
        "Apparently there is a bug when using XGBoost with SciKit learn and DataFrame. It occours while calling the fit or predict method, if XGB is in the final pipeline (voting classifier, in this case).\n",
        "\n",
        "Solution: just add .values to transform the DataFrame into a ndarray. Just some bug in XGBoost interface/API."
      ]
    },
    {
      "cell_type": "code",
      "metadata": {
        "id": "0vGwWvYkd-XV",
        "colab": {
          "base_uri": "https://localhost:8080/",
          "height": 340
        },
        "outputId": "05c41b66-4ddf-4f96-c073-65d2bd28ef91"
      },
      "source": [
        "final_pred = voting.predict(test_features.values)\n",
        "final_pred"
      ],
      "execution_count": null,
      "outputs": [
        {
          "output_type": "execute_result",
          "data": {
            "text/plain": [
              "array([0, 0, 0, 0, 1, 0, 0, 0, 1, 0, 0, 0, 1, 0, 1, 1, 0, 0, 1, 0, 0, 0,\n",
              "       1, 0, 1, 0, 1, 0, 1, 0, 0, 0, 1, 0, 1, 0, 0, 0, 0, 1, 0, 1, 0, 1,\n",
              "       1, 0, 0, 0, 1, 1, 1, 0, 1, 1, 0, 0, 0, 0, 0, 1, 0, 0, 0, 1, 0, 1,\n",
              "       1, 0, 0, 1, 1, 0, 1, 0, 1, 0, 0, 1, 0, 1, 1, 0, 0, 0, 0, 0, 1, 1,\n",
              "       1, 1, 0, 0, 1, 0, 0, 0, 1, 0, 1, 0, 1, 0, 0, 0, 1, 0, 0, 0, 0, 0,\n",
              "       0, 1, 1, 1, 1, 0, 0, 1, 0, 1, 1, 0, 1, 0, 0, 1, 0, 1, 0, 0, 1, 0,\n",
              "       0, 0, 0, 0, 0, 0, 0, 0, 0, 1, 0, 0, 1, 0, 0, 0, 1, 0, 1, 0, 0, 1,\n",
              "       0, 0, 1, 1, 1, 1, 1, 1, 1, 0, 0, 1, 0, 0, 1, 0, 0, 0, 0, 0, 0, 1,\n",
              "       1, 0, 1, 1, 0, 0, 1, 0, 1, 0, 1, 0, 0, 0, 0, 0, 0, 0, 1, 0, 1, 1,\n",
              "       0, 0, 1, 1, 0, 1, 0, 0, 0, 0, 1, 0, 0, 0, 0, 1, 0, 0, 1, 0, 1, 0,\n",
              "       1, 0, 1, 0, 1, 0, 0, 1, 0, 0, 0, 1, 0, 0, 0, 0, 0, 0, 1, 1, 1, 1,\n",
              "       0, 0, 0, 0, 1, 0, 1, 0, 1, 0, 0, 0, 0, 0, 0, 0, 1, 0, 0, 0, 1, 1,\n",
              "       0, 0, 0, 0, 0, 0, 0, 0, 1, 1, 0, 1, 0, 0, 0, 0, 0, 1, 1, 0, 1, 0,\n",
              "       0, 0, 0, 0, 0, 0, 0, 0, 0, 0, 1, 0, 0, 0, 0, 0, 0, 0, 1, 1, 0, 1,\n",
              "       0, 0, 0, 0, 0, 0, 1, 1, 0, 0, 0, 0, 0, 0, 0, 1, 1, 0, 1, 0, 0, 0,\n",
              "       1, 0, 0, 1, 0, 0, 0, 0, 0, 0, 0, 0, 0, 1, 0, 1, 0, 0, 0, 1, 1, 0,\n",
              "       0, 0, 1, 0, 1, 0, 0, 1, 0, 1, 1, 0, 1, 0, 0, 0, 1, 0, 0, 1, 0, 0,\n",
              "       1, 1, 0, 0, 0, 0, 0, 0, 0, 0, 0, 1, 0, 0, 0, 0, 0, 1, 0, 0, 0, 1,\n",
              "       0, 1, 0, 0, 1, 0, 1, 0, 0, 0, 0, 0, 1, 1, 1, 1, 1, 0, 1, 0, 0, 0])"
            ]
          },
          "metadata": {
            "tags": []
          },
          "execution_count": 115
        }
      ]
    },
    {
      "cell_type": "code",
      "metadata": {
        "id": "1BpcWuMkfaoq",
        "colab": {
          "base_uri": "https://localhost:8080/",
          "height": 221
        },
        "outputId": "0a33c551-b686-49ca-d9a5-d18195891334"
      },
      "source": [
        "df_test.head()"
      ],
      "execution_count": null,
      "outputs": [
        {
          "output_type": "execute_result",
          "data": {
            "text/html": [
              "<div>\n",
              "<style scoped>\n",
              "    .dataframe tbody tr th:only-of-type {\n",
              "        vertical-align: middle;\n",
              "    }\n",
              "\n",
              "    .dataframe tbody tr th {\n",
              "        vertical-align: top;\n",
              "    }\n",
              "\n",
              "    .dataframe thead th {\n",
              "        text-align: right;\n",
              "    }\n",
              "</style>\n",
              "<table border=\"1\" class=\"dataframe\">\n",
              "  <thead>\n",
              "    <tr style=\"text-align: right;\">\n",
              "      <th></th>\n",
              "      <th>PassengerId</th>\n",
              "      <th>Pclass</th>\n",
              "      <th>Name</th>\n",
              "      <th>Sex</th>\n",
              "      <th>Age</th>\n",
              "      <th>SibSp</th>\n",
              "      <th>Parch</th>\n",
              "      <th>Ticket</th>\n",
              "      <th>Fare</th>\n",
              "      <th>Cabin</th>\n",
              "      <th>Embarked</th>\n",
              "    </tr>\n",
              "  </thead>\n",
              "  <tbody>\n",
              "    <tr>\n",
              "      <th>0</th>\n",
              "      <td>892</td>\n",
              "      <td>3</td>\n",
              "      <td>Kelly, Mr. James</td>\n",
              "      <td>male</td>\n",
              "      <td>34.5</td>\n",
              "      <td>0</td>\n",
              "      <td>0</td>\n",
              "      <td>330911</td>\n",
              "      <td>7.8292</td>\n",
              "      <td>NaN</td>\n",
              "      <td>Q</td>\n",
              "    </tr>\n",
              "    <tr>\n",
              "      <th>1</th>\n",
              "      <td>893</td>\n",
              "      <td>3</td>\n",
              "      <td>Wilkes, Mrs. James (Ellen Needs)</td>\n",
              "      <td>female</td>\n",
              "      <td>47.0</td>\n",
              "      <td>1</td>\n",
              "      <td>0</td>\n",
              "      <td>363272</td>\n",
              "      <td>7.0000</td>\n",
              "      <td>NaN</td>\n",
              "      <td>S</td>\n",
              "    </tr>\n",
              "    <tr>\n",
              "      <th>2</th>\n",
              "      <td>894</td>\n",
              "      <td>2</td>\n",
              "      <td>Myles, Mr. Thomas Francis</td>\n",
              "      <td>male</td>\n",
              "      <td>62.0</td>\n",
              "      <td>0</td>\n",
              "      <td>0</td>\n",
              "      <td>240276</td>\n",
              "      <td>9.6875</td>\n",
              "      <td>NaN</td>\n",
              "      <td>Q</td>\n",
              "    </tr>\n",
              "    <tr>\n",
              "      <th>3</th>\n",
              "      <td>895</td>\n",
              "      <td>3</td>\n",
              "      <td>Wirz, Mr. Albert</td>\n",
              "      <td>male</td>\n",
              "      <td>27.0</td>\n",
              "      <td>0</td>\n",
              "      <td>0</td>\n",
              "      <td>315154</td>\n",
              "      <td>8.6625</td>\n",
              "      <td>NaN</td>\n",
              "      <td>S</td>\n",
              "    </tr>\n",
              "    <tr>\n",
              "      <th>4</th>\n",
              "      <td>896</td>\n",
              "      <td>3</td>\n",
              "      <td>Hirvonen, Mrs. Alexander (Helga E Lindqvist)</td>\n",
              "      <td>female</td>\n",
              "      <td>22.0</td>\n",
              "      <td>1</td>\n",
              "      <td>1</td>\n",
              "      <td>3101298</td>\n",
              "      <td>12.2875</td>\n",
              "      <td>NaN</td>\n",
              "      <td>S</td>\n",
              "    </tr>\n",
              "  </tbody>\n",
              "</table>\n",
              "</div>"
            ],
            "text/plain": [
              "   PassengerId  Pclass  ... Cabin Embarked\n",
              "0          892       3  ...   NaN        Q\n",
              "1          893       3  ...   NaN        S\n",
              "2          894       2  ...   NaN        Q\n",
              "3          895       3  ...   NaN        S\n",
              "4          896       3  ...   NaN        S\n",
              "\n",
              "[5 rows x 11 columns]"
            ]
          },
          "metadata": {
            "tags": []
          },
          "execution_count": 116
        }
      ]
    },
    {
      "cell_type": "code",
      "metadata": {
        "id": "lV5LuBl_9Jd0"
      },
      "source": [
        "# # only keras\n",
        "# submission = pd.DataFrame({\n",
        "#             \"PassengerId\" : df_test['PassengerId'],\n",
        "#             \"Survived\" : pred_keras\n",
        "#             })\n",
        "\n",
        "# submission.head()"
      ],
      "execution_count": null,
      "outputs": []
    },
    {
      "cell_type": "code",
      "metadata": {
        "id": "EdZ2GqM5ADR1"
      },
      "source": [
        "# submission.dtypes"
      ],
      "execution_count": null,
      "outputs": []
    },
    {
      "cell_type": "code",
      "metadata": {
        "id": "7vj7d7Vlei5m",
        "colab": {
          "base_uri": "https://localhost:8080/",
          "height": 204
        },
        "outputId": "fa35c9ac-f982-4d3f-fade-9044b255179c"
      },
      "source": [
        "submission = pd.DataFrame({\n",
        "            \"PassengerId\" : df_test['PassengerId'],\n",
        "            \"Survived\" : final_pred\n",
        "            })\n",
        "\n",
        "submission.head()"
      ],
      "execution_count": null,
      "outputs": [
        {
          "output_type": "execute_result",
          "data": {
            "text/html": [
              "<div>\n",
              "<style scoped>\n",
              "    .dataframe tbody tr th:only-of-type {\n",
              "        vertical-align: middle;\n",
              "    }\n",
              "\n",
              "    .dataframe tbody tr th {\n",
              "        vertical-align: top;\n",
              "    }\n",
              "\n",
              "    .dataframe thead th {\n",
              "        text-align: right;\n",
              "    }\n",
              "</style>\n",
              "<table border=\"1\" class=\"dataframe\">\n",
              "  <thead>\n",
              "    <tr style=\"text-align: right;\">\n",
              "      <th></th>\n",
              "      <th>PassengerId</th>\n",
              "      <th>Survived</th>\n",
              "    </tr>\n",
              "  </thead>\n",
              "  <tbody>\n",
              "    <tr>\n",
              "      <th>0</th>\n",
              "      <td>892</td>\n",
              "      <td>0</td>\n",
              "    </tr>\n",
              "    <tr>\n",
              "      <th>1</th>\n",
              "      <td>893</td>\n",
              "      <td>0</td>\n",
              "    </tr>\n",
              "    <tr>\n",
              "      <th>2</th>\n",
              "      <td>894</td>\n",
              "      <td>0</td>\n",
              "    </tr>\n",
              "    <tr>\n",
              "      <th>3</th>\n",
              "      <td>895</td>\n",
              "      <td>0</td>\n",
              "    </tr>\n",
              "    <tr>\n",
              "      <th>4</th>\n",
              "      <td>896</td>\n",
              "      <td>1</td>\n",
              "    </tr>\n",
              "  </tbody>\n",
              "</table>\n",
              "</div>"
            ],
            "text/plain": [
              "   PassengerId  Survived\n",
              "0          892         0\n",
              "1          893         0\n",
              "2          894         0\n",
              "3          895         0\n",
              "4          896         1"
            ]
          },
          "metadata": {
            "tags": []
          },
          "execution_count": 119
        }
      ]
    },
    {
      "cell_type": "code",
      "metadata": {
        "id": "4SAKDqHZAxc1",
        "colab": {
          "base_uri": "https://localhost:8080/",
          "height": 68
        },
        "outputId": "e5d7981a-dfc9-4e22-d0d1-1f590997f71b"
      },
      "source": [
        "submission.dtypes"
      ],
      "execution_count": null,
      "outputs": [
        {
          "output_type": "execute_result",
          "data": {
            "text/plain": [
              "PassengerId    int64\n",
              "Survived       int64\n",
              "dtype: object"
            ]
          },
          "metadata": {
            "tags": []
          },
          "execution_count": 120
        }
      ]
    },
    {
      "cell_type": "code",
      "metadata": {
        "id": "Aa_XwDyhhA-_",
        "colab": {
          "base_uri": "https://localhost:8080/",
          "height": 34
        },
        "outputId": "ad00fad9-4690-4423-d712-51fad58f327f"
      },
      "source": [
        "submission.shape"
      ],
      "execution_count": null,
      "outputs": [
        {
          "output_type": "execute_result",
          "data": {
            "text/plain": [
              "(418, 2)"
            ]
          },
          "metadata": {
            "tags": []
          },
          "execution_count": 121
        }
      ]
    },
    {
      "cell_type": "code",
      "metadata": {
        "id": "PjJnsCriiMLa"
      },
      "source": [
        "filename = 'Titanic_Survival.csv'\n",
        "submission.to_csv(filename, index=False)\n",
        "# goes to colab environment / working directory:   /content"
      ],
      "execution_count": null,
      "outputs": []
    },
    {
      "cell_type": "markdown",
      "metadata": {
        "id": "f1iEEyXTUsa8"
      },
      "source": [
        "# Possible improvements"
      ]
    },
    {
      "cell_type": "markdown",
      "metadata": {
        "id": "YkIuRtwEU0Tl"
      },
      "source": [
        "1. Feature Engineering, Label Enconde Cabin, Embark...\n",
        "2. Stacking\n",
        "3. GaussianNB, KNN, LightGBM...\n",
        "4. Scale SVC\n",
        "5. scikit optimize (all models)\n",
        "6. other ensemble methods"
      ]
    }
  ]
}